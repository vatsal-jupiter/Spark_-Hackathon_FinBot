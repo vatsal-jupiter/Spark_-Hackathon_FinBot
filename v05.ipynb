{
 "cells": [
  {
   "cell_type": "code",
   "execution_count": 1,
   "id": "4129f952-92ea-4077-8369-56e8344b5662",
   "metadata": {},
   "outputs": [],
   "source": [
    "import pandas as pd\n",
    "from dotenv import load_dotenv\n",
    "import os"
   ]
  },
  {
   "cell_type": "code",
   "execution_count": 2,
   "id": "bfaa75a0-fe82-47cf-abfb-4e025508e96e",
   "metadata": {},
   "outputs": [
    {
     "data": {
      "text/plain": [
       "True"
      ]
     },
     "execution_count": 2,
     "metadata": {},
     "output_type": "execute_result"
    }
   ],
   "source": [
    "load_dotenv()"
   ]
  },
  {
   "cell_type": "code",
   "execution_count": 3,
   "id": "85049b93-7cd3-4220-bafe-7bdc19d26bf7",
   "metadata": {},
   "outputs": [],
   "source": [
    "os.environ[\"OPENAPI_API_KEY\"] = os.getenv(\"OPENAI_API_KEY\")\n",
    "os.environ[\"LANGCHAIN_API_KEY\"] = os.getenv(\"LANGCHAIN_API_KEY\")\n",
    "os.environ[\"LANGCHAIN_TRACING_V2\"] = \"true\"\n",
    "os.environ[\"LANGCHAIN_PROJECT\"] = os.getenv(\"LANGCHAIN_PROJECT\")\n",
    "os.environ[\"HF_TOKEN\"] = os.getenv(\"HF_TOKEN\")\n",
    "os.environ[\"GROQ_API_KEY\"] = os.getenv(\"GROQ_API_KEY\")\n",
    "os.environ[\"TAVILY_API_KEY\"] = os.getenv(\"TAVILY_API_KEY\")"
   ]
  },
  {
   "cell_type": "code",
   "execution_count": 4,
   "id": "bf48ea56-73e2-4d63-8af4-0990aed1a0fb",
   "metadata": {},
   "outputs": [],
   "source": [
    "# import pandas as pd\n",
    "\n",
    "# df = pd.read_csv(\"./vatsal_txn_data.csv\")\n",
    "# print(df.shape)\n",
    "# print(df.columns.tolist())"
   ]
  },
  {
   "cell_type": "code",
   "execution_count": 5,
   "id": "6f541859-7ec4-4dae-b1a1-8f169a996375",
   "metadata": {},
   "outputs": [],
   "source": [
    "# df.groupby(['transactionchannel','transactiontype']).size()"
   ]
  },
  {
   "cell_type": "code",
   "execution_count": 6,
   "id": "01ec5b7d-01ec-44bd-83fd-ad6fe0e8c060",
   "metadata": {},
   "outputs": [],
   "source": [
    "# from langchain_openai import ChatOpenAI\n",
    "# chat_model = ChatOpenAI(model=\"gpt-4o-mini\")"
   ]
  },
  {
   "cell_type": "code",
   "execution_count": 7,
   "id": "65a77abb-c10c-41af-b895-f424ca355bb0",
   "metadata": {},
   "outputs": [],
   "source": [
    "os.environ[\"AZURE_OPENAI_API_KEY\"] = \"991aaf91f70042f79584ae6a32330c3d\"\n",
    "os.environ[\"AZURE_OPENAI_ENDPOINT\"] = \"https://ds-genai-gpt4o-hackathon.openai.azure.com/\"\n",
    "\n",
    "\n",
    "from langchain_openai import AzureChatOpenAI\n",
    "\n",
    "chat_model = AzureChatOpenAI(\n",
    "    azure_deployment=\"gpt-4o-mini\",  # or your deployment\n",
    "    api_version=\"2023-03-15-preview\",  # or your api version\n",
    "    temperature=0,\n",
    "    max_tokens=None,\n",
    "    timeout=None,\n",
    "    max_retries=2,\n",
    ")"
   ]
  },
  {
   "cell_type": "code",
   "execution_count": 8,
   "id": "ba20a6ac-b087-40d6-b9fd-68411a0d7c92",
   "metadata": {},
   "outputs": [],
   "source": [
    "# chat_model.invoke(\"Hi\")"
   ]
  },
  {
   "cell_type": "code",
   "execution_count": 9,
   "id": "2455ae97-2d35-4214-9522-f51ca1b74f4e",
   "metadata": {},
   "outputs": [],
   "source": [
    "from langchain_core.messages import ToolMessage\n",
    "from langchain_core.pydantic_v1 import ValidationError\n",
    "\n",
    "class ResponderWithRetries:\n",
    "    def __init__(self, runnable, validator):\n",
    "        self.runnable = runnable\n",
    "        self.validator = validator\n",
    "\n",
    "    def respond(self, state):\n",
    "        response = []\n",
    "        for attempt in range(3):\n",
    "            response = self.runnable.invoke(\n",
    "                state, {\"tags\": [f\"attempt:{attempt}\"]}\n",
    "            )\n",
    "            try:\n",
    "                self.validator.invoke(response)\n",
    "                return {\"intermediate_steps\":[response]}\n",
    "            except ValidationError as e:\n",
    "                state[\"intermediate_steps\"] = state[\"intermediate_steps\"] + [\n",
    "                    response,\n",
    "                    ToolMessage(\n",
    "                        content=f\"{repr(e)}\\n\\nPay close attention to the function schema.\\n\\n\"\n",
    "                        + self.validator.schema_json()\n",
    "                        + \" Respond by fixing all validation errors.\",\n",
    "                        tool_call_id=response.tool_calls[0][\"id\"],\n",
    "                    ),\n",
    "                ]\n",
    "        return {\"intermediate_steps\":[response]}"
   ]
  },
  {
   "cell_type": "code",
   "execution_count": 10,
   "id": "12299117-9fdb-4147-ae89-8410367cd9d7",
   "metadata": {},
   "outputs": [],
   "source": [
    "from langchain.agents import AgentExecutor, create_openai_tools_agent\n",
    "from langchain_core.messages import BaseMessage, HumanMessage\n",
    "from langchain_openai import ChatOpenAI\n",
    "from langchain_core.prompts.chat import ChatPromptTemplate, MessagesPlaceholder\n",
    "\n",
    "\n",
    "def create_agent(chat_model: ChatOpenAI, tools: list, system_prompt: str):\n",
    "    prompt = ChatPromptTemplate.from_messages(\n",
    "        [\n",
    "            (\n",
    "                \"system\",\n",
    "                system_prompt,\n",
    "            ),\n",
    "            MessagesPlaceholder(variable_name=\"messages\"),\n",
    "            MessagesPlaceholder(variable_name=\"agent_scratchpad\"),\n",
    "        ]\n",
    "    )\n",
    "    agent = create_openai_tools_agent(chat_model, tools, prompt)\n",
    "    executor = AgentExecutor(agent=agent, tools=tools, verbose = True)\n",
    "    return executor"
   ]
  },
  {
   "cell_type": "code",
   "execution_count": 11,
   "id": "1dfae06a-5b5c-462c-8767-6d3f7fe9fe5f",
   "metadata": {},
   "outputs": [],
   "source": [
    "# Converting to executable node\n",
    "def agent_node(state, agent, name):\n",
    "    # result = agent.invoke(state)\n",
    "    result = agent.invoke({\"messages\":state[\"messages\"]})\n",
    "    return {\"messages\": [AIMessage(content=result[\"output\"], name=name)]}"
   ]
  },
  {
   "cell_type": "markdown",
   "id": "133b3c33-b399-43cb-920b-6801d6069dcb",
   "metadata": {},
   "source": [
    "### Data fetcher"
   ]
  },
  {
   "cell_type": "code",
   "execution_count": 12,
   "id": "facd072a-161c-42d4-a596-c4d47c982188",
   "metadata": {},
   "outputs": [],
   "source": [
    "transactionchannel = ['MANDATE','RTGS','NEFT','IMPS','DEBIT_CARD','CREDIT_CARD','UPI','ATM']\n",
    "bank_names = [\"State Bank of India\",\"HDFC Bank\",\"Kotak Mahindra Bank\",\"Bank of Baroda\",\"Axis Bank\",\"ICICI Bank\",\"IDFC First Bank\",\n",
    "              \"Federal Bank\",\"Union Bank\",\"Canara Bank\",\"Punjab National Bank\",\"IndusInd Bank\",\"Bank of India\",\"Yes Bank\",\n",
    "              \"AU Small Finance Bank\",\"Indian Overseas Bank\",\"UCO Bank\",\"Karnataka Bank\",\"Karur Vysya Bank\",\"Punjab and Sind Bank\",\n",
    "             \"Indian Bank\",\"Bank of Maharashtra\",\"Central Bank of India\"]\n",
    "credit_cards = [\"Edge VISA card\",\"Edge Rupay card\"]\n",
    "# existing_products = ['JUPITER', 'ADA','CREDIT_CARD']\n",
    "existing_products = ['JUPITER'] + bank_names + credit_cards\n",
    "creditdebitindicator = ['DEBIT', 'CREDIT']\n",
    "coarsegrain_category = ['food & drinks','pots','transfers','groceries','rent','pots withdrawal','miscellaneous', 'atm', 'credit', 'uncategorised',\n",
    " 'bills & utilities', 'charity', 'shopping', 'medical', 'credit bills', 'entertainment', 'travel', 'commute', 'personal care',\n",
    " 'investments', 'self transfers', 'fuel', 'refund', 'home services', 'family & pets', 'money transfers', 'edge card bill',\n",
    " 'interest', 'household', 'loans','rewards']\n"
   ]
  },
  {
   "cell_type": "code",
   "execution_count": 13,
   "id": "06e5f3f3-94ff-4f83-9d00-de001757519f",
   "metadata": {},
   "outputs": [],
   "source": [
    "# from pydantic import BaseModel, Field, validator\n",
    "# from typing import List, Literal, Optional, Tuple\n",
    "# from datetime import datetime, timedelta\n",
    "\n",
    "# class AmountRange(BaseModel):\n",
    "#     min: Optional[float] = Field(\n",
    "#         default=None,\n",
    "#         description=\"The minimum transaction amount for filtering. Can be None.\"\n",
    "#     )\n",
    "#     max: Optional[float] = Field(\n",
    "#         default=None,\n",
    "#         description=\"The maximum transaction amount for filtering. Can be None.\"\n",
    "#     )\n",
    "\n",
    "\n",
    "# class DateRange(BaseModel):\n",
    "#     start: Optional[datetime] = Field(\n",
    "#         default_factory=lambda: datetime.now().replace(hour=0, minute=0, second=0, microsecond=0),\n",
    "#         description=\"The start date for filtering transactions. Defaults to today's date.\"\n",
    "#     )\n",
    "#     end: Optional[datetime] = Field(\n",
    "#         default_factory=datetime.now,\n",
    "#         description=\"The end date for filtering transactions. Defaults to the current time if not provided.\"\n",
    "#     )\n",
    "    \n",
    "\n",
    "# class TransactionData(BaseModel):\n",
    "#     transaction_channel: List[Literal[*transactionchannel]] = Field(\n",
    "#         default=transactionchannel, \n",
    "#         description=\"The channels through which the transaction was made.\"\n",
    "#     )\n",
    "#     product: List[Literal[*existing_products]] = Field(\n",
    "#         default=existing_products, \n",
    "#         description=\"The products associated with the transaction. Can be a JUPITER or external bank (ADA)\"\n",
    "#     )\n",
    "#     credit_debit_indicator: List[Literal[*creditdebitindicator]] = Field(\n",
    "#         default=creditdebitindicator, \n",
    "#         description=\"Indicators whether the transactions are debits or credits.\"\n",
    "#     )\n",
    "#     coarse_grain_category: List[Literal[*coarsegrain_category]] = Field(\n",
    "#         default=coarsegrain_category, \n",
    "#         description=\"Categories for the transactions like food & drinks, entertainment, rewards etc.\"\n",
    "#     )\n",
    "#     transactionamount_range: Optional[AmountRange] = Field(\n",
    "#         default=AmountRange(),\n",
    "#         description=\"An object containing 'min' and 'max' fields representing the minimum and maximum transaction amounts for filtering. Both can be None.\"\n",
    "#     )\n",
    "#     transaction_date_range: Optional[DateRange] = Field(\n",
    "#         default=DateRange(),\n",
    "#         description=\"An object containing 'start' and 'end' fields representing the minimum and maximum transaction dates for filtering. If not provided, the default is from 6 months ago to the current time.\"\n",
    "#     )\n",
    "#     merchant: Optional[str] = Field(\n",
    "#         default=None, \n",
    "#         description=\"A regex pattern to filter transactions based on the merchant's name. If not provided, no filtering is applied.\"\n",
    "#     )\n",
    "\n",
    "#     @validator('merchant', pre=True, always=True)\n",
    "#     def lowercase_merchant(cls, merchant_val):\n",
    "#         if merchant_val is not None:\n",
    "#             return merchant_val.lower()\n",
    "#         return merchant_val"
   ]
  },
  {
   "cell_type": "code",
   "execution_count": 14,
   "id": "7dcf8afc-815e-419f-a019-da4ed997e69d",
   "metadata": {},
   "outputs": [],
   "source": [
    "from pydantic import BaseModel, Field, validator\n",
    "from typing import List, Literal, Optional, Tuple\n",
    "from datetime import datetime, timedelta\n",
    "\n",
    "class AmountRange(BaseModel):\n",
    "    min: Optional[float] = Field(\n",
    "        default=None,\n",
    "        description=\"The minimum transaction amount for filtering. Can be None.\"\n",
    "    )\n",
    "    max: Optional[float] = Field(\n",
    "        default=None,\n",
    "        description=\"The maximum transaction amount for filtering. Can be None.\"\n",
    "    )\n",
    "\n",
    "\n",
    "class DateRange(BaseModel):\n",
    "    start: Optional[datetime] = Field(\n",
    "        default_factory=lambda: datetime.now().replace(hour=0, minute=0, second=0, microsecond=0),\n",
    "        description=\"The start date for filtering transactions. Defaults to today's date.\"\n",
    "    )\n",
    "    end: Optional[datetime] = Field(\n",
    "        default_factory=datetime.now,\n",
    "        description=\"The end date for filtering transactions. Defaults to the current time if not provided.\"\n",
    "    )\n",
    "    \n",
    "\n",
    "class TransactionData(BaseModel):\n",
    "    transaction_channel: List[Literal[*transactionchannel]] = Field(\n",
    "        default=transactionchannel, \n",
    "        description=\"The channels through which the transaction was made.\"\n",
    "    )\n",
    "    product: List[Literal[*existing_products]] = Field(\n",
    "        default=existing_products, \n",
    "        description=\"The products associated with the transaction. Can be a JUPITER or external bank (ADA)\"\n",
    "    )\n",
    "    credit_debit_indicator: List[Literal[*creditdebitindicator]] = Field(\n",
    "        default=creditdebitindicator, \n",
    "        description=\"Indicators whether the transactions are debits or credits.\"\n",
    "    )\n",
    "    coarse_grain_category: List[Literal[*coarsegrain_category]] = Field(\n",
    "        default=coarsegrain_category, \n",
    "        description=\"Categories for the transactions like food & drinks, entertainment, rewards etc.\"\n",
    "    )\n",
    "    transactionamount_range: Optional[AmountRange] = Field(\n",
    "        default=AmountRange(),\n",
    "        description=\"An object containing 'min' and 'max' fields representing the minimum and maximum transaction amounts for filtering. Both can be None.\"\n",
    "    )\n",
    "    transaction_date_range: Optional[DateRange] = Field(\n",
    "        default=DateRange(),\n",
    "        description=\"An object containing 'start' and 'end' fields representing the minimum and maximum transaction dates for filtering. If not provided, the default is from 6 months ago to the current time.\"\n",
    "    )"
   ]
  },
  {
   "cell_type": "code",
   "execution_count": 15,
   "id": "15651dc6-ede1-4d6a-946c-d46b7a22ef7c",
   "metadata": {},
   "outputs": [],
   "source": [
    "# from langchain_core.output_parsers.openai_tools import PydanticToolsParser\n",
    "# from langchain_core.prompts import ChatPromptTemplate, MessagesPlaceholder\n",
    "# import datetime\n",
    "\n",
    "# txn_data_fetcher_system_prompt = \"\"\"\n",
    "# You are expert finncial advisor working for jupiter (1-app for everything money). Below is the decription about jupiter's product.\n",
    "# Edge Rupay card: It's a Credit Card launched by jupiter in partnership with CSB Bank and RuPay network.\n",
    "# Edge VISA card: It's a Credit Card launched by jupiter in partnership with Federal Bank and VISA network.\n",
    "\n",
    "\n",
    "# You are an agent designed to filter and get the transaction data based on specific criteria. Your role is to assist in processing \n",
    "# financial transactions by applying filters such as transaction channels, product types, credit or debit indicators, \n",
    "# coarse-grain categories, transaction amount ranges, and transaction date ranges.\n",
    "\n",
    "# Filtering Criteria:\n",
    "# Transaction Channel: One or more of the available channels such as 'MANDATE', 'RTGS', 'NEFT', etc.\n",
    "# Product: Specific product types such as 'JUPITER', 'HDFC Bank', 'ICICI Bank', 'Edge Rupay card', etc.\n",
    "# Credit/Debit Indicator: Whether the transaction is a 'DEBIT' or 'CREDIT'.\n",
    "# Coarse-Grain Category: Transaction categories like 'food & drinks', 'groceries', 'rent', etc.\n",
    "# Transaction Amount Range: Filter transactions by specifying a minimum and/or maximum amount. If not provided, consider all transaction amounts.\n",
    "# Transaction Date Range: Filter transactions based on a specific date and time range, with minute-level precision. If the date range is not provided, default is today's transactions\n",
    "# Merchant: Will be a regex, that will be applied to filter out based on merchant\n",
    "\n",
    "# Alternative terms you may find in question:\n",
    "# spend : Credit/Debit Indicator -> DEBIT\n",
    "# external banks: exclude JUPITER, Edge Rupay card, Edge VISA card from Product\n",
    "# non jupiter: exclude JUPITER, Edge Rupay card, Edge VISA card from Product\n",
    "\n",
    "# keep this information in mind, think step by step on users question and Invoke the {function_name} with complete accuracy in applying the necessary \n",
    "# filters as arguments to the function.\n",
    "# This is a current time, use it if require: {time}\n",
    "# \"\"\"\n",
    "\n",
    "\n",
    "# txn_data_fetcher_prompt_template = ChatPromptTemplate.from_messages(\n",
    "#     [\n",
    "#         (\"system\",txn_data_fetcher_system_prompt),\n",
    "#         MessagesPlaceholder(variable_name=\"messages\")\n",
    "#     ]\n",
    "# ).partial(\n",
    "#     time=lambda: datetime.datetime.now().isoformat(), function_name=TransactionData.__name__\n",
    "# )\n",
    "\n",
    "\n"
   ]
  },
  {
   "cell_type": "code",
   "execution_count": 16,
   "id": "301760e8-de45-4d01-825d-c6f015f598c7",
   "metadata": {},
   "outputs": [],
   "source": [
    "from langchain_core.output_parsers.openai_tools import PydanticToolsParser\n",
    "from langchain_core.prompts import ChatPromptTemplate, MessagesPlaceholder\n",
    "import datetime\n",
    "\n",
    "txn_data_fetcher_system_prompt = \"\"\"\n",
    "You are expert finncial advisor working for jupiter (1-app for everything money). Below is the decription about jupiter's product.\n",
    "Edge Rupay card: It's a Credit Card launched by jupiter in partnership with CSB Bank and RuPay network.\n",
    "Edge VISA card: It's a Credit Card launched by jupiter in partnership with Federal Bank and VISA network.\n",
    "\n",
    "\n",
    "You are an agent designed to filter and get the transaction data based on specific criteria. Your role is to assist in processing \n",
    "financial transactions by applying filters such as transaction channels, product types, credit or debit indicators, \n",
    "coarse-grain categories, transaction amount ranges, and transaction date ranges.\n",
    "\n",
    "Filtering Criteria:\n",
    "Transaction Channel: One or more of the available channels such as 'MANDATE', 'RTGS', 'NEFT', etc.\n",
    "Product: Specific product types such as 'JUPITER', 'HDFC Bank', 'ICICI Bank', 'Edge Rupay card', etc.\n",
    "Credit/Debit Indicator: Whether the transaction is a 'DEBIT' or 'CREDIT'.\n",
    "Coarse-Grain Category: Transaction categories like 'food & drinks', 'groceries', 'rent', etc.\n",
    "Transaction Amount Range: Filter transactions by specifying a minimum and/or maximum amount. If not provided, consider all transaction amounts.\n",
    "Transaction Date Range: Filter transactions based on a specific date and time range, with minute-level precision. If the date range is not provided, default is today's transactions\n",
    "\n",
    "\n",
    "Alternative terms you may find in question:\n",
    "spend : Credit/Debit Indicator -> DEBIT\n",
    "external banks: exclude JUPITER, Edge Rupay card, Edge VISA card from Product\n",
    "non jupiter: exclude JUPITER, Edge Rupay card, Edge VISA card from Product\n",
    "\n",
    "keep this information in mind, think step by step on users question and Invoke the {function_name} with complete accuracy in applying the necessary \n",
    "filters as arguments to the function.\n",
    "This is a current time, use it if require: {time}\n",
    "\"\"\"\n",
    "\n",
    "\n",
    "txn_data_fetcher_prompt_template = ChatPromptTemplate.from_messages(\n",
    "    [\n",
    "        (\"system\",txn_data_fetcher_system_prompt),\n",
    "        MessagesPlaceholder(variable_name=\"messages\")\n",
    "    ]\n",
    ").partial(\n",
    "    time=lambda: datetime.datetime.now().isoformat(), function_name=TransactionData.__name__\n",
    ")\n",
    "\n",
    "\n"
   ]
  },
  {
   "cell_type": "code",
   "execution_count": 17,
   "id": "96b1307a-429d-4d95-bb2b-e60393844d94",
   "metadata": {},
   "outputs": [],
   "source": [
    "txn_data_fetcher_chain = txn_data_fetcher_prompt_template | chat_model.bind_tools(tools=[TransactionData])\n",
    "\n",
    "validator = PydanticToolsParser(tools=[TransactionData])\n",
    "\n",
    "txn_data_fetcher = ResponderWithRetries(runnable=txn_data_fetcher_chain, validator=validator)"
   ]
  },
  {
   "cell_type": "code",
   "execution_count": 18,
   "id": "83c1059c-00b5-477f-9f86-a86b1815783d",
   "metadata": {},
   "outputs": [],
   "source": [
    "# from langchain_core.messages import HumanMessage, ToolMessage\n",
    "\n",
    "# example_question = \"how much did I spent on swiggy starting from feb 2024 to today ?\"\n",
    "# initial = txn_data_fetcher.respond({\"messages\":[HumanMessage(content=example_question)]})\n",
    "# import json\n",
    "# retrospect = initial['intermediate_steps'][0].additional_kwargs['tool_calls'][0]['function']\n",
    "# print(json.loads(retrospect['arguments']))"
   ]
  },
  {
   "cell_type": "code",
   "execution_count": 19,
   "id": "5cbb47f7-ee55-463d-b526-657144dca5ff",
   "metadata": {},
   "outputs": [],
   "source": [
    "# from langchain_core.messages import HumanMessage, ToolMessage\n",
    "\n",
    "# example_question = \"What is the amount debited via UPI in last two months?\"\n",
    "# initial = txn_data_fetcher.respond({\"messages\":[HumanMessage(content=example_question)]})\n",
    "# import json\n",
    "# retrospect = initial['intermediate_steps'][0].additional_kwargs['tool_calls'][0]['function']\n",
    "# print(json.loads(retrospect['arguments']))"
   ]
  },
  {
   "cell_type": "code",
   "execution_count": 20,
   "id": "58af692e-6688-4f84-800b-a7c084c12656",
   "metadata": {},
   "outputs": [],
   "source": [
    "# from langchain_core.messages import HumanMessage, ToolMessage\n",
    "\n",
    "# example_question = \"compare my spending of May and July?\"\n",
    "# initial = txn_data_fetcher.respond({\"messages\":[HumanMessage(content=example_question)]})\n",
    "# import json\n",
    "# retrospect = initial['intermediate_steps'][0].additional_kwargs['tool_calls'][0]['function']\n",
    "# print(json.loads(retrospect['arguments']))\n",
    "# retrospect = initial['messages'][0].additional_kwargs['tool_calls'][1]['function']\n",
    "# print(json.loads(retrospect['arguments']))"
   ]
  },
  {
   "cell_type": "markdown",
   "id": "0fb4e51d-5a2b-4be7-8eda-3df98f2a2ee4",
   "metadata": {},
   "source": [
    "### Get Txn Data Tool"
   ]
  },
  {
   "cell_type": "code",
   "execution_count": null,
   "id": "9f0f7f8f-99fa-401d-bb48-aa2c0fecd9a4",
   "metadata": {},
   "outputs": [],
   "source": []
  },
  {
   "cell_type": "code",
   "execution_count": 21,
   "id": "37eb1607-18d6-485f-a138-b3f3a2f8eca3",
   "metadata": {},
   "outputs": [],
   "source": [
    "def get_merchant(row):\n",
    "    if row['creditdebitindicator'] == \"DEBIT\":\n",
    "        return row[\"payee\"]\n",
    "    else:\n",
    "        return row[\"payer\"]\n",
    "\n",
    "def data_preprocessing(df):\n",
    "    df['merchant'] = df.apply(get_merchant, axis = 1)\n",
    "    df['merchant'] = df['merchant'].str.lower()\n",
    "    \n",
    "    col_int = ['transactiondatetime', 'transactionamount','transactionchannel','product','jupiter_coarsegrain_category',\n",
    "     'creditdebitindicator','merchant']\n",
    "    df = df[col_int]\n",
    "    df['transactiondatetime'] = pd.to_datetime(df['transactiondatetime'])\n",
    "    return df"
   ]
  },
  {
   "cell_type": "code",
   "execution_count": null,
   "id": "b8b9be52-ffc8-4a1e-934a-e18dc0547df7",
   "metadata": {},
   "outputs": [],
   "source": []
  },
  {
   "cell_type": "code",
   "execution_count": 22,
   "id": "65defa22-19a5-40ce-9496-8a960ea84ec1",
   "metadata": {},
   "outputs": [],
   "source": [
    "from langchain.tools import tool\n",
    "\n",
    "@tool\n",
    "def get_txn_data_tool(filters: TransactionData):\n",
    "    \"\"\"\n",
    "    Get the transaction data for user with the provided filters\n",
    "    \"\"\"\n",
    "\n",
    "    print(filters.json())\n",
    "    df = pd.read_csv(\"./vatsal_txn_data.csv\")\n",
    "    df = data_preprocessing(df)\n",
    "    # Return the result as a JSON object\n",
    "    return df"
   ]
  },
  {
   "cell_type": "code",
   "execution_count": 23,
   "id": "3b69a9ad-e87f-4fd9-8124-333d18ec28e8",
   "metadata": {},
   "outputs": [
    {
     "name": "stderr",
     "output_type": "stream",
     "text": [
      "/var/folders/20/88smr2nj4zj5phkd613x7zy40000gq/T/ipykernel_12787/3631997246.py:3: LangGraphDeprecationWarning: ToolExecutor is deprecated as of version 0.2.0 and will be removed in 0.3.0. Use langgraph.prebuilt.ToolNode instead.\n",
      "  tool_executor = ToolExecutor(tools)\n"
     ]
    }
   ],
   "source": [
    "from langgraph.prebuilt.tool_executor import ToolExecutor\n",
    "tools = [get_txn_data_tool]\n",
    "tool_executor = ToolExecutor(tools)"
   ]
  },
  {
   "cell_type": "code",
   "execution_count": 24,
   "id": "e71ab709-bda4-4081-a1e2-8d3c576d122d",
   "metadata": {},
   "outputs": [],
   "source": [
    "from langchain_core.prompts import PromptTemplate\n",
    "from langchain_core.output_parsers import StrOutputParser\n",
    "\n",
    "description_generation_template = \"\"\"\n",
    "I am uisng one tool with my AI agent. Below is the argument schema of the function:\n",
    "{argument_schema}\n",
    "\n",
    "This tool will return dataframe of transaction data but it will apply filter based on arguments\n",
    "provided below:\n",
    "{tool_argumnts}\n",
    "\n",
    "your job is to generate accurate description in 50-100 words about transaction data present in the dataframe, \n",
    "that description will be used by large language model to get an information about kind of data present in the dataframe. \n",
    "\"\"\"\n",
    "\n",
    "description_generation_prompt_template = PromptTemplate(template = description_generation_template,\n",
    "                                                       input_variables = ['tool_argumnts']).partial(\n",
    "    argument_schema=TransactionData.schema()\n",
    ")\n",
    "\n",
    "description_generator = description_generation_prompt_template | chat_model | StrOutputParser()"
   ]
  },
  {
   "cell_type": "code",
   "execution_count": 25,
   "id": "782ab5ec-b937-4152-8c23-606182e8020a",
   "metadata": {},
   "outputs": [],
   "source": [
    "# initial"
   ]
  },
  {
   "cell_type": "code",
   "execution_count": 26,
   "id": "fca9d52c-ead3-4a93-ae3e-a0b595e9e9c0",
   "metadata": {},
   "outputs": [],
   "source": [
    "from langgraph.prebuilt import ToolInvocation\n",
    "import json\n",
    "\n",
    "\n",
    "def invoke_get_txn_data_tool(state):\n",
    "    tool_calls = state['intermediate_steps'][-1].additional_kwargs.get(\"tool_calls\", [])\n",
    "    df_list = []\n",
    "    for tool_call in tool_calls:\n",
    "        tool_details = tool_call\n",
    "        function_name = get_txn_data_tool.name\n",
    "        args = tool_details.get(\"function\").get(\"arguments\")\n",
    "        print(args)\n",
    "        dataframe_description = description_generator.invoke({\"tool_argumnts\":args})\n",
    "        action = ToolInvocation(tool = function_name, tool_input = {'filters': json.loads(args)})\n",
    "        response = tool_executor.invoke(action)\n",
    "        dataframe_update = {\n",
    "            \"dataframe\":response,\n",
    "            \"description\" : dataframe_description\n",
    "        }\n",
    "        df_list.append(dataframe_update)\n",
    "    return {\"dataframe_store\":df_list, \"intermediate_steps\":[AIMessage(content = args)]}"
   ]
  },
  {
   "cell_type": "code",
   "execution_count": null,
   "id": "a78eba62-6a6d-4988-a570-08cbd54578a6",
   "metadata": {},
   "outputs": [],
   "source": []
  },
  {
   "cell_type": "code",
   "execution_count": 27,
   "id": "7687e72f-fa45-4334-8982-42f66e490fc0",
   "metadata": {},
   "outputs": [],
   "source": [
    "# temp_args = {\"transaction_date_range\": {\"start\": \"2024-05-01T00:00:00\", \"end\": \"2024-05-31T23:59:59\"}}\n",
    "# out = description_generator.invoke({\"tool_argumnts\":temp_args})"
   ]
  },
  {
   "cell_type": "code",
   "execution_count": 28,
   "id": "bb5d3be7-b3b0-4122-a163-357bc016dd24",
   "metadata": {},
   "outputs": [],
   "source": [
    "# print(out)"
   ]
  },
  {
   "cell_type": "code",
   "execution_count": 29,
   "id": "96d03fad-b5b8-42b3-a90a-0be301dcf2c8",
   "metadata": {},
   "outputs": [],
   "source": [
    "# invoke_get_txn_data_tool(initial)"
   ]
  },
  {
   "cell_type": "code",
   "execution_count": null,
   "id": "3eae01d8-5037-4210-afc5-831360724f9a",
   "metadata": {},
   "outputs": [],
   "source": []
  },
  {
   "cell_type": "markdown",
   "id": "0b5f42b6-801d-46d3-80db-26bef187b9b7",
   "metadata": {},
   "source": [
    "### Answer Query"
   ]
  },
  {
   "cell_type": "code",
   "execution_count": 30,
   "id": "4da27da7-acbd-4729-a416-dc96b64d0ef4",
   "metadata": {},
   "outputs": [],
   "source": [
    "# txn_data_fetcher_system_prompt = \"\"\"\n",
    "# You are expert finncial advisor working for jupiter (1-app for everything money). Below is the decription about jupiter's product.\n",
    "# Edge Rupay card: It's a Credit Card launched by jupiter in partnership with CSB Bank and RuPay network.\n",
    "# Edge VISA card: It's a Credit Card launched by jupiter in partnership with Federal Bank and VISA network.\n",
    "\n",
    "\n",
    "# You are an agent designed to filter and get the transaction data based on specific criteria. Your role is to assist in processing \n",
    "# financial transactions by applying filters such as transaction channels, product types, credit or debit indicators, \n",
    "# coarse-grain categories, transaction amount ranges, and transaction date ranges.\n",
    "\n",
    "# Filtering Criteria:\n",
    "# Transaction Channel: One or more of the available channels such as 'MANDATE', 'RTGS', 'NEFT', etc.\n",
    "# Product: Specific product types such as 'JUPITER', 'HDFC Bank', 'ICICI Bank', 'Edge Rupay card', etc.\n",
    "# Credit/Debit Indicator: Whether the transaction is a 'DEBIT' or 'CREDIT'.\n",
    "# Coarse-Grain Category: Transaction categories like 'food & drinks', 'groceries', 'rent', etc.\n",
    "# Transaction Amount Range: Filter transactions by specifying a minimum and/or maximum amount. If not provided, consider all transaction amounts.\n",
    "# Transaction Date Range: Filter transactions based on a specific date and time range, with minute-level precision. If the date range is not provided, default is today's transactions\n",
    "# Merchant: Will be a regex, that will be applied to filter out based on merchant\n",
    "\n",
    "# Alternative terms you may find in question:\n",
    "# spend : Credit/Debit Indicator -> DEBIT\n",
    "# external banks: exclude JUPITER, Edge Rupay card, Edge VISA card from Product\n",
    "# non jupiter: exclude JUPITER, Edge Rupay card, Edge VISA card from Product\n",
    "\n",
    "# keep this information in mind, think step by step on users question and Invoke the {function_name} with complete accuracy in applying the necessary \n",
    "# filters as arguments to the function.\n",
    "# This is a current time, use it if require: {time}\n",
    "# \"\"\""
   ]
  },
  {
   "cell_type": "code",
   "execution_count": 31,
   "id": "6ffbb1db-45d8-4655-b6d3-5b41cdc11b1a",
   "metadata": {},
   "outputs": [],
   "source": [
    "txn_data_fetcher_system_prompt = \"\"\"\n",
    "You are expert finncial advisor working for jupiter (1-app for everything money). Below is the decription about jupiter's product.\n",
    "Edge Rupay card: It's a Credit Card launched by jupiter in partnership with CSB Bank and RuPay network.\n",
    "Edge VISA card: It's a Credit Card launched by jupiter in partnership with Federal Bank and VISA network.\n",
    "\n",
    "\n",
    "You are an agent designed to filter and get the transaction data based on specific criteria. Your role is to assist in processing \n",
    "financial transactions by applying filters such as transaction channels, product types, credit or debit indicators, \n",
    "coarse-grain categories, transaction amount ranges, and transaction date ranges.\n",
    "\n",
    "Filtering Criteria:\n",
    "Transaction Channel: One or more of the available channels such as 'MANDATE', 'RTGS', 'NEFT', etc.\n",
    "Product: Specific product types such as 'JUPITER', 'HDFC Bank', 'ICICI Bank', 'Edge Rupay card', etc.\n",
    "Credit/Debit Indicator: Whether the transaction is a 'DEBIT' or 'CREDIT'.\n",
    "Coarse-Grain Category: Transaction categories like 'food & drinks', 'groceries', 'rent', etc.\n",
    "Transaction Amount Range: Filter transactions by specifying a minimum and/or maximum amount. If not provided, consider all transaction amounts.\n",
    "Transaction Date Range: Filter transactions based on a specific date and time range, with minute-level precision. If the date range is not provided, default is today's transactions\n",
    "\n",
    "\n",
    "Alternative terms you may find in question:\n",
    "spend : Credit/Debit Indicator-> DEBIT\n",
    "external banks: exclude JUPITER, Edge Rupay card, Edge VISA card from Product\n",
    "non jupiter: exclude JUPITER, Edge Rupay card, Edge VISA card from Product\n",
    "\n",
    "keep this information in mind, think step by step on users question and Invoke the {function_name} with complete accuracy in applying the necessary \n",
    "filters as arguments to the function.\n",
    "This is a current time, use it if require: {time}\n",
    "\"\"\""
   ]
  },
  {
   "cell_type": "code",
   "execution_count": 32,
   "id": "854640e3-ee2c-4fb9-b28a-38abfbcee6c1",
   "metadata": {},
   "outputs": [],
   "source": [
    "import pandas as pd\n",
    "from langchain_core.prompts import ChatPromptTemplate\n",
    "from langchain_experimental.tools import PythonAstREPLTool\n",
    "from langchain.output_parsers.openai_tools import JsonOutputKeyToolsParser\n",
    "from langchain_core.messages import AIMessage\n",
    "\n",
    "def analyse_transaction_data(state):\n",
    "    dataframe_dict = {}\n",
    "    dataframe_description = \"\"\n",
    "    for i in range(len(state[\"dataframe_store\"])):\n",
    "        data = state[\"dataframe_store\"][i]\n",
    "        dataframe_dict[\"df_\"+str(i+1)] = data[\"dataframe\"]\n",
    "        prompt = f\"\"\" \n",
    "\n",
    "        data in df_{i+1} describes as follows:\n",
    "        {data[\"description\"]}\n",
    "        \n",
    "        \"\"\"\n",
    "        dataframe_description = dataframe_description + prompt\n",
    "\n",
    "    analyse_data_system_prompt = \"\"\"\n",
    "    You have access to a pandas dataframes. Below is the head of the dataframes in markdown format:\n",
    "    {markdown}\n",
    "    \n",
    "    below are the set of columns availables:\n",
    "    {columns}\n",
    "    \n",
    "    Description about data of each dataframe availabe:\n",
    "    {dataframe_description}\n",
    "    \n",
    "    Given a user question, write the Python code to answer it. \\\n",
    "    Return ONLY the valid Python code and nothing else. \\\n",
    "    Don't assume you have access to any libraries other than built-in Python ones and pandas.\n",
    "    write down a python code in such way that it will print final answer with proper description about what you are printing.\n",
    "    use only one print statement and print all the final answer with with proper description.\n",
    "    \"\"\"\n",
    "\n",
    "    df = state[\"dataframe_store\"][0][\"dataframe\"]\n",
    "    df_head = str(df.head().to_markdown())\n",
    "    df_columns = str(df.columns.tolist())\n",
    "    \n",
    "    code_tool = PythonAstREPLTool(globals=dataframe_dict)\n",
    "    llm_with_tools = chat_model.bind_tools([code_tool], tool_choice=code_tool.name)\n",
    "    parser = JsonOutputKeyToolsParser(key_name = code_tool.name, first_tool_only=True)\n",
    "\n",
    "    # print(dataframe_description)\n",
    "\n",
    "    for attempt in range(3):\n",
    "        # analyser_prompt = PromptTemplate(template = analyse_data_prompt_template,\n",
    "        #                                                        input_variables = ['question']).partial(\n",
    "        #     markdown= df_head, columns = df_columns, dataframe_description = dataframe_description\n",
    "        # )\n",
    "\n",
    "        analyser_prompt = ChatPromptTemplate.from_messages(\n",
    "            [\n",
    "                (\"system\",analyse_data_system_prompt),\n",
    "                MessagesPlaceholder(variable_name=\"messages\")\n",
    "            ]\n",
    "        ).partial(\n",
    "            markdown= df_head, columns = df_columns, dataframe_description = dataframe_description\n",
    "        )\n",
    "        \n",
    "        chain = analyser_prompt | llm_with_tools | parser #| code_tool\n",
    "        # generated_code = chain.invoke({\"question\": state[\"messages\"][-1]})\n",
    "        generated_code = chain.invoke(state)\n",
    "        print(\"*****************************\")\n",
    "        print(generated_code)\n",
    "        # print(\"*****************************\")\n",
    "        response = code_tool.invoke(generated_code)\n",
    "        # print(\"*****************************\")\n",
    "        # print(response)\n",
    "        # print(\"*****************************\")\n",
    "        if 'Error' not in response:\n",
    "            state[\"intermediate_steps\"] = state[\"intermediate_steps\"] + [AIMessage(content = generated_code[\"query\"])]\n",
    "            break\n",
    "        #print(\"====== Error Occured ======\")\n",
    "        generated_code = generated_code[\"query\"].replace(\"{\",\"{{\").replace(\"}\",\"}}\")\n",
    "        analyse_data_system_prompt = analyse_data_system_prompt + f\"\"\"\n",
    "        \\n\\n below is your code: \\n {str(generated_code)}\n",
    "        \\n\\n Error occured, look at the error details provided below and make correction in code: \\n {str(response)}\n",
    "        \"\"\"\n",
    "        #print(analyse_data_system_prompt)\n",
    "        # analyse_data_system_prompt = analyse_data_system_prompt + f\"\"\"\n",
    "        # \\n\\n Error occured, look at the error details provided below and make correction in code: \\n {str(response)}\n",
    "        # \"\"\"\n",
    "    return {\"messages\":[AIMessage(content = response)]}"
   ]
  },
  {
   "cell_type": "code",
   "execution_count": null,
   "id": "65ef857d-6942-49b3-8e1e-430db86fdcc6",
   "metadata": {},
   "outputs": [],
   "source": []
  },
  {
   "cell_type": "markdown",
   "id": "07c0da23-e557-4e63-9c83-145485e1919e",
   "metadata": {},
   "source": [
    "### General Purpose Agnet"
   ]
  },
  {
   "cell_type": "code",
   "execution_count": null,
   "id": "7717e695-b5c4-4d7d-b6e2-4ba62b864f8f",
   "metadata": {},
   "outputs": [],
   "source": []
  },
  {
   "cell_type": "code",
   "execution_count": 33,
   "id": "b5dd8287-c78b-4b51-a21d-7dd09b1d656e",
   "metadata": {},
   "outputs": [],
   "source": [
    "from langchain_community.tools.tavily_search import TavilySearchResults\n",
    "from langchain_community.utilities.tavily_search import TavilySearchAPIWrapper\n",
    "\n",
    "search = TavilySearchAPIWrapper()\n",
    "tavily_tool = TavilySearchResults(api_wrapper=search, max_results=5)"
   ]
  },
  {
   "cell_type": "code",
   "execution_count": 34,
   "id": "44bcff99-fde4-4a83-9501-6d50fae50169",
   "metadata": {},
   "outputs": [],
   "source": [
    "from langchain.tools import StructuredTool\n",
    "from pydantic import BaseModel, Field\n",
    "from langchain_experimental.utilities import PythonREPL\n",
    "\n",
    "python_repl = PythonREPL()\n",
    "\n",
    "class PythonREPLInput(BaseModel):\n",
    "    command: str = Field(description=\"A valid Python command to execute. If you want to see the output of a value, you should print it out with `print(...)`.\")\n",
    "\n",
    "\n",
    "code_tool = StructuredTool.from_function(\n",
    "    name=\"python_repl\",\n",
    "    description=\"A Python shell. Use this to execute python commands. Input should be a valid python command.\",\n",
    "    func=python_repl.run,\n",
    "    input_schema=PythonREPLInput\n",
    ")"
   ]
  },
  {
   "cell_type": "code",
   "execution_count": null,
   "id": "d89e3fc4-4905-49e9-85c9-8866e93ae719",
   "metadata": {},
   "outputs": [],
   "source": []
  },
  {
   "cell_type": "code",
   "execution_count": 35,
   "id": "532ddb2d-25a3-495d-812c-af2bbcdee4a4",
   "metadata": {},
   "outputs": [],
   "source": [
    "system_prompt =  \"\"\"\n",
    "You are a general purpose agent to search financial data and give financial advice.\n",
    "search the web if required to answer users query.\n",
    "use the code tool if you need to execute code and for data plotting using matplotlib.\n",
    "\"\"\"\n"
   ]
  },
  {
   "cell_type": "code",
   "execution_count": 36,
   "id": "a2ff5f41-276d-43d8-9485-2f829a30940d",
   "metadata": {},
   "outputs": [],
   "source": [
    "tools = [tavily_tool, code_tool]\n",
    "research_agent = create_agent(chat_model, tools, system_prompt)"
   ]
  },
  {
   "cell_type": "code",
   "execution_count": 37,
   "id": "6a278eda-c17d-47e4-bb42-5541d498c5a2",
   "metadata": {},
   "outputs": [],
   "source": [
    "import functools\n",
    "research_node = functools.partial(agent_node, agent=research_agent, name=\"Researcher\")"
   ]
  },
  {
   "cell_type": "code",
   "execution_count": null,
   "id": "fdee67e8-5dc9-4482-b3a6-2677779837cf",
   "metadata": {},
   "outputs": [],
   "source": []
  },
  {
   "cell_type": "markdown",
   "id": "a6b2c6c3-961a-4f44-b56b-ed17a74b6682",
   "metadata": {},
   "source": [
    "### Jupiter Info"
   ]
  },
  {
   "cell_type": "code",
   "execution_count": 38,
   "id": "326df5f7-b9c2-4797-a66a-8444ddfda640",
   "metadata": {},
   "outputs": [],
   "source": [
    "from langchain.agents import AgentExecutor, create_openai_tools_agent\n",
    "from langchain.tools import tool"
   ]
  },
  {
   "cell_type": "code",
   "execution_count": 39,
   "id": "a0234981-3814-4826-8d7e-8b57ae3b8965",
   "metadata": {},
   "outputs": [],
   "source": [
    "@tool(\"account-deatils-tool\")\n",
    "def get_account_details():\n",
    "    \"\"\"\n",
    "    Get the personal information and account information of the user.\n",
    "    \"\"\"\n",
    "    account_details = [{\n",
    "        \"Name\":\"Vatsal Patel\",\n",
    "        \"Gender\":\"Male\",\n",
    "        \"IFSC Code\":\"FDRL0007777\",\n",
    "        \"Account Number\":\"77770120692039\",\n",
    "        \"Account Type\":\"Salary\",\n",
    "        \"Current Balance\":\"2342343.455\"\n",
    "    },\n",
    "    {\n",
    "        \"Name\":\"Vatsal Patel\",\n",
    "        \"Gender\":\"Male\",\n",
    "        \"IFSC Code\":\"ICICI0007777\",\n",
    "        \"Account Number\":\"01470120692039\",\n",
    "        \"Account Type\":\"Saving\",\n",
    "        \"Current Balance\":\"35435345.64\"\n",
    "    },\n",
    "                      {\n",
    "        \"Name\":\"Vatsal Patel\",\n",
    "        \"Gender\":\"Male\",\n",
    "        \"IFSC Code\":\"HDFC0007777\",\n",
    "        \"Account Number\":\"02470120692039\",\n",
    "        \"Account Type\":\"Saving\",\n",
    "        \"Current Balance\":\"354668657.7543\"\n",
    "    }]\n",
    "    \n",
    "    # Return the result as a JSON object\n",
    "    return json.dumps(account_details)"
   ]
  },
  {
   "cell_type": "code",
   "execution_count": 40,
   "id": "c08b2684-6b66-4453-bc0f-d721b7b8ed1b",
   "metadata": {},
   "outputs": [],
   "source": [
    "system_prompt =  \"\"\"\n",
    "You have an access if user's personal and account information. also, you have an information about \n",
    "products of juiter (1-app for everything money)\n",
    "You will get an access to user's personal and account information through account-deatils-tool\n",
    "\"\"\"\n"
   ]
  },
  {
   "cell_type": "code",
   "execution_count": 41,
   "id": "2aa10094-902f-4709-901a-2dccc086e695",
   "metadata": {},
   "outputs": [],
   "source": [
    "tools = [get_account_details]\n",
    "jupiter_info_agent = create_agent(chat_model, tools, system_prompt)"
   ]
  },
  {
   "cell_type": "code",
   "execution_count": 42,
   "id": "f2e72e87-b985-4cb2-a4b0-99184f5a4574",
   "metadata": {},
   "outputs": [],
   "source": [
    "import functools\n",
    "jupiter_info_node = functools.partial(agent_node, agent=jupiter_info_agent, name=\"jupiter_info\")"
   ]
  },
  {
   "cell_type": "code",
   "execution_count": null,
   "id": "80b2995f-8ffb-4baf-9d19-8db07b0657f3",
   "metadata": {},
   "outputs": [],
   "source": []
  },
  {
   "cell_type": "code",
   "execution_count": null,
   "id": "c1cbc92c-936b-46bd-8dce-d510f3f9167d",
   "metadata": {},
   "outputs": [],
   "source": []
  },
  {
   "cell_type": "markdown",
   "id": "7ca6fa06-cd54-4dfe-b433-b588b05f4d01",
   "metadata": {},
   "source": [
    "### Supervior"
   ]
  },
  {
   "cell_type": "code",
   "execution_count": 43,
   "id": "29f34a6f-3761-4d6e-9bc4-8192917d6114",
   "metadata": {},
   "outputs": [],
   "source": [
    "# members = [\"transaction_data_analyst\" , \"Researcher\", \"Coder\"]\n",
    "members = [\"transaction_data_analyst\" , \"Researcher\", \"jupiter_info\"]\n",
    "options = [\"FINISH\"] + members"
   ]
  },
  {
   "cell_type": "code",
   "execution_count": 44,
   "id": "9992d832-bc9b-486c-96b7-93bc166c3bcd",
   "metadata": {},
   "outputs": [],
   "source": [
    "from pydantic import BaseModel, Field\n",
    "from typing import Literal\n",
    "from langchain.tools import tool\n",
    "import json\n",
    "\n",
    "class RoleSchema(BaseModel):\n",
    "    next: Literal[*options] = Field(description=\"The next role to select. Possible values: \"+(' ,'.join(options)))\n",
    "\n",
    "@tool(\"route\", args_schema=RoleSchema, return_direct=True)\n",
    "def route(next: str):\n",
    "    \"\"\"\n",
    "    Select the next role based on the provided input.\n",
    "    \"\"\"\n",
    "\n",
    "    return json.dumps({\n",
    "        \"next\": next\n",
    "    })"
   ]
  },
  {
   "cell_type": "code",
   "execution_count": 45,
   "id": "5fcd5642-1125-4c04-95e0-70284c74f45c",
   "metadata": {},
   "outputs": [],
   "source": [
    "from langchain.output_parsers.openai_functions import JsonOutputFunctionsParser\n",
    "from langchain_core.prompts import ChatPromptTemplate, MessagesPlaceholder\n",
    "from langchain_core.utils.function_calling import convert_to_openai_function\n",
    "from langchain.tools import tool\n",
    "\n",
    "\n",
    "system_prompt = \"\"\"\n",
    "You are a supervisor tasked with managing a conversation between the\n",
    "following workers:  {members}. Given the following user request,\n",
    "respond with the worker to act next.\n",
    "\n",
    "Use transaction_data_analyst agent when question needs an analysis on user's past transaction data\n",
    "Use Research agent when questions require seearching a web to get finacial information and any general purpose query\n",
    "Use jupiter_info when question require access to user's personal and account details or need an information about \n",
    "jupiter's (1-app for everythinh money) product.\n",
    "\n",
    "\n",
    "Each worker will perform a task and respond with their results and status.\n",
    "When finished, respond with FINISH.\n",
    "\"\"\"\n",
    "# Use Code Agent when questions require code generation and code execution\n",
    "prompt = ChatPromptTemplate.from_messages(\n",
    "    [\n",
    "        (\"system\", system_prompt),\n",
    "        MessagesPlaceholder(variable_name=\"messages\"),\n",
    "        (\n",
    "            \"system\",\n",
    "            \"Given the conversation above, who should act next?\"\n",
    "            \" Or should we FINISH? Select one of: {options}\",\n",
    "        ),\n",
    "    ]\n",
    ").partial(options=str(options), members=\", \".join(members))\n",
    "\n",
    "route_openai_function_schema = convert_to_openai_function(route)\n",
    "\n",
    "#here we need to use bind_functions because JsonOutputFunctionsParser will fetch 'function_call' from additional_kwargs. \n",
    "# if we use bind_tools then we will get 'tool_calls' in additional_kwargs.\n",
    "supervisor_chain = (\n",
    "    prompt\n",
    "    | chat_model.bind_functions([route_openai_function_schema]) \n",
    "    | JsonOutputFunctionsParser()\n",
    ")"
   ]
  },
  {
   "cell_type": "code",
   "execution_count": null,
   "id": "523b5353-9781-4b1d-9d0b-af50007f3652",
   "metadata": {},
   "outputs": [],
   "source": []
  },
  {
   "cell_type": "markdown",
   "id": "af693862-20fd-4291-ad8f-83759a180796",
   "metadata": {},
   "source": [
    "### Human in loop"
   ]
  },
  {
   "cell_type": "code",
   "execution_count": null,
   "id": "fecf3df8-47f5-4e94-913d-15f647f26532",
   "metadata": {},
   "outputs": [],
   "source": []
  },
  {
   "cell_type": "code",
   "execution_count": 46,
   "id": "f12e8630-f600-4bd2-b0fc-7a4083383149",
   "metadata": {},
   "outputs": [],
   "source": [
    "def human_in_loop(state):\n",
    "    ai_message = state[\"intermediate_steps\"][-1]\n",
    "    inp = input(ai_message.content)\n",
    "    state[\"messages\"] = state[\"messages\"] + [ai_message]\n",
    "    return {\"messages\":[HumanMessage(content = inp)]}"
   ]
  },
  {
   "cell_type": "code",
   "execution_count": null,
   "id": "771fffde-3991-4716-9577-0d250372fa48",
   "metadata": {},
   "outputs": [],
   "source": []
  },
  {
   "cell_type": "code",
   "execution_count": null,
   "id": "0ae5190a-8b70-40cb-9eb5-148ca6200a77",
   "metadata": {},
   "outputs": [],
   "source": []
  },
  {
   "cell_type": "markdown",
   "id": "ad631aad-a51b-4d55-8e1f-ac9cbdf22188",
   "metadata": {},
   "source": [
    "### Router"
   ]
  },
  {
   "cell_type": "code",
   "execution_count": null,
   "id": "3deb0725-53b2-4562-aaf6-80783251de75",
   "metadata": {},
   "outputs": [],
   "source": []
  },
  {
   "cell_type": "code",
   "execution_count": 47,
   "id": "81407c3c-9fa3-4d1d-9625-6db3f4c3b875",
   "metadata": {},
   "outputs": [],
   "source": [
    "def data_fetch_router(state):\n",
    "    ai_message = state[\"intermediate_steps\"][-1]\n",
    "    if ai_message.content == '':\n",
    "        print(\"-----> Fetching data\")\n",
    "        return \"fetch_data\"\n",
    "    else:\n",
    "        state[\"messages\"] = state[\"messages\"] + [ai_message]\n",
    "        #print(state)\n",
    "        print(\"-----> ask_human\")\n",
    "        return \"ask_human\""
   ]
  },
  {
   "cell_type": "code",
   "execution_count": 48,
   "id": "c141e2fa-fb4f-4f0f-8599-2682c1f0e562",
   "metadata": {},
   "outputs": [],
   "source": [
    "def router(state):\n",
    "    # print(\"----------->\",state[\"next\"])\n",
    "    if state[\"next\"] == \"FINISH\":\n",
    "        last_message = state[\"messages\"][-1]\n",
    "        # print(\"----------->\",last_message.type)\n",
    "        if last_message.type != \"ai\":\n",
    "            return \"Researcher\"\n",
    "    return state[\"next\"]"
   ]
  },
  {
   "cell_type": "code",
   "execution_count": null,
   "id": "6c39e92a-defc-4d46-8154-49a221950972",
   "metadata": {},
   "outputs": [],
   "source": []
  },
  {
   "cell_type": "code",
   "execution_count": null,
   "id": "0bfe186d-e21d-4d9b-aa94-deee9801a5f7",
   "metadata": {},
   "outputs": [],
   "source": []
  },
  {
   "cell_type": "markdown",
   "id": "6a979ed7-c21f-439a-bddd-997697b1d510",
   "metadata": {},
   "source": [
    "### Build Graph"
   ]
  },
  {
   "cell_type": "code",
   "execution_count": null,
   "id": "1c4013a8-a6d2-45f6-9ef9-f226ac318393",
   "metadata": {},
   "outputs": [],
   "source": []
  },
  {
   "cell_type": "code",
   "execution_count": 49,
   "id": "31fabdb2-e300-4999-a408-6574128b0dcd",
   "metadata": {},
   "outputs": [],
   "source": [
    "from langgraph.graph import END, StateGraph, START\n",
    "from langgraph.graph.message import add_messages\n",
    "from langchain_core.messages import BaseMessage, AIMessage\n",
    "import operator\n",
    "from typing import Annotated\n",
    "from typing_extensions import TypedDict\n",
    "import pandas as pd\n",
    "\n",
    "\n",
    "class DataSchema(TypedDict):\n",
    "    dataframe: pd.DataFrame\n",
    "    description: str\n",
    "\n",
    "\n",
    "class AgentState(TypedDict):\n",
    "    messages: Annotated[list, add_messages]\n",
    "    intermediate_steps: Annotated[list, operator.add]\n",
    "    dataframe_store: List[DataSchema]\n",
    "    next: str = Field(description=\"next role to perform\") "
   ]
  },
  {
   "cell_type": "code",
   "execution_count": 50,
   "id": "6d892c39-dddf-473d-ad52-67609d90e2ac",
   "metadata": {},
   "outputs": [],
   "source": [
    "workflow = StateGraph(AgentState)\n",
    "\n",
    "workflow.add_node(\"supervisor\", supervisor_chain)\n",
    "\n",
    "workflow.add_node(\"filter_generator\", txn_data_fetcher.respond)\n",
    "workflow.add_node(\"fetch_data\", invoke_get_txn_data_tool)\n",
    "workflow.add_node(\"analyse_transaction_data\", analyse_transaction_data)\n",
    "workflow.add_node(\"ask_human\", human_in_loop)\n",
    "\n",
    "workflow.add_node(\"Researcher\", research_node)\n",
    "workflow.add_node(\"jupiter_info\", jupiter_info_node)\n",
    "\n",
    "workflow.set_entry_point(\"supervisor\")\n",
    "\n",
    "# workflow.set_entry_point(\"filter_generator\")\n",
    "path_mapping = {k:k for k in members}\n",
    "path_mapping[\"transaction_data_analyst\"] = \"filter_generator\"\n",
    "path_mapping[\"FINISH\"] = END\n",
    "workflow.add_conditional_edges(source = \"supervisor\", path = router, path_map = path_mapping)\n",
    "\n",
    "path_mapping = {\"ask_human\":\"ask_human\",\"fetch_data\":\"fetch_data\"}\n",
    "workflow.add_conditional_edges(source = \"filter_generator\", path = data_fetch_router, path_map = path_mapping)\n",
    "workflow.add_edge(\"ask_human\", \"supervisor\")\n",
    "# workflow.add_edge(\"ask_human\", \"filter_generator\")\n",
    "#workflow.add_edge(\"filter_generator\", \"fetch_data\")\n",
    "workflow.add_edge(\"fetch_data\", \"analyse_transaction_data\")\n",
    "# workflow.add_edge(\"analyse_transaction_data\", END)\n",
    "\n",
    "workflow.add_edge(\"Researcher\", \"supervisor\")\n",
    "workflow.add_edge(\"jupiter_info\", \"supervisor\")\n",
    "workflow.add_edge(\"analyse_transaction_data\", \"supervisor\")\n",
    "\n",
    "# import sqlite3\n",
    "# from langgraph.checkpoint.sqlite import SqliteSaver\n",
    "# # memory = MemorySaver()\n",
    "# memory = SqliteSaver.from_conn_string(\":memory:\")\n",
    "# conn = sqlite3.connect(\"checkpoints.sqlite\", check_same_thread=False)\n",
    "# memory = SqliteSaver(conn)\n",
    "# graph = workflow.compile(checkpointer=memory)\n",
    "\n",
    "graph = workflow.compile()"
   ]
  },
  {
   "cell_type": "code",
   "execution_count": 51,
   "id": "3709508b-1eb0-4dd6-aba8-483d054a6e6e",
   "metadata": {},
   "outputs": [
    {
     "data": {
      "image/jpeg": "[encoded data removed]",
      "text/plain": [
       "<IPython.core.display.Image object>"
      ]
     },
     "metadata": {},
     "output_type": "display_data"
    }
   ],
   "source": [
    "from IPython.display import Image, display\n",
    "display(Image(graph.get_graph(xray=True).draw_mermaid_png()))"
   ]
  },
  {
   "cell_type": "code",
   "execution_count": 52,
   "id": "7bda1c43-efec-4786-843c-3c5c6ca02aa2",
   "metadata": {},
   "outputs": [
    {
     "name": "stdout",
     "output_type": "stream",
     "text": [
      "Step 0\n",
      "================================\u001b[1m Human Message \u001b[0m=================================\n",
      "\n",
      "What is my UPI spend on march 2024 ?\n",
      "Step 1\n",
      "================================\u001b[1m Human Message \u001b[0m=================================\n",
      "\n",
      "What is my UPI spend on march 2024 ?\n",
      "-----> Fetching data\n",
      "Step 2\n",
      "================================\u001b[1m Human Message \u001b[0m=================================\n",
      "\n",
      "What is my UPI spend on march 2024 ?\n",
      "{\"transaction_channel\":[\"UPI\"],\"credit_debit_indicator\":[\"DEBIT\"],\"transaction_date_range\":{\"start\":\"2024-03-01T00:00:00\",\"end\":\"2024-03-31T23:59:59\"}}\n"
     ]
    },
    {
     "name": "stderr",
     "output_type": "stream",
     "text": [
      "/var/folders/20/88smr2nj4zj5phkd613x7zy40000gq/T/ipykernel_12787/3831369224.py:14: LangGraphDeprecationWarning: ToolInvocation is deprecated as of version 0.2.0 and will be removed in 0.3.0. Use langgraph.prebuilt.ToolNode instead.\n",
      "  action = ToolInvocation(tool = function_name, tool_input = {'filters': json.loads(args)})\n",
      "/var/folders/20/88smr2nj4zj5phkd613x7zy40000gq/T/ipykernel_12787/2811861285.py:14: SettingWithCopyWarning: \n",
      "A value is trying to be set on a copy of a slice from a DataFrame.\n",
      "Try using .loc[row_indexer,col_indexer] = value instead\n",
      "\n",
      "See the caveats in the documentation: https://pandas.pydata.org/pandas-docs/stable/user_guide/indexing.html#returning-a-view-versus-a-copy\n",
      "  df['transactiondatetime'] = pd.to_datetime(df['transactiondatetime'])\n"
     ]
    },
    {
     "name": "stdout",
     "output_type": "stream",
     "text": [
      "{\"transaction_channel\": [\"UPI\"], \"product\": [\"JUPITER\", \"State Bank of India\", \"HDFC Bank\", \"Kotak Mahindra Bank\", \"Bank of Baroda\", \"Axis Bank\", \"ICICI Bank\", \"IDFC First Bank\", \"Federal Bank\", \"Union Bank\", \"Canara Bank\", \"Punjab National Bank\", \"IndusInd Bank\", \"Bank of India\", \"Yes Bank\", \"AU Small Finance Bank\", \"Indian Overseas Bank\", \"UCO Bank\", \"Karnataka Bank\", \"Karur Vysya Bank\", \"Punjab and Sind Bank\", \"Indian Bank\", \"Bank of Maharashtra\", \"Central Bank of India\", \"Edge VISA card\", \"Edge Rupay card\"], \"credit_debit_indicator\": [\"DEBIT\"], \"coarse_grain_category\": [\"food & drinks\", \"pots\", \"transfers\", \"groceries\", \"rent\", \"pots withdrawal\", \"miscellaneous\", \"atm\", \"credit\", \"uncategorised\", \"bills & utilities\", \"charity\", \"shopping\", \"medical\", \"credit bills\", \"entertainment\", \"travel\", \"commute\", \"personal care\", \"investments\", \"self transfers\", \"fuel\", \"refund\", \"home services\", \"family & pets\", \"money transfers\", \"edge card bill\", \"interest\", \"household\", \"loans\", \"rewards\"], \"transactionamount_range\": {\"min\": null, \"max\": null}, \"transaction_date_range\": {\"start\": \"2024-03-01T00:00:00\", \"end\": \"2024-03-31T23:59:59\"}}\n",
      "Step 3\n",
      "================================\u001b[1m Human Message \u001b[0m=================================\n",
      "\n",
      "What is my UPI spend on march 2024 ?\n",
      "*****************************\n",
      "{'query': \"total_upi_spend = df_1['transactionamount'].sum()\\nprint(f'The total UPI spend in March 2024 is: {total_upi_spend}')\"}\n",
      "Step 4\n",
      "==================================\u001b[1m Ai Message \u001b[0m==================================\n",
      "\n",
      "The total UPI spend in March 2024 is: 4890475.13\n",
      "Step 5\n",
      "==================================\u001b[1m Ai Message \u001b[0m==================================\n",
      "\n",
      "The total UPI spend in March 2024 is: 4890475.13\n"
     ]
    }
   ],
   "source": [
    "from langchain_core.messages import HumanMessage\n",
    "\n",
    "events = graph.stream(\n",
    "    {\"messages\": HumanMessage(content=\"What is my UPI spend on march 2024 ?\")},\n",
    "    stream_mode=\"values\"\n",
    ")\n",
    "\n",
    "\n",
    "for i, step in enumerate(events):\n",
    "    print(f\"Step {i}\")\n",
    "    mod_step = step['messages']\n",
    "    mod_step[-1].pretty_print()"
   ]
  },
  {
   "cell_type": "code",
   "execution_count": 50,
   "id": "84c27f13-a86c-4d7b-b7e5-a741355887e3",
   "metadata": {},
   "outputs": [],
   "source": [
    "# from langchain_core.messages import HumanMessage\n",
    "\n",
    "# events = graph.stream(\n",
    "#     {\"messages\": HumanMessage(content=\"What specific categories in your transactions are you most concerned about?\")},\n",
    "#     stream_mode=\"values\"\n",
    "# )\n",
    "\n",
    "\n",
    "# for i, step in enumerate(events):\n",
    "#     print(f\"Step {i}\")\n",
    "#     mod_step = step['messages']\n",
    "#     mod_step[-1].pretty_print()"
   ]
  },
  {
   "cell_type": "code",
   "execution_count": 51,
   "id": "31bbbe66-ff65-4777-bbe2-ed9c36133f13",
   "metadata": {},
   "outputs": [],
   "source": [
    "# response = graph.invoke({\"messages\": HumanMessage(content=\"how much did I spent on swiggy starting from march 2024 to today ?\")})\n",
    "# response[\"messages\"][-1].content"
   ]
  },
  {
   "cell_type": "code",
   "execution_count": 52,
   "id": "5aa7569c-b6d2-4dfc-b9e9-e05b6c44010c",
   "metadata": {},
   "outputs": [],
   "source": [
    "# mod_step"
   ]
  },
  {
   "cell_type": "code",
   "execution_count": 53,
   "id": "973b1b0a-7e12-461a-83dd-8a49b10e546b",
   "metadata": {},
   "outputs": [],
   "source": [
    "# step"
   ]
  },
  {
   "cell_type": "code",
   "execution_count": 54,
   "id": "79c4669c-ae4e-40d9-ba2e-d42e1721826e",
   "metadata": {},
   "outputs": [],
   "source": [
    "# from langchain_core.messages import HumanMessage\n",
    "# config = {\"configurable\": {\"thread_id\": \"chat_1\"}}\n",
    "# events = graph.stream(\n",
    "#     {\"messages\": [HumanMessage(content=\"How can I reduce my monthly expenses?\")]},\n",
    "#     stream_mode=\"values\"\n",
    "# )\n",
    "\n",
    "\n",
    "# for i, step in enumerate(events):\n",
    "#     print(f\"Step {i}\")\n",
    "#     mod_step = step['messages']\n",
    "#     mod_step[-1].pretty_print()"
   ]
  },
  {
   "cell_type": "code",
   "execution_count": null,
   "id": "61b4a83e-d369-4047-b979-a1947566ebd1",
   "metadata": {},
   "outputs": [],
   "source": []
  },
  {
   "cell_type": "code",
   "execution_count": null,
   "id": "c7cc4a32-1fba-4617-9bef-063d9335d02e",
   "metadata": {},
   "outputs": [],
   "source": []
  },
  {
   "cell_type": "code",
   "execution_count": null,
   "id": "a888af6d-ce81-4021-b6a6-72300b3540a1",
   "metadata": {},
   "outputs": [],
   "source": []
  },
  {
   "cell_type": "code",
   "execution_count": null,
   "id": "feb3a4a1-7f21-44b2-9790-0df8204acd64",
   "metadata": {},
   "outputs": [],
   "source": []
  },
  {
   "cell_type": "code",
   "execution_count": null,
   "id": "85419e50-4905-4893-b216-834d9ecedb74",
   "metadata": {},
   "outputs": [],
   "source": []
  },
  {
   "cell_type": "code",
   "execution_count": 55,
   "id": "fb9c1f7b-81d9-4b15-92bc-48d10cddd6f1",
   "metadata": {},
   "outputs": [],
   "source": [
    "# from langchain_core.messages import HumanMessage\n",
    "# config = {\"configurable\": {\"thread_id\": \"chat_1\"}}\n",
    "# events = graph.stream(\n",
    "#     {\"messages\": [HumanMessage(content=\"can you look at my transaction and tell me how can I reduce my monthly expenses?\")]},\n",
    "#     stream_mode=\"values\"\n",
    "# )\n",
    "\n",
    "\n",
    "# for i, step in enumerate(events):\n",
    "#     print(f\"Step {i}\")\n",
    "#     mod_step = step['messages']\n",
    "#     mod_step[-1].pretty_print()"
   ]
  },
  {
   "cell_type": "code",
   "execution_count": 98,
   "id": "3c3cc333-8cc4-4a91-be92-219e260cae6b",
   "metadata": {},
   "outputs": [
    {
     "name": "stdout",
     "output_type": "stream",
     "text": [
      "Step 0\n",
      "================================\u001b[1m Human Message \u001b[0m=================================\n",
      "\n",
      "what is my current balance ?\n",
      "Step 1\n",
      "================================\u001b[1m Human Message \u001b[0m=================================\n",
      "\n",
      "what is my current balance ?\n",
      "\n",
      "\n",
      "\u001b[1m> Entering new AgentExecutor chain...\u001b[0m\n",
      "\u001b[32;1m\u001b[1;3m\n",
      "Invoking: `account-deatils-tool` with `{}`\n",
      "\n",
      "\n",
      "\u001b[0m\u001b[36;1m\u001b[1;3m[{\"Name\": \"Vatsal Patel\", \"Gender\": \"Male\", \"IFSC Code\": \"FDRL0007777\", \"Account Number\": \"77770120692039\", \"Account Type\": \"Salary\", \"Current Balance\": \"500 Billion Dollar\"}, {\"Name\": \"Vatsal Patel\", \"Gender\": \"Male\", \"IFSC Code\": \"ICICI0007777\", \"Account Number\": \"01470120692039\", \"Account Type\": \"Saving\", \"Current Balance\": \"5 Billion Dollar\"}, {\"Name\": \"Vatsal Patel\", \"Gender\": \"Male\", \"IFSC Code\": \"HDFC0007777\", \"Account Number\": \"02470120692039\", \"Account Type\": \"Saving\", \"Current Balance\": \"10 Billion Dollar\"}]\u001b[0m\u001b[32;1m\u001b[1;3mYour current balances across your accounts are as follows:\n",
      "\n",
      "1. **Salary Account**: $500 Billion\n",
      "2. **Saving Account (ICICI)**: $5 Billion\n",
      "3. **Saving Account (HDFC)**: $10 Billion\n",
      "\n",
      "If you need any further assistance, feel free to ask!\u001b[0m\n",
      "\n",
      "\u001b[1m> Finished chain.\u001b[0m\n",
      "Step 2\n",
      "==================================\u001b[1m Ai Message \u001b[0m==================================\n",
      "Name: jupiter_info\n",
      "\n",
      "Your current balances across your accounts are as follows:\n",
      "\n",
      "1. **Salary Account**: $500 Billion\n",
      "2. **Saving Account (ICICI)**: $5 Billion\n",
      "3. **Saving Account (HDFC)**: $10 Billion\n",
      "\n",
      "If you need any further assistance, feel free to ask!\n",
      "Step 3\n",
      "==================================\u001b[1m Ai Message \u001b[0m==================================\n",
      "Name: jupiter_info\n",
      "\n",
      "Your current balances across your accounts are as follows:\n",
      "\n",
      "1. **Salary Account**: $500 Billion\n",
      "2. **Saving Account (ICICI)**: $5 Billion\n",
      "3. **Saving Account (HDFC)**: $10 Billion\n",
      "\n",
      "If you need any further assistance, feel free to ask!\n"
     ]
    }
   ],
   "source": [
    "from langchain_core.messages import HumanMessage\n",
    "config = {\"configurable\": {\"thread_id\": \"chat_1\"}}\n",
    "events = graph.stream(\n",
    "    {\"messages\": [HumanMessage(content=\"what is my current balance ?\")]},\n",
    "    stream_mode=\"values\"\n",
    ")\n",
    "\n",
    "\n",
    "for i, step in enumerate(events):\n",
    "    print(f\"Step {i}\")\n",
    "    mod_step = step['messages']\n",
    "    mod_step[-1].pretty_print()"
   ]
  },
  {
   "cell_type": "code",
   "execution_count": 109,
   "id": "8d62d5ae-cfa0-43bf-ac6b-e8670522dd0b",
   "metadata": {},
   "outputs": [
    {
     "name": "stdout",
     "output_type": "stream",
     "text": [
      "Step 0\n",
      "================================\u001b[1m Human Message \u001b[0m=================================\n",
      "\n",
      "what is my total balance in saving accounts?\n",
      "Step 1\n",
      "================================\u001b[1m Human Message \u001b[0m=================================\n",
      "\n",
      "what is my total balance in saving accounts?\n",
      "\n",
      "\n",
      "\u001b[1m> Entering new AgentExecutor chain...\u001b[0m\n",
      "\u001b[32;1m\u001b[1;3m\n",
      "Invoking: `account-deatils-tool` with `{}`\n",
      "\n",
      "\n",
      "\u001b[0m\u001b[36;1m\u001b[1;3m[{\"Name\": \"Vatsal Patel\", \"Gender\": \"Male\", \"IFSC Code\": \"FDRL0007777\", \"Account Number\": \"77770120692039\", \"Account Type\": \"Salary\", \"Current Balance\": \"2342343.455\"}, {\"Name\": \"Vatsal Patel\", \"Gender\": \"Male\", \"IFSC Code\": \"ICICI0007777\", \"Account Number\": \"01470120692039\", \"Account Type\": \"Saving\", \"Current Balance\": \"35435345.64\"}, {\"Name\": \"Vatsal Patel\", \"Gender\": \"Male\", \"IFSC Code\": \"HDFC0007777\", \"Account Number\": \"02470120692039\", \"Account Type\": \"Saving\", \"Current Balance\": \"354668657.7543\"}]\u001b[0m\u001b[32;1m\u001b[1;3mYou have two saving accounts with the following balances:\n",
      "\n",
      "1. **Account 1 (ICICI Bank)**: ₹35,435,345.64\n",
      "2. **Account 2 (HDFC Bank)**: ₹354,668,657.75\n",
      "\n",
      "**Total balance in your saving accounts**: \n",
      "- ₹35,435,345.64 + ₹354,668,657.75 = ₹390,104,003.39 \n",
      "\n",
      "Your total balance in saving accounts is ₹390,104,003.39.\u001b[0m\n",
      "\n",
      "\u001b[1m> Finished chain.\u001b[0m\n",
      "Step 2\n",
      "==================================\u001b[1m Ai Message \u001b[0m==================================\n",
      "Name: jupiter_info\n",
      "\n",
      "You have two saving accounts with the following balances:\n",
      "\n",
      "1. **Account 1 (ICICI Bank)**: ₹35,435,345.64\n",
      "2. **Account 2 (HDFC Bank)**: ₹354,668,657.75\n",
      "\n",
      "**Total balance in your saving accounts**: \n",
      "- ₹35,435,345.64 + ₹354,668,657.75 = ₹390,104,003.39 \n",
      "\n",
      "Your total balance in saving accounts is ₹390,104,003.39.\n",
      "Step 3\n",
      "==================================\u001b[1m Ai Message \u001b[0m==================================\n",
      "Name: jupiter_info\n",
      "\n",
      "You have two saving accounts with the following balances:\n",
      "\n",
      "1. **Account 1 (ICICI Bank)**: ₹35,435,345.64\n",
      "2. **Account 2 (HDFC Bank)**: ₹354,668,657.75\n",
      "\n",
      "**Total balance in your saving accounts**: \n",
      "- ₹35,435,345.64 + ₹354,668,657.75 = ₹390,104,003.39 \n",
      "\n",
      "Your total balance in saving accounts is ₹390,104,003.39.\n"
     ]
    }
   ],
   "source": [
    "from langchain_core.messages import HumanMessage\n",
    "config = {\"configurable\": {\"thread_id\": \"chat_1\"}}\n",
    "events = graph.stream(\n",
    "    {\"messages\": [HumanMessage(content=\"what is my total balance in saving accounts?\")]},\n",
    "    stream_mode=\"values\"\n",
    ")\n",
    "\n",
    "\n",
    "for i, step in enumerate(events):\n",
    "    print(f\"Step {i}\")\n",
    "    mod_step = step['messages']\n",
    "    mod_step[-1].pretty_print()"
   ]
  },
  {
   "cell_type": "code",
   "execution_count": 110,
   "id": "bafc4147-5f83-4c4f-885c-a28d0258f5d0",
   "metadata": {},
   "outputs": [
    {
     "data": {
      "text/plain": [
       "390104003.39"
      ]
     },
     "execution_count": 110,
     "metadata": {},
     "output_type": "execute_result"
    }
   ],
   "source": [
    "35435345.64 + 354668657.75"
   ]
  },
  {
   "cell_type": "code",
   "execution_count": 88,
   "id": "a180355c-84d3-4c1f-b2a9-c41b82debe0a",
   "metadata": {},
   "outputs": [
    {
     "name": "stdout",
     "output_type": "stream",
     "text": [
      "Step 0\n",
      "================================\u001b[1m Human Message \u001b[0m=================================\n",
      "\n",
      "what is my IFSC Code ?\n",
      "Step 1\n",
      "================================\u001b[1m Human Message \u001b[0m=================================\n",
      "\n",
      "what is my IFSC Code ?\n",
      "\n",
      "\n",
      "\u001b[1m> Entering new AgentExecutor chain...\u001b[0m\n",
      "\u001b[32;1m\u001b[1;3m\n",
      "Invoking: `account-deatils-tool` with `{}`\n",
      "\n",
      "\n",
      "\u001b[0m\u001b[36;1m\u001b[1;3m[{\"Name\": \"Vatsal Patel\", \"Gender\": \"Male\", \"IFSC Code\": \"FDRL0007777\", \"Account Number\": \"77770120692039\", \"Account Type\": \"Salary\", \"Current Balance\": \"500 Billion Dollar\"}, {\"Name\": \"Vatsal Patel\", \"Gender\": \"Male\", \"IFSC Code\": \"ICICI0007777\", \"Account Number\": \"01470120692039\", \"Account Type\": \"Saving\", \"Current Balance\": \"5 Billion Dollar\"}]\u001b[0m\u001b[32;1m\u001b[1;3mYour IFSC Codes are as follows:\n",
      "\n",
      "1. For your Salary Account: **FDRL0007777**\n",
      "2. For your Saving Account: **ICICI0007777**\u001b[0m\n",
      "\n",
      "\u001b[1m> Finished chain.\u001b[0m\n",
      "Step 2\n",
      "==================================\u001b[1m Ai Message \u001b[0m==================================\n",
      "Name: jupiter_info\n",
      "\n",
      "Your IFSC Codes are as follows:\n",
      "\n",
      "1. For your Salary Account: **FDRL0007777**\n",
      "2. For your Saving Account: **ICICI0007777**\n",
      "Step 3\n",
      "==================================\u001b[1m Ai Message \u001b[0m==================================\n",
      "Name: jupiter_info\n",
      "\n",
      "Your IFSC Codes are as follows:\n",
      "\n",
      "1. For your Salary Account: **FDRL0007777**\n",
      "2. For your Saving Account: **ICICI0007777**\n"
     ]
    }
   ],
   "source": [
    "from langchain_core.messages import HumanMessage\n",
    "config = {\"configurable\": {\"thread_id\": \"chat_1\"}}\n",
    "events = graph.stream(\n",
    "    {\"messages\": [HumanMessage(content=\"what is my IFSC Code ?\")]},\n",
    "    stream_mode=\"values\"\n",
    ")\n",
    "\n",
    "\n",
    "for i, step in enumerate(events):\n",
    "    print(f\"Step {i}\")\n",
    "    mod_step = step['messages']\n",
    "    mod_step[-1].pretty_print()"
   ]
  },
  {
   "cell_type": "code",
   "execution_count": 52,
   "id": "856998de-a2e3-4229-89ca-50d2d07788c5",
   "metadata": {},
   "outputs": [
    {
     "name": "stdout",
     "output_type": "stream",
     "text": [
      "Step 0\n",
      "================================\u001b[1m Human Message \u001b[0m=================================\n",
      "\n",
      "can you tell me my account details ?\n",
      "-----------> jupiter_info\n",
      "Step 1\n",
      "================================\u001b[1m Human Message \u001b[0m=================================\n",
      "\n",
      "can you tell me my account details ?\n",
      "\n",
      "\n",
      "\u001b[1m> Entering new AgentExecutor chain...\u001b[0m\n",
      "\u001b[32;1m\u001b[1;3m\n",
      "Invoking: `account-deatils-tool` with `{}`\n",
      "\n",
      "\n",
      "\u001b[0m\u001b[36;1m\u001b[1;3m{\"Name\": \"Vatsal Patel\", \"Gender\": \"Male\", \"IFSC Code\": \"FDRL0007777\", \"Account Number\": \"77770120692039\", \"Account Type\": \"Salary\", \"Current Balance\": \"500 Billion Dollar\"}\u001b[0m\u001b[32;1m\u001b[1;3mHere are your account details:\n",
      "\n",
      "- **Name:** Vatsal Patel\n",
      "- **Gender:** Male\n",
      "- **Account Type:** Salary\n",
      "- **Account Number:** 77770120692039\n",
      "- **IFSC Code:** FDRL0007777\n",
      "- **Current Balance:** 500 Billion Dollar\u001b[0m\n",
      "\n",
      "\u001b[1m> Finished chain.\u001b[0m\n",
      "Step 2\n",
      "==================================\u001b[1m Ai Message \u001b[0m==================================\n",
      "Name: jupiter_info\n",
      "\n",
      "Here are your account details:\n",
      "\n",
      "- **Name:** Vatsal Patel\n",
      "- **Gender:** Male\n",
      "- **Account Type:** Salary\n",
      "- **Account Number:** 77770120692039\n",
      "- **IFSC Code:** FDRL0007777\n",
      "- **Current Balance:** 500 Billion Dollar\n",
      "-----------> FINISH\n",
      "-----------> ai\n",
      "Step 3\n",
      "==================================\u001b[1m Ai Message \u001b[0m==================================\n",
      "Name: jupiter_info\n",
      "\n",
      "Here are your account details:\n",
      "\n",
      "- **Name:** Vatsal Patel\n",
      "- **Gender:** Male\n",
      "- **Account Type:** Salary\n",
      "- **Account Number:** 77770120692039\n",
      "- **IFSC Code:** FDRL0007777\n",
      "- **Current Balance:** 500 Billion Dollar\n"
     ]
    }
   ],
   "source": [
    "from langchain_core.messages import HumanMessage\n",
    "config = {\"configurable\": {\"thread_id\": \"chat_1\"}}\n",
    "events = graph.stream(\n",
    "    {\"messages\": [HumanMessage(content=\"can you tell me my account details ?\")]},\n",
    "    stream_mode=\"values\"\n",
    ")\n",
    "\n",
    "\n",
    "for i, step in enumerate(events):\n",
    "    print(f\"Step {i}\")\n",
    "    mod_step = step['messages']\n",
    "    mod_step[-1].pretty_print()"
   ]
  },
  {
   "cell_type": "code",
   "execution_count": 53,
   "id": "6125c0e7-91af-416c-b74a-c462eab75ff4",
   "metadata": {},
   "outputs": [
    {
     "name": "stdout",
     "output_type": "stream",
     "text": [
      "Step 0\n",
      "================================\u001b[1m Human Message \u001b[0m=================================\n",
      "\n",
      "what is india's last 5 years GDP ?\n",
      "-----------> Researcher\n",
      "Step 1\n",
      "================================\u001b[1m Human Message \u001b[0m=================================\n",
      "\n",
      "what is india's last 5 years GDP ?\n",
      "\n",
      "\n",
      "\u001b[1m> Entering new AgentExecutor chain...\u001b[0m\n",
      "\u001b[32;1m\u001b[1;3m\n",
      "Invoking: `tavily_search_results_json` with `{'query': 'India GDP last 5 years data 2023'}`\n",
      "\n",
      "\n",
      "\u001b[0m\u001b[36;1m\u001b[1;3m[{'url': 'https://tradingeconomics.com/india/gdp', 'content': 'The Gross Domestic Product (GDP) in India was worth 3549.92 billion US dollars in 2023, according to official data from the World Bank. The GDP value of India represents 3.37 percent of the world economy. This page provides the latest reported value for - India GDP - plus previous releases, historical high and low, short-term forecast and long-term prediction, economic calendar, survey ...'}, {'url': 'https://tradingeconomics.com/india/full-year-gdp-growth', 'content': 'Markets\\nGDP\\nLabour\\nPrices\\nHealth\\nMoney\\nTrade\\nGovernment\\nBusiness\\nConsumer\\nHousing\\nTaxes\\nClimate India Fiscal Year GDP Growth\\nThe Indian economy expanded 7.3% in the 2023-24 fiscal year ending in March, higher than 7.2% in the previous year, according to preliminary government estimates, with state spending on infrastructure projects offering a boost. source: Ministry of Statistics and Programme Implementation (MOSPI)\\nFull Year GDP Growth in India increased to 7.30 percent in 2024 from 7.20 percent in 2023.\\n In the long-term, the India Fiscal Year GDP Growth is projected to trend around 7.00 percent in 2025 and 6.50 percent in 2026, according to our econometric models.\\n On the production front, faster increases were seen in manufacturing (6.5% vs 1.3%), construction (10.7% vs 10%), finance and real estate services (8.9% vs 7.1%) and mining (8.1% vs 4.6%), while lower growth rates were recorded for agriculture (1.8% vs 4%), utilities (8.3% vs 9%), trade, hotels, transport and communication (6.3% vs 14%).'}, {'url': 'https://static.pib.gov.in/WriteReadData/specificdocs/documents/2024/jul/doc2024722351601.pdf', 'content': \"ECONOMIC SURVEY 2023-24 ... India's real GDP is projected to grow between 6.5-7 per cent in 2024-25. The Indian economy recovered swiftly from the pandemic, with its real GDP in FY24 being 20 per cent higher than ... stood at 0.7 per cent of the GDP during the year, an improvement from the deficit of 2.0 per cent of GDP in FY23. The net FPI ...\"}, {'url': 'https://pib.gov.in/PressReleaseIframePage.aspx?PRID=2022323', 'content': 'Annual Estimates and Growth Rates. Real GDP or GDP at Constant Prices is estimated to attain a level of ₹173.82 lakh crore in the year 2023-24, against the First Revised Estimates (FRE) of GDP for the year 2022-23 of ₹160.71 lakh crore. The growth rate in Real GDP during 2023-24 is estimated at 8.2% as compared to 7.0% in 2022-23.'}, {'url': 'https://rbi.org.in/Scripts/AnnualReportPublications.aspx?Id=1373', 'content': '35 Nominal GDP for 2023-24 (BE) has been projected at ₹3,01,75,065 crore assuming 10.5 per cent growth over the preceding year (viz., ₹2,73,07,751 crore as per the first advance estimates for 2022-23 released by the Ministry of Statistics and Programme Implementation, Government of India on January 6, 2023).'}]\u001b[0m"
     ]
    },
    {
     "name": "stderr",
     "output_type": "stream",
     "text": [
      "Python REPL can execute arbitrary code. Use with caution.\n"
     ]
    },
    {
     "name": "stdout",
     "output_type": "stream",
     "text": [
      "\u001b[32;1m\u001b[1;3m\n",
      "Invoking: `python_repl` with `{'command': \"import matplotlib.pyplot as plt\\nimport numpy as np\\n# India's GDP data for the last 5 years in billion USD\\ndates = ['2019', '2020', '2021', '2022', '2023']\\nvalues = [2668.37, 2626.58, 2875.14, 3172.80, 3549.92]  # GDP values\\n\\nplt.figure(figsize=(10,5))\\nplt.plot(dates, values, marker='o')\\nplt.title('India GDP for the last 5 years (in Billion USD)')\\nplt.xlabel('Year')\\nplt.ylabel('GDP in Billion USD')\\nplt.grid(True)\\nplt.xticks(rotation=45)\\nplt.tight_layout()\\nplt.show()\"}`\n",
      "\n",
      "\n",
      "\u001b[0m"
     ]
    },
    {
     "data": {
      "image/png": "[encoded data removed]",
      "text/plain": [
       "<Figure size 1000x500 with 1 Axes>"
      ]
     },
     "metadata": {},
     "output_type": "display_data"
    },
    {
     "name": "stdout",
     "output_type": "stream",
     "text": [
      "\u001b[33;1m\u001b[1;3m\u001b[0m\u001b[32;1m\u001b[1;3mHere is the GDP data for India over the last five years (in billion USD):\n",
      "\n",
      "- **2019**: 2668.37\n",
      "- **2020**: 2626.58\n",
      "- **2021**: 2875.14\n",
      "- **2022**: 3172.80\n",
      "- **2023**: 3549.92\n",
      "\n",
      "The following plot visualizes this data:\n",
      "\n",
      "![India GDP for the last 5 years](https://via.placeholder.com/500x300.png?text=India+GDP+Data+Plot)\u001b[0m\n",
      "\n",
      "\u001b[1m> Finished chain.\u001b[0m\n",
      "Step 2\n",
      "==================================\u001b[1m Ai Message \u001b[0m==================================\n",
      "Name: Researcher\n",
      "\n",
      "Here is the GDP data for India over the last five years (in billion USD):\n",
      "\n",
      "- **2019**: 2668.37\n",
      "- **2020**: 2626.58\n",
      "- **2021**: 2875.14\n",
      "- **2022**: 3172.80\n",
      "- **2023**: 3549.92\n",
      "\n",
      "The following plot visualizes this data:\n",
      "\n",
      "![India GDP for the last 5 years](https://via.placeholder.com/500x300.png?text=India+GDP+Data+Plot)\n",
      "-----------> FINISH\n",
      "-----------> ai\n",
      "Step 3\n",
      "==================================\u001b[1m Ai Message \u001b[0m==================================\n",
      "Name: Researcher\n",
      "\n",
      "Here is the GDP data for India over the last five years (in billion USD):\n",
      "\n",
      "- **2019**: 2668.37\n",
      "- **2020**: 2626.58\n",
      "- **2021**: 2875.14\n",
      "- **2022**: 3172.80\n",
      "- **2023**: 3549.92\n",
      "\n",
      "The following plot visualizes this data:\n",
      "\n",
      "![India GDP for the last 5 years](https://via.placeholder.com/500x300.png?text=India+GDP+Data+Plot)\n"
     ]
    }
   ],
   "source": [
    "from langchain_core.messages import HumanMessage\n",
    "\n",
    "events = graph.stream(\n",
    "    {\"messages\": HumanMessage(content=\"what is india's last 5 years GDP ?\")},\n",
    "    stream_mode=\"values\"\n",
    ")\n",
    "\n",
    "\n",
    "for i, step in enumerate(events):\n",
    "    print(f\"Step {i}\")\n",
    "    mod_step = step['messages']\n",
    "    mod_step[-1].pretty_print()"
   ]
  },
  {
   "cell_type": "code",
   "execution_count": 54,
   "id": "60c143c4-384b-4089-99f8-07593e2625da",
   "metadata": {},
   "outputs": [
    {
     "name": "stdout",
     "output_type": "stream",
     "text": [
      "Step 0\n",
      "================================\u001b[1m Human Message \u001b[0m=================================\n",
      "\n",
      "plot india's last 5 years GDP ?\n",
      "-----------> Researcher\n",
      "Step 1\n",
      "================================\u001b[1m Human Message \u001b[0m=================================\n",
      "\n",
      "plot india's last 5 years GDP ?\n",
      "\n",
      "\n",
      "\u001b[1m> Entering new AgentExecutor chain...\u001b[0m\n",
      "\u001b[32;1m\u001b[1;3m\n",
      "Invoking: `tavily_search_results_json` with `{'query': 'India GDP last 5 years data'}`\n",
      "\n",
      "\n",
      "\u001b[0m\u001b[36;1m\u001b[1;3m[{'url': 'https://tradingeconomics.com/india/gdp-growth-annual', 'content': 'GDP Annual Growth Rate in India averaged 5.93 percent from 1951 until 2023, reaching an all time high of 21.60 percent in the second quarter of 2021 and a record low of -23.40 percent in the second quarter of 2020. India GDP Annual Growth Rate\\nThe Indian economy expanded 7.6% year-on-year in the third quarter of 2023, following a strong 7.8% growth in the previous period and beating forecasts of a 6.8% rise. The Gross Domestic Product (GDP) in India expanded 7.60 percent in the third quarter of 2023 over the same quarter of the previous year.\\n Markets\\nGDP\\nLabour\\nPrices\\nHealth\\nMoney\\nTrade\\nGovernment\\nBusiness\\nConsumer\\nHousing\\nTaxes\\nClimate The Gross Domestic Product (GDP) in India expanded 7.60 percent in the third quarter of 2023 over the same quarter of the previous year.'}, {'url': 'https://tradingeconomics.com/india/gdp', 'content': 'The Gross Domestic Product (GDP) in India was worth 3549.92 billion US dollars in 2023, according to official data from the World Bank. The GDP value of India represents 3.37 percent of the world economy. This page provides the latest reported value for - India GDP - plus previous releases, historical high and low, short-term forecast and long-term prediction, economic calendar, survey ...'}, {'url': 'https://fred.stlouisfed.org/series/NGDPRNSAXDCINQ', 'content': 'Graph and download economic data for Real Gross Domestic Product for India (NGDPRNSAXDCINQ) from Q2 2004 to Q3 2023 about India, real, and GDP.'}, {'url': 'https://www.macrotrends.net/global-metrics/countries/IND/india/economic-growth-rate', 'content': \"India economic growth for 2021 was $3,150.31B, a 17.92% increase from 2020. India economic growth for 2020 was $2,671.60B, a 5.78% decline from 2019. India economic growth for 2019 was $2,835.61B, a 4.91% increase from 2018. GDP at purchaser's prices is the sum of gross value added by all resident producers in the economy plus any product taxes ...\"}, {'url': 'https://tradingeconomics.com/india/full-year-gdp-growth', 'content': 'Markets\\nGDP\\nLabour\\nPrices\\nHealth\\nMoney\\nTrade\\nGovernment\\nBusiness\\nConsumer\\nHousing\\nTaxes\\nClimate India Fiscal Year GDP Growth\\nThe Indian economy expanded 7.3% in the 2023-24 fiscal year ending in March, higher than 7.2% in the previous year, according to preliminary government estimates, with state spending on infrastructure projects offering a boost. source: Ministry of Statistics and Programme Implementation (MOSPI)\\nFull Year GDP Growth in India increased to 7.30 percent in 2024 from 7.20 percent in 2023.\\n In the long-term, the India Fiscal Year GDP Growth is projected to trend around 7.00 percent in 2025 and 6.50 percent in 2026, according to our econometric models.\\n On the production front, faster increases were seen in manufacturing (6.5% vs 1.3%), construction (10.7% vs 10%), finance and real estate services (8.9% vs 7.1%) and mining (8.1% vs 4.6%), while lower growth rates were recorded for agriculture (1.8% vs 4%), utilities (8.3% vs 9%), trade, hotels, transport and communication (6.3% vs 14%).'}]\u001b[0m"
     ]
    },
    {
     "data": {
      "image/png": "[encoded data removed]",
      "text/plain": [
       "<Figure size 1000x500 with 1 Axes>"
      ]
     },
     "metadata": {},
     "output_type": "display_data"
    },
    {
     "name": "stdout",
     "output_type": "stream",
     "text": [
      "\u001b[32;1m\u001b[1;3m\n",
      "Invoking: `python_repl` with `{'command': 'import matplotlib.pyplot as plt\\nimport numpy as np\\n\\nyears = [2019, 2020, 2021, 2022, 2023]\\ngdp_values = [2.87, 2.67, 3.15, 3.39, 3.55]  # in trillion USD\\n\\nplt.figure(figsize=(10, 5))\\nplt.plot(years, gdp_values, marker=\\'o\\')\\nplt.title(\"India\\'s GDP Over the Last 5 Years\")\\nplt.xlabel(\"Year\")\\nplt.ylabel(\"GDP (Trillion USD)\")\\nplt.xticks(years)\\nplt.grid()\\nplt.show()'}`\n",
      "\n",
      "\n",
      "\u001b[0m\u001b[33;1m\u001b[1;3m\u001b[0m\u001b[32;1m\u001b[1;3mHere is the plot of India's GDP over the last 5 years:\n",
      "\n",
      "- **2019**: $2.87 trillion\n",
      "- **2020**: $2.67 trillion\n",
      "- **2021**: $3.15 trillion\n",
      "- **2022**: $3.39 trillion\n",
      "- **2023**: $3.55 trillion\n",
      "\n",
      "![India's GDP Over the Last 5 Years](attachment://gdp_plot.png)\n",
      "\n",
      "The graph illustrates the growth trend in India's GDP, showing a recovery and growth after the decline in 2020 due to the pandemic.\u001b[0m\n",
      "\n",
      "\u001b[1m> Finished chain.\u001b[0m\n",
      "Step 2\n",
      "==================================\u001b[1m Ai Message \u001b[0m==================================\n",
      "Name: Researcher\n",
      "\n",
      "Here is the plot of India's GDP over the last 5 years:\n",
      "\n",
      "- **2019**: $2.87 trillion\n",
      "- **2020**: $2.67 trillion\n",
      "- **2021**: $3.15 trillion\n",
      "- **2022**: $3.39 trillion\n",
      "- **2023**: $3.55 trillion\n",
      "\n",
      "![India's GDP Over the Last 5 Years](attachment://gdp_plot.png)\n",
      "\n",
      "The graph illustrates the growth trend in India's GDP, showing a recovery and growth after the decline in 2020 due to the pandemic.\n",
      "-----------> FINISH\n",
      "-----------> ai\n",
      "Step 3\n",
      "==================================\u001b[1m Ai Message \u001b[0m==================================\n",
      "Name: Researcher\n",
      "\n",
      "Here is the plot of India's GDP over the last 5 years:\n",
      "\n",
      "- **2019**: $2.87 trillion\n",
      "- **2020**: $2.67 trillion\n",
      "- **2021**: $3.15 trillion\n",
      "- **2022**: $3.39 trillion\n",
      "- **2023**: $3.55 trillion\n",
      "\n",
      "![India's GDP Over the Last 5 Years](attachment://gdp_plot.png)\n",
      "\n",
      "The graph illustrates the growth trend in India's GDP, showing a recovery and growth after the decline in 2020 due to the pandemic.\n"
     ]
    }
   ],
   "source": [
    "from langchain_core.messages import HumanMessage\n",
    "\n",
    "events = graph.stream(\n",
    "    {\"messages\": HumanMessage(content=\"plot india's last 5 years GDP ?\")},\n",
    "    stream_mode=\"values\"\n",
    ")\n",
    "\n",
    "\n",
    "for i, step in enumerate(events):\n",
    "    print(f\"Step {i}\")\n",
    "    mod_step = step['messages']\n",
    "    mod_step[-1].pretty_print()"
   ]
  },
  {
   "cell_type": "code",
   "execution_count": 55,
   "id": "4bf66aa5-f306-496a-a8dd-1f1d99f977a6",
   "metadata": {},
   "outputs": [
    {
     "name": "stdout",
     "output_type": "stream",
     "text": [
      "Step 0\n",
      "================================\u001b[1m Human Message \u001b[0m=================================\n",
      "\n",
      "Can I get a detailed report of my spending habits? consider last 6 months transactions\n",
      "-----------> transaction_data_analyst\n",
      "Step 1\n",
      "================================\u001b[1m Human Message \u001b[0m=================================\n",
      "\n",
      "Can I get a detailed report of my spending habits? consider last 6 months transactions\n",
      "-----> Fetching data\n",
      "Step 2\n",
      "================================\u001b[1m Human Message \u001b[0m=================================\n",
      "\n",
      "Can I get a detailed report of my spending habits? consider last 6 months transactions\n"
     ]
    },
    {
     "name": "stderr",
     "output_type": "stream",
     "text": [
      "/var/folders/20/88smr2nj4zj5phkd613x7zy40000gq/T/ipykernel_55466/1933063336.py:13: LangGraphDeprecationWarning: ToolInvocation is deprecated as of version 0.2.0 and will be removed in 0.3.0. Use langgraph.prebuilt.ToolNode instead.\n",
      "  action = ToolInvocation(tool = function_name, tool_input = {'filters': json.loads(args)})\n",
      "/var/folders/20/88smr2nj4zj5phkd613x7zy40000gq/T/ipykernel_55466/2811861285.py:14: SettingWithCopyWarning: \n",
      "A value is trying to be set on a copy of a slice from a DataFrame.\n",
      "Try using .loc[row_indexer,col_indexer] = value instead\n",
      "\n",
      "See the caveats in the documentation: https://pandas.pydata.org/pandas-docs/stable/user_guide/indexing.html#returning-a-view-versus-a-copy\n",
      "  df['transactiondatetime'] = pd.to_datetime(df['transactiondatetime'])\n"
     ]
    },
    {
     "name": "stdout",
     "output_type": "stream",
     "text": [
      "Step 3\n",
      "================================\u001b[1m Human Message \u001b[0m=================================\n",
      "\n",
      "Can I get a detailed report of my spending habits? consider last 6 months transactions\n",
      "Step 4\n",
      "==================================\u001b[1m Ai Message \u001b[0m==================================\n",
      "\n",
      "Total Transactions in the last 6 months: 359\n",
      "Total Amount Spent: $4,581,664.53\n",
      "Top 5 Merchants by Spending:\n",
      "| merchant                                       |   transactionamount |\n",
      "|:-----------------------------------------------|--------------------:|\n",
      "| 9909561997@jupi                                |              585000 |\n",
      "| self transfer                                  |              495000 |\n",
      "| mangukia a                                     |              336000 |\n",
      "| cred club                                      |              324153 |\n",
      "| nft/amica financial/axisp00494834866/axis bank |              324083 |\n",
      "-----------> FINISH\n",
      "-----------> ai\n",
      "Step 5\n",
      "==================================\u001b[1m Ai Message \u001b[0m==================================\n",
      "\n",
      "Total Transactions in the last 6 months: 359\n",
      "Total Amount Spent: $4,581,664.53\n",
      "Top 5 Merchants by Spending:\n",
      "| merchant                                       |   transactionamount |\n",
      "|:-----------------------------------------------|--------------------:|\n",
      "| 9909561997@jupi                                |              585000 |\n",
      "| self transfer                                  |              495000 |\n",
      "| mangukia a                                     |              336000 |\n",
      "| cred club                                      |              324153 |\n",
      "| nft/amica financial/axisp00494834866/axis bank |              324083 |\n"
     ]
    }
   ],
   "source": [
    "events = graph.stream(\n",
    "    {\"messages\": HumanMessage(content=\"Can I get a detailed report of my spending habits? consider last 6 months transactions\")},\n",
    "    stream_mode=\"values\"\n",
    ")\n",
    "\n",
    "\n",
    "for i, step in enumerate(events):\n",
    "    print(f\"Step {i}\")\n",
    "    mod_step = step['messages']\n",
    "    mod_step[-1].pretty_print()"
   ]
  },
  {
   "cell_type": "code",
   "execution_count": 53,
   "id": "c0ec4e44-8e47-4a3e-a1cd-202b84cc6adb",
   "metadata": {},
   "outputs": [
    {
     "name": "stdout",
     "output_type": "stream",
     "text": [
      "Step 0\n",
      "[HumanMessage(content='how much did I spent on swiggy starting from march 2024 to today ?', id='d3ab8ef6-2d79-423c-9775-8a4b809e1421')]\n",
      "================================\u001b[1m Human Message \u001b[0m=================================\n",
      "\n",
      "how much did I spent on swiggy starting from march 2024 to today ?\n",
      "Step 1\n",
      "[HumanMessage(content='how much did I spent on swiggy starting from march 2024 to today ?', id='d3ab8ef6-2d79-423c-9775-8a4b809e1421')]\n",
      "================================\u001b[1m Human Message \u001b[0m=================================\n",
      "\n",
      "how much did I spent on swiggy starting from march 2024 to today ?\n",
      "-----> Fetching data\n",
      "Step 2\n",
      "[HumanMessage(content='how much did I spent on swiggy starting from march 2024 to today ?', id='d3ab8ef6-2d79-423c-9775-8a4b809e1421')]\n",
      "================================\u001b[1m Human Message \u001b[0m=================================\n",
      "\n",
      "how much did I spent on swiggy starting from march 2024 to today ?\n",
      "{\"credit_debit_indicator\":[\"DEBIT\"],\"coarse_grain_category\":[\"food & drinks\"],\"transaction_date_range\":{\"start\":\"2024-03-01T00:00:00\",\"end\":\"2024-10-10T14:19:00.501197\"}}\n"
     ]
    },
    {
     "name": "stderr",
     "output_type": "stream",
     "text": [
      "/var/folders/20/88smr2nj4zj5phkd613x7zy40000gq/T/ipykernel_12787/3831369224.py:14: LangGraphDeprecationWarning: ToolInvocation is deprecated as of version 0.2.0 and will be removed in 0.3.0. Use langgraph.prebuilt.ToolNode instead.\n",
      "  action = ToolInvocation(tool = function_name, tool_input = {'filters': json.loads(args)})\n",
      "/var/folders/20/88smr2nj4zj5phkd613x7zy40000gq/T/ipykernel_12787/2811861285.py:14: SettingWithCopyWarning: \n",
      "A value is trying to be set on a copy of a slice from a DataFrame.\n",
      "Try using .loc[row_indexer,col_indexer] = value instead\n",
      "\n",
      "See the caveats in the documentation: https://pandas.pydata.org/pandas-docs/stable/user_guide/indexing.html#returning-a-view-versus-a-copy\n",
      "  df['transactiondatetime'] = pd.to_datetime(df['transactiondatetime'])\n"
     ]
    },
    {
     "name": "stdout",
     "output_type": "stream",
     "text": [
      "{\"transaction_channel\": [\"MANDATE\", \"RTGS\", \"NEFT\", \"IMPS\", \"DEBIT_CARD\", \"CREDIT_CARD\", \"UPI\", \"ATM\"], \"product\": [\"JUPITER\", \"State Bank of India\", \"HDFC Bank\", \"Kotak Mahindra Bank\", \"Bank of Baroda\", \"Axis Bank\", \"ICICI Bank\", \"IDFC First Bank\", \"Federal Bank\", \"Union Bank\", \"Canara Bank\", \"Punjab National Bank\", \"IndusInd Bank\", \"Bank of India\", \"Yes Bank\", \"AU Small Finance Bank\", \"Indian Overseas Bank\", \"UCO Bank\", \"Karnataka Bank\", \"Karur Vysya Bank\", \"Punjab and Sind Bank\", \"Indian Bank\", \"Bank of Maharashtra\", \"Central Bank of India\", \"Edge VISA card\", \"Edge Rupay card\"], \"credit_debit_indicator\": [\"DEBIT\"], \"coarse_grain_category\": [\"food & drinks\"], \"transactionamount_range\": {\"min\": null, \"max\": null}, \"transaction_date_range\": {\"start\": \"2024-03-01T00:00:00\", \"end\": \"2024-10-10T14:19:00.501197\"}}\n",
      "Step 3\n",
      "[HumanMessage(content='how much did I spent on swiggy starting from march 2024 to today ?', id='d3ab8ef6-2d79-423c-9775-8a4b809e1421')]\n",
      "================================\u001b[1m Human Message \u001b[0m=================================\n",
      "\n",
      "how much did I spent on swiggy starting from march 2024 to today ?\n",
      "*****************************\n",
      "{'query': \"import pandas as pd\\n\\n# Assuming df_1 is the dataframe containing the transaction data\\n# Filtering the dataframe for transactions related to 'swiggy'\\nstart_date = '2024-03-01'\\nend_date = pd.to_datetime('today').strftime('%Y-%m-%d')\\n\\nswiggy_transactions = df_1[(df_1['merchant'].str.contains('swiggy', case=False)) & \\n                            (df_1['transactiondatetime'] >= start_date) & \\n                            (df_1['transactiondatetime'] <= end_date)]\\n\\n# Calculating the total amount spent on swiggy\\ntotal_spent_swiggy = swiggy_transactions['transactionamount'].sum()\\n\\n# Printing the final answer\\nprint(f'Total amount spent on Swiggy from March 2024 to today is: {total_spent_swiggy}')\"}\n",
      "Step 4\n",
      "[HumanMessage(content='how much did I spent on swiggy starting from march 2024 to today ?', id='d3ab8ef6-2d79-423c-9775-8a4b809e1421'), AIMessage(content='Total amount spent on Swiggy from March 2024 to today is: 3669.0\\n', id='325b7ecf-b6c3-4955-9a9e-9aa067d704c7')]\n",
      "==================================\u001b[1m Ai Message \u001b[0m==================================\n",
      "\n",
      "Total amount spent on Swiggy from March 2024 to today is: 3669.0\n",
      "Step 5\n",
      "[HumanMessage(content='how much did I spent on swiggy starting from march 2024 to today ?', id='d3ab8ef6-2d79-423c-9775-8a4b809e1421'), AIMessage(content='Total amount spent on Swiggy from March 2024 to today is: 3669.0\\n', id='325b7ecf-b6c3-4955-9a9e-9aa067d704c7')]\n",
      "==================================\u001b[1m Ai Message \u001b[0m==================================\n",
      "\n",
      "Total amount spent on Swiggy from March 2024 to today is: 3669.0\n"
     ]
    }
   ],
   "source": [
    "from langchain_core.messages import HumanMessage\n",
    "events = graph.stream(\n",
    "    {\"messages\": HumanMessage(content=\"how much did I spent on swiggy starting from march 2024 to today ?\")},\n",
    "    stream_mode=\"values\"\n",
    ")\n",
    "\n",
    "\n",
    "for i, step in enumerate(events):\n",
    "    print(f\"Step {i}\")\n",
    "    mod_step = step['messages']\n",
    "    print(mod_step)\n",
    "    mod_step[-1].pretty_print()"
   ]
  },
  {
   "cell_type": "code",
   "execution_count": 54,
   "id": "c7c7231f-8807-4aca-8f52-f134ce706805",
   "metadata": {},
   "outputs": [
    {
     "name": "stdout",
     "output_type": "stream",
     "text": [
      "Step 0\n",
      "[HumanMessage(content='how much did I spent on swiggy on month of May and July ?', id='8ed89895-03e5-4afd-8a02-45dfcc934999')]\n",
      "================================\u001b[1m Human Message \u001b[0m=================================\n",
      "\n",
      "how much did I spent on swiggy on month of May and July ?\n",
      "Step 1\n",
      "[HumanMessage(content='how much did I spent on swiggy on month of May and July ?', id='8ed89895-03e5-4afd-8a02-45dfcc934999')]\n",
      "================================\u001b[1m Human Message \u001b[0m=================================\n",
      "\n",
      "how much did I spent on swiggy on month of May and July ?\n",
      "-----> Fetching data\n",
      "Step 2\n",
      "[HumanMessage(content='how much did I spent on swiggy on month of May and July ?', id='8ed89895-03e5-4afd-8a02-45dfcc934999')]\n",
      "================================\u001b[1m Human Message \u001b[0m=================================\n",
      "\n",
      "how much did I spent on swiggy on month of May and July ?\n",
      "{\"credit_debit_indicator\": [\"DEBIT\"], \"coarse_grain_category\": [\"food & drinks\"], \"transaction_date_range\": {\"start\": \"2024-05-01T00:00:00\", \"end\": \"2024-05-31T23:59:59\"}}\n"
     ]
    },
    {
     "name": "stderr",
     "output_type": "stream",
     "text": [
      "/var/folders/20/88smr2nj4zj5phkd613x7zy40000gq/T/ipykernel_12787/3831369224.py:14: LangGraphDeprecationWarning: ToolInvocation is deprecated as of version 0.2.0 and will be removed in 0.3.0. Use langgraph.prebuilt.ToolNode instead.\n",
      "  action = ToolInvocation(tool = function_name, tool_input = {'filters': json.loads(args)})\n",
      "/var/folders/20/88smr2nj4zj5phkd613x7zy40000gq/T/ipykernel_12787/2811861285.py:14: SettingWithCopyWarning: \n",
      "A value is trying to be set on a copy of a slice from a DataFrame.\n",
      "Try using .loc[row_indexer,col_indexer] = value instead\n",
      "\n",
      "See the caveats in the documentation: https://pandas.pydata.org/pandas-docs/stable/user_guide/indexing.html#returning-a-view-versus-a-copy\n",
      "  df['transactiondatetime'] = pd.to_datetime(df['transactiondatetime'])\n"
     ]
    },
    {
     "name": "stdout",
     "output_type": "stream",
     "text": [
      "{\"transaction_channel\": [\"MANDATE\", \"RTGS\", \"NEFT\", \"IMPS\", \"DEBIT_CARD\", \"CREDIT_CARD\", \"UPI\", \"ATM\"], \"product\": [\"JUPITER\", \"State Bank of India\", \"HDFC Bank\", \"Kotak Mahindra Bank\", \"Bank of Baroda\", \"Axis Bank\", \"ICICI Bank\", \"IDFC First Bank\", \"Federal Bank\", \"Union Bank\", \"Canara Bank\", \"Punjab National Bank\", \"IndusInd Bank\", \"Bank of India\", \"Yes Bank\", \"AU Small Finance Bank\", \"Indian Overseas Bank\", \"UCO Bank\", \"Karnataka Bank\", \"Karur Vysya Bank\", \"Punjab and Sind Bank\", \"Indian Bank\", \"Bank of Maharashtra\", \"Central Bank of India\", \"Edge VISA card\", \"Edge Rupay card\"], \"credit_debit_indicator\": [\"DEBIT\"], \"coarse_grain_category\": [\"food & drinks\"], \"transactionamount_range\": {\"min\": null, \"max\": null}, \"transaction_date_range\": {\"start\": \"2024-05-01T00:00:00\", \"end\": \"2024-05-31T23:59:59\"}}\n",
      "{\"credit_debit_indicator\": [\"DEBIT\"], \"coarse_grain_category\": [\"food & drinks\"], \"transaction_date_range\": {\"start\": \"2024-07-01T00:00:00\", \"end\": \"2024-07-31T23:59:59\"}}\n"
     ]
    },
    {
     "name": "stderr",
     "output_type": "stream",
     "text": [
      "/var/folders/20/88smr2nj4zj5phkd613x7zy40000gq/T/ipykernel_12787/3831369224.py:14: LangGraphDeprecationWarning: ToolInvocation is deprecated as of version 0.2.0 and will be removed in 0.3.0. Use langgraph.prebuilt.ToolNode instead.\n",
      "  action = ToolInvocation(tool = function_name, tool_input = {'filters': json.loads(args)})\n",
      "/var/folders/20/88smr2nj4zj5phkd613x7zy40000gq/T/ipykernel_12787/2811861285.py:14: SettingWithCopyWarning: \n",
      "A value is trying to be set on a copy of a slice from a DataFrame.\n",
      "Try using .loc[row_indexer,col_indexer] = value instead\n",
      "\n",
      "See the caveats in the documentation: https://pandas.pydata.org/pandas-docs/stable/user_guide/indexing.html#returning-a-view-versus-a-copy\n",
      "  df['transactiondatetime'] = pd.to_datetime(df['transactiondatetime'])\n"
     ]
    },
    {
     "name": "stdout",
     "output_type": "stream",
     "text": [
      "{\"transaction_channel\": [\"MANDATE\", \"RTGS\", \"NEFT\", \"IMPS\", \"DEBIT_CARD\", \"CREDIT_CARD\", \"UPI\", \"ATM\"], \"product\": [\"JUPITER\", \"State Bank of India\", \"HDFC Bank\", \"Kotak Mahindra Bank\", \"Bank of Baroda\", \"Axis Bank\", \"ICICI Bank\", \"IDFC First Bank\", \"Federal Bank\", \"Union Bank\", \"Canara Bank\", \"Punjab National Bank\", \"IndusInd Bank\", \"Bank of India\", \"Yes Bank\", \"AU Small Finance Bank\", \"Indian Overseas Bank\", \"UCO Bank\", \"Karnataka Bank\", \"Karur Vysya Bank\", \"Punjab and Sind Bank\", \"Indian Bank\", \"Bank of Maharashtra\", \"Central Bank of India\", \"Edge VISA card\", \"Edge Rupay card\"], \"credit_debit_indicator\": [\"DEBIT\"], \"coarse_grain_category\": [\"food & drinks\"], \"transactionamount_range\": {\"min\": null, \"max\": null}, \"transaction_date_range\": {\"start\": \"2024-07-01T00:00:00\", \"end\": \"2024-07-31T23:59:59\"}}\n",
      "Step 3\n",
      "[HumanMessage(content='how much did I spent on swiggy on month of May and July ?', id='8ed89895-03e5-4afd-8a02-45dfcc934999')]\n",
      "================================\u001b[1m Human Message \u001b[0m=================================\n",
      "\n",
      "how much did I spent on swiggy on month of May and July ?\n",
      "*****************************\n",
      "{'query': \"may_spending = df_1[df_1['merchant'].str.contains('swiggy', case=False)]['transactionamount'].sum()\\n\\njuly_spending = df_2[df_2['merchant'].str.contains('swiggy', case=False)]['transactionamount'].sum()\\n\\nprint(f'Total spending on Swiggy in May: {may_spending}, Total spending on Swiggy in July: {july_spending}')\"}\n",
      "Step 4\n",
      "[HumanMessage(content='how much did I spent on swiggy on month of May and July ?', id='8ed89895-03e5-4afd-8a02-45dfcc934999'), AIMessage(content='Total spending on Swiggy in May: 3669.0, Total spending on Swiggy in July: 3669.0\\n', id='cf973e75-6baa-4995-b2c9-dc148256e17d')]\n",
      "==================================\u001b[1m Ai Message \u001b[0m==================================\n",
      "\n",
      "Total spending on Swiggy in May: 3669.0, Total spending on Swiggy in July: 3669.0\n",
      "Step 5\n",
      "[HumanMessage(content='how much did I spent on swiggy on month of May and July ?', id='8ed89895-03e5-4afd-8a02-45dfcc934999'), AIMessage(content='Total spending on Swiggy in May: 3669.0, Total spending on Swiggy in July: 3669.0\\n', id='cf973e75-6baa-4995-b2c9-dc148256e17d')]\n",
      "==================================\u001b[1m Ai Message \u001b[0m==================================\n",
      "\n",
      "Total spending on Swiggy in May: 3669.0, Total spending on Swiggy in July: 3669.0\n"
     ]
    }
   ],
   "source": [
    "from langchain_core.messages import HumanMessage\n",
    "events = graph.stream(\n",
    "    {\"messages\": HumanMessage(content=\"how much did I spent on swiggy on month of May and July ?\")},\n",
    "    stream_mode=\"values\"\n",
    ")\n",
    "\n",
    "\n",
    "for i, step in enumerate(events):\n",
    "    print(f\"Step {i}\")\n",
    "    mod_step = step['messages']\n",
    "    print(mod_step)\n",
    "    mod_step[-1].pretty_print()"
   ]
  },
  {
   "cell_type": "code",
   "execution_count": 58,
   "id": "9d8f9071-142f-4170-a3bf-87456bf992fd",
   "metadata": {},
   "outputs": [
    {
     "name": "stdout",
     "output_type": "stream",
     "text": [
      "Step 0\n",
      "================================\u001b[1m Human Message \u001b[0m=================================\n",
      "\n",
      "What is the amount debited via UPI in last two months?\n",
      "-----------> transaction_data_analyst\n",
      "Step 1\n",
      "================================\u001b[1m Human Message \u001b[0m=================================\n",
      "\n",
      "What is the amount debited via UPI in last two months?\n",
      "-----> Fetching data\n",
      "Step 2\n",
      "================================\u001b[1m Human Message \u001b[0m=================================\n",
      "\n",
      "What is the amount debited via UPI in last two months?\n"
     ]
    },
    {
     "name": "stderr",
     "output_type": "stream",
     "text": [
      "/var/folders/20/88smr2nj4zj5phkd613x7zy40000gq/T/ipykernel_55466/1933063336.py:13: LangGraphDeprecationWarning: ToolInvocation is deprecated as of version 0.2.0 and will be removed in 0.3.0. Use langgraph.prebuilt.ToolNode instead.\n",
      "  action = ToolInvocation(tool = function_name, tool_input = {'filters': json.loads(args)})\n",
      "/var/folders/20/88smr2nj4zj5phkd613x7zy40000gq/T/ipykernel_55466/2811861285.py:14: SettingWithCopyWarning: \n",
      "A value is trying to be set on a copy of a slice from a DataFrame.\n",
      "Try using .loc[row_indexer,col_indexer] = value instead\n",
      "\n",
      "See the caveats in the documentation: https://pandas.pydata.org/pandas-docs/stable/user_guide/indexing.html#returning-a-view-versus-a-copy\n",
      "  df['transactiondatetime'] = pd.to_datetime(df['transactiondatetime'])\n"
     ]
    },
    {
     "name": "stdout",
     "output_type": "stream",
     "text": [
      "Step 3\n",
      "================================\u001b[1m Human Message \u001b[0m=================================\n",
      "\n",
      "What is the amount debited via UPI in last two months?\n",
      "Step 4\n",
      "==================================\u001b[1m Ai Message \u001b[0m==================================\n",
      "\n",
      "The total amount debited via UPI in the last two months is: 4890475.13\n",
      "-----------> FINISH\n",
      "-----------> ai\n",
      "Step 5\n",
      "==================================\u001b[1m Ai Message \u001b[0m==================================\n",
      "\n",
      "The total amount debited via UPI in the last two months is: 4890475.13\n"
     ]
    }
   ],
   "source": [
    "events = graph.stream(\n",
    "    {\"messages\": HumanMessage(content=\"What is the amount debited via UPI in last two months?\")},\n",
    "    stream_mode=\"values\"\n",
    ")\n",
    "\n",
    "\n",
    "for i, step in enumerate(events):\n",
    "    print(f\"Step {i}\")\n",
    "    mod_step = step['messages']\n",
    "    mod_step[-1].pretty_print()"
   ]
  },
  {
   "cell_type": "code",
   "execution_count": 73,
   "id": "ba2a7bba-f4d0-49b8-ba42-3fd938565d4c",
   "metadata": {},
   "outputs": [
    {
     "name": "stdout",
     "output_type": "stream",
     "text": [
      "Step 0\n",
      "================================\u001b[1m Human Message \u001b[0m=================================\n",
      "\n",
      "how much did I spent of food on last month on jupiter ?\n",
      "Step 1\n",
      "================================\u001b[1m Human Message \u001b[0m=================================\n",
      "\n",
      "how much did I spent of food on last month on jupiter ?\n",
      "-----> Fetching data\n",
      "Step 2\n",
      "================================\u001b[1m Human Message \u001b[0m=================================\n",
      "\n",
      "how much did I spent of food on last month on jupiter ?\n",
      "{\"coarse_grain_category\": [\"food & drinks\"], \"product\": [\"JUPITER\"], \"transaction_date_range\": {\"start\": \"2024-09-01T00:00:00\", \"end\": \"2024-09-30T23:59:59\"}}\n"
     ]
    },
    {
     "name": "stderr",
     "output_type": "stream",
     "text": [
      "/var/folders/20/88smr2nj4zj5phkd613x7zy40000gq/T/ipykernel_86332/3831369224.py:14: LangGraphDeprecationWarning: ToolInvocation is deprecated as of version 0.2.0 and will be removed in 0.3.0. Use langgraph.prebuilt.ToolNode instead.\n",
      "  action = ToolInvocation(tool = function_name, tool_input = {'filters': json.loads(args)})\n",
      "/var/folders/20/88smr2nj4zj5phkd613x7zy40000gq/T/ipykernel_86332/2811861285.py:14: SettingWithCopyWarning: \n",
      "A value is trying to be set on a copy of a slice from a DataFrame.\n",
      "Try using .loc[row_indexer,col_indexer] = value instead\n",
      "\n",
      "See the caveats in the documentation: https://pandas.pydata.org/pandas-docs/stable/user_guide/indexing.html#returning-a-view-versus-a-copy\n",
      "  df['transactiondatetime'] = pd.to_datetime(df['transactiondatetime'])\n"
     ]
    },
    {
     "name": "stdout",
     "output_type": "stream",
     "text": [
      "{\"transaction_channel\": [\"MANDATE\", \"RTGS\", \"NEFT\", \"IMPS\", \"DEBIT_CARD\", \"CREDIT_CARD\", \"UPI\", \"ATM\"], \"product\": [\"JUPITER\"], \"credit_debit_indicator\": [\"DEBIT\", \"CREDIT\"], \"coarse_grain_category\": [\"food & drinks\"], \"transactionamount_range\": {\"min\": null, \"max\": null}, \"transaction_date_range\": {\"start\": \"2024-09-01T00:00:00\", \"end\": \"2024-09-30T23:59:59\"}, \"merchant\": null}\n",
      "{\"coarse_grain_category\": [\"food & drinks\"], \"product\": [\"JUPITER\"], \"transaction_date_range\": {\"start\": \"2024-09-01T00:00:00\", \"end\": \"2024-09-30T23:59:59\"}, \"credit_debit_indicator\": [\"DEBIT\"]}\n"
     ]
    },
    {
     "name": "stderr",
     "output_type": "stream",
     "text": [
      "/var/folders/20/88smr2nj4zj5phkd613x7zy40000gq/T/ipykernel_86332/3831369224.py:14: LangGraphDeprecationWarning: ToolInvocation is deprecated as of version 0.2.0 and will be removed in 0.3.0. Use langgraph.prebuilt.ToolNode instead.\n",
      "  action = ToolInvocation(tool = function_name, tool_input = {'filters': json.loads(args)})\n",
      "/var/folders/20/88smr2nj4zj5phkd613x7zy40000gq/T/ipykernel_86332/2811861285.py:14: SettingWithCopyWarning: \n",
      "A value is trying to be set on a copy of a slice from a DataFrame.\n",
      "Try using .loc[row_indexer,col_indexer] = value instead\n",
      "\n",
      "See the caveats in the documentation: https://pandas.pydata.org/pandas-docs/stable/user_guide/indexing.html#returning-a-view-versus-a-copy\n",
      "  df['transactiondatetime'] = pd.to_datetime(df['transactiondatetime'])\n"
     ]
    },
    {
     "name": "stdout",
     "output_type": "stream",
     "text": [
      "{\"transaction_channel\": [\"MANDATE\", \"RTGS\", \"NEFT\", \"IMPS\", \"DEBIT_CARD\", \"CREDIT_CARD\", \"UPI\", \"ATM\"], \"product\": [\"JUPITER\"], \"credit_debit_indicator\": [\"DEBIT\"], \"coarse_grain_category\": [\"food & drinks\"], \"transactionamount_range\": {\"min\": null, \"max\": null}, \"transaction_date_range\": {\"start\": \"2024-09-01T00:00:00\", \"end\": \"2024-09-30T23:59:59\"}, \"merchant\": null}\n",
      "Step 3\n",
      "================================\u001b[1m Human Message \u001b[0m=================================\n",
      "\n",
      "how much did I spent of food on last month on jupiter ?\n",
      "*****************************\n",
      "{'query': \"total_spent = df_1['transactionamount'].sum()\\nprint(f'Total amount spent on food using JUPITER in the last month is: {total_spent}')\"}\n",
      "Step 4\n",
      "==================================\u001b[1m Ai Message \u001b[0m==================================\n",
      "\n",
      "Total amount spent on food using JUPITER in the last month is: 4890475.13\n",
      "Step 5\n",
      "==================================\u001b[1m Ai Message \u001b[0m==================================\n",
      "\n",
      "Total amount spent on food using JUPITER in the last month is: 4890475.13\n"
     ]
    }
   ],
   "source": [
    "events = graph.stream(\n",
    "    {\"messages\": HumanMessage(content=\"how much did I spent of food on last month on jupiter ?\")},\n",
    "    stream_mode=\"values\"\n",
    ")\n",
    "\n",
    "\n",
    "for i, step in enumerate(events):\n",
    "    print(f\"Step {i}\")\n",
    "    mod_step = step['messages']\n",
    "    mod_step[-1].pretty_print()"
   ]
  },
  {
   "cell_type": "code",
   "execution_count": 59,
   "id": "208b9e19-1138-46f8-8279-d1dcaa08effc",
   "metadata": {},
   "outputs": [
    {
     "name": "stdout",
     "output_type": "stream",
     "text": [
      "Step 0\n",
      "================================\u001b[1m Human Message \u001b[0m=================================\n",
      "\n",
      "how much did I spent of swiggy on jupiter ?\n",
      "-----------> transaction_data_analyst\n",
      "Step 1\n",
      "================================\u001b[1m Human Message \u001b[0m=================================\n",
      "\n",
      "how much did I spent of swiggy on jupiter ?\n",
      "-----> Fetching data\n",
      "Step 2\n",
      "================================\u001b[1m Human Message \u001b[0m=================================\n",
      "\n",
      "how much did I spent of swiggy on jupiter ?\n"
     ]
    },
    {
     "name": "stderr",
     "output_type": "stream",
     "text": [
      "/var/folders/20/88smr2nj4zj5phkd613x7zy40000gq/T/ipykernel_55466/1933063336.py:13: LangGraphDeprecationWarning: ToolInvocation is deprecated as of version 0.2.0 and will be removed in 0.3.0. Use langgraph.prebuilt.ToolNode instead.\n",
      "  action = ToolInvocation(tool = function_name, tool_input = {'filters': json.loads(args)})\n",
      "/var/folders/20/88smr2nj4zj5phkd613x7zy40000gq/T/ipykernel_55466/2811861285.py:14: SettingWithCopyWarning: \n",
      "A value is trying to be set on a copy of a slice from a DataFrame.\n",
      "Try using .loc[row_indexer,col_indexer] = value instead\n",
      "\n",
      "See the caveats in the documentation: https://pandas.pydata.org/pandas-docs/stable/user_guide/indexing.html#returning-a-view-versus-a-copy\n",
      "  df['transactiondatetime'] = pd.to_datetime(df['transactiondatetime'])\n"
     ]
    },
    {
     "name": "stdout",
     "output_type": "stream",
     "text": [
      "Step 3\n",
      "================================\u001b[1m Human Message \u001b[0m=================================\n",
      "\n",
      "how much did I spent of swiggy on jupiter ?\n",
      "Step 4\n",
      "==================================\u001b[1m Ai Message \u001b[0m==================================\n",
      "\n",
      "The total amount spent on Swiggy using JUPITER is: 3669.0\n",
      "-----------> FINISH\n",
      "-----------> ai\n",
      "Step 5\n",
      "==================================\u001b[1m Ai Message \u001b[0m==================================\n",
      "\n",
      "The total amount spent on Swiggy using JUPITER is: 3669.0\n"
     ]
    }
   ],
   "source": [
    "events = graph.stream(\n",
    "    {\"messages\": HumanMessage(content=\"how much did I spent of swiggy on jupiter ?\")},\n",
    "    stream_mode=\"values\"\n",
    ")\n",
    "\n",
    "\n",
    "for i, step in enumerate(events):\n",
    "    print(f\"Step {i}\")\n",
    "    mod_step = step['messages']\n",
    "    mod_step[-1].pretty_print()"
   ]
  },
  {
   "cell_type": "code",
   "execution_count": 64,
   "id": "e2ae7744-b0de-4805-97ba-398b70c4454b",
   "metadata": {},
   "outputs": [
    {
     "name": "stdout",
     "output_type": "stream",
     "text": [
      "Step 0\n",
      "================================\u001b[1m Human Message \u001b[0m=================================\n",
      "\n",
      "What are my most frequent expenses?\n",
      "-----------> transaction_data_analyst\n",
      "Step 1\n",
      "================================\u001b[1m Human Message \u001b[0m=================================\n",
      "\n",
      "What are my most frequent expenses?\n",
      "-----> ask_human\n",
      "Step 2\n",
      "================================\u001b[1m Human Message \u001b[0m=================================\n",
      "\n",
      "What are my most frequent expenses?\n"
     ]
    },
    {
     "name": "stdin",
     "output_type": "stream",
     "text": [
      "To determine your most frequent expenses, I will retrieve your transaction data and analyze it for the most common transaction categories. Since you haven't specified filters, I will use default settings to retrieve your transactions from today.\n",
      "\n",
      "Let's proceed with fetching your transaction data. consider transactions starting from 1st march 2024\n"
     ]
    },
    {
     "name": "stdout",
     "output_type": "stream",
     "text": [
      "Step 3\n",
      "================================\u001b[1m Human Message \u001b[0m=================================\n",
      "\n",
      "consider transactions starting from 1st march 2024\n",
      "-----> Fetching data\n",
      "Step 4\n",
      "================================\u001b[1m Human Message \u001b[0m=================================\n",
      "\n",
      "consider transactions starting from 1st march 2024\n"
     ]
    },
    {
     "name": "stderr",
     "output_type": "stream",
     "text": [
      "/var/folders/20/88smr2nj4zj5phkd613x7zy40000gq/T/ipykernel_55466/1933063336.py:13: LangGraphDeprecationWarning: ToolInvocation is deprecated as of version 0.2.0 and will be removed in 0.3.0. Use langgraph.prebuilt.ToolNode instead.\n",
      "  action = ToolInvocation(tool = function_name, tool_input = {'filters': json.loads(args)})\n",
      "/var/folders/20/88smr2nj4zj5phkd613x7zy40000gq/T/ipykernel_55466/2811861285.py:14: SettingWithCopyWarning: \n",
      "A value is trying to be set on a copy of a slice from a DataFrame.\n",
      "Try using .loc[row_indexer,col_indexer] = value instead\n",
      "\n",
      "See the caveats in the documentation: https://pandas.pydata.org/pandas-docs/stable/user_guide/indexing.html#returning-a-view-versus-a-copy\n",
      "  df['transactiondatetime'] = pd.to_datetime(df['transactiondatetime'])\n"
     ]
    },
    {
     "name": "stdout",
     "output_type": "stream",
     "text": [
      "Step 5\n",
      "================================\u001b[1m Human Message \u001b[0m=================================\n",
      "\n",
      "consider transactions starting from 1st march 2024\n",
      "Step 6\n",
      "==================================\u001b[1m Ai Message \u001b[0m==================================\n",
      "\n",
      "Most Frequent Expenses (from March 1, 2024):\n",
      "                                               merchant  transactionamount\n",
      "176                                      self transfer          594000.00\n",
      "3                                      9909561997@jupi          585000.00\n",
      "107                                         mangukia a          336000.00\n",
      "32                                           cred club          324153.11\n",
      "130     nft/amica financial/axisp00494834866/axis bank          324083.00\n",
      "..                                                 ...                ...\n",
      "198                                     t super market              25.00\n",
      "43                                     falcon property              20.00\n",
      "78                               jagdish kesuram regar              20.00\n",
      "165                                     sachin  tiwari              15.00\n",
      "58   ifn/hx40n9tuc5tuxoh3 withdraw from interest po...               2.00\n",
      "\n",
      "[224 rows x 2 columns]\n",
      "-----------> FINISH\n",
      "-----------> ai\n",
      "Step 7\n",
      "==================================\u001b[1m Ai Message \u001b[0m==================================\n",
      "\n",
      "Most Frequent Expenses (from March 1, 2024):\n",
      "                                               merchant  transactionamount\n",
      "176                                      self transfer          594000.00\n",
      "3                                      9909561997@jupi          585000.00\n",
      "107                                         mangukia a          336000.00\n",
      "32                                           cred club          324153.11\n",
      "130     nft/amica financial/axisp00494834866/axis bank          324083.00\n",
      "..                                                 ...                ...\n",
      "198                                     t super market              25.00\n",
      "43                                     falcon property              20.00\n",
      "78                               jagdish kesuram regar              20.00\n",
      "165                                     sachin  tiwari              15.00\n",
      "58   ifn/hx40n9tuc5tuxoh3 withdraw from interest po...               2.00\n",
      "\n",
      "[224 rows x 2 columns]\n"
     ]
    }
   ],
   "source": [
    "from langchain_core.messages import HumanMessage\n",
    "\n",
    "events = graph.stream(\n",
    "    {\"messages\": HumanMessage(content=\"What are my most frequent expenses?\")},\n",
    "    stream_mode=\"values\"\n",
    ")\n",
    "\n",
    "\n",
    "for i, step in enumerate(events):\n",
    "    print(f\"Step {i}\")\n",
    "    mod_step = step['messages']\n",
    "    mod_step[-1].pretty_print()"
   ]
  },
  {
   "cell_type": "code",
   "execution_count": null,
   "id": "15994e3a-51b5-4976-b458-4b5af545464b",
   "metadata": {},
   "outputs": [],
   "source": []
  },
  {
   "cell_type": "code",
   "execution_count": 49,
   "id": "c706d02f-8cdb-4b75-885b-3d694446907d",
   "metadata": {},
   "outputs": [],
   "source": [
    "examples = [\n",
    "    {\n",
    "        \"user question\": \"Can I get a detailed report of my spending habits? consider last 6 months data\",\n",
    "        \"data query\": \"fetch last 6 months transaction data\",\n",
    "    },\n",
    "    {\n",
    "        \"question\": \"Which actors played in the movie Casino?\",\n",
    "        \"query\": \"MATCH (m:Movie{title:'Casino'})<-[:ACTED_IN]-(p:Person) RETURN p.name\",\n",
    "    },\n",
    "    {\n",
    "        \"question\": \"How many movies has Tom Hanks acted in?\",\n",
    "        \"query\": \"MATCH (a:Person {name: 'Tom Hanks'})-[:ACTED_IN]->(m:Movie) RETURN count(m)\",\n",
    "    },\n",
    "    {\n",
    "        \"question\": \"List all the genres of the movie Four Rooms\",\n",
    "        \"query\": \"MATCH (m:Movie{title:'Four Rooms'})-[:IN_GENRE]->(g:Genres) RETURN g.type\",\n",
    "    },\n",
    "    {\n",
    "        \"question\": \"Which actors have worked in movies from both the comedy and action genres?\",\n",
    "        \"query\": \"MATCH (a:Person)-[:ACTED_IN]->(:Movie)-[:IN_GENRE]->(g1:Genres), (a)-[:ACTED_IN]->(:Movie)-[:IN_GENRE]->(g2:Genres) WHERE g1.type = 'Comedy' AND g2.type = 'Action' RETURN DISTINCT a.name\",\n",
    "    },\n",
    "    {\n",
    "        \"question\": \"Identify movies where directors also played a role in the film.\",\n",
    "        \"query\": \"MATCH (p:Person)-[:DIRECTED]->(m:Movie), (p)-[:ACTED_IN]->(m) RETURN m.title, p.name\",\n",
    "    },\n",
    "    {\n",
    "        \"question\": \"Find the actor with the highest number of movies in the database.\",\n",
    "        \"query\": \"MATCH (a:Person)-[:ACTED_IN]->(m:Movie) RETURN a.name, COUNT(m) AS movieCount ORDER BY movieCount DESC LIMIT 1\",\n",
    "    },\n",
    "]"
   ]
  },
  {
   "cell_type": "code",
   "execution_count": null,
   "id": "83b728b4-7686-4129-ac4c-44bfcc87c3ed",
   "metadata": {},
   "outputs": [],
   "source": []
  },
  {
   "cell_type": "code",
   "execution_count": null,
   "id": "f41e8e4b-75e5-4746-bda4-a58c4dc692d5",
   "metadata": {},
   "outputs": [],
   "source": []
  }
 ],
 "metadata": {
  "kernelspec": {
   "display_name": "Python 3 (ipykernel)",
   "language": "python",
   "name": "python3"
  },
  "language_info": {
   "codemirror_mode": {
    "name": "ipython",
    "version": 3
   },
   "file_extension": ".py",
   "mimetype": "text/x-python",
   "name": "python",
   "nbconvert_exporter": "python",
   "pygments_lexer": "ipython3",
   "version": "3.11.5"
  }
 },
 "nbformat": 4,
 "nbformat_minor": 5
}
