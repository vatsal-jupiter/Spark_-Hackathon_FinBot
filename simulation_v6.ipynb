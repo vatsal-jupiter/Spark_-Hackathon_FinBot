{
 "cells": [
  {
   "cell_type": "code",
   "execution_count": 1,
   "id": "2e2653dd-bcb0-4ae9-bbc7-8de35f60ae8b",
   "metadata": {},
   "outputs": [],
   "source": [
    "import pandas as pd\n",
    "from dotenv import load_dotenv\n",
    "import os"
   ]
  },
  {
   "cell_type": "code",
   "execution_count": 2,
   "id": "2576009b-602e-4138-b1eb-29447579e753",
   "metadata": {},
   "outputs": [
    {
     "data": {
      "text/plain": [
       "True"
      ]
     },
     "execution_count": 2,
     "metadata": {},
     "output_type": "execute_result"
    }
   ],
   "source": [
    "load_dotenv()"
   ]
  },
  {
   "cell_type": "code",
   "execution_count": 3,
   "id": "2ec35567-2262-4e2c-9df5-3573801bf39b",
   "metadata": {},
   "outputs": [],
   "source": [
    "os.environ[\"OPENAPI_API_KEY\"] = os.getenv(\"OPENAI_API_KEY\")\n",
    "os.environ[\"LANGCHAIN_API_KEY\"] = os.getenv(\"LANGCHAIN_API_KEY\")\n",
    "os.environ[\"LANGCHAIN_TRACING_V2\"] = \"true\"\n",
    "os.environ[\"LANGCHAIN_PROJECT\"] = os.getenv(\"LANGCHAIN_PROJECT\")\n",
    "os.environ[\"HF_TOKEN\"] = os.getenv(\"HF_TOKEN\")\n",
    "os.environ[\"GROQ_API_KEY\"] = os.getenv(\"GROQ_API_KEY\")\n",
    "os.environ[\"TAVILY_API_KEY\"] = os.getenv(\"TAVILY_API_KEY\")"
   ]
  },
  {
   "cell_type": "code",
   "execution_count": 4,
   "id": "ea6d2cd4-90a4-41d6-82e8-fa3a4c04297e",
   "metadata": {},
   "outputs": [],
   "source": [
    "from langchain_openai import ChatOpenAI\n",
    "chat_model = ChatOpenAI(model=\"gpt-4o-mini\")"
   ]
  },
  {
   "cell_type": "code",
   "execution_count": null,
   "id": "ebfa1bad-c1f4-4b82-96d2-928649393804",
   "metadata": {},
   "outputs": [],
   "source": []
  },
  {
   "cell_type": "code",
   "execution_count": 5,
   "id": "30547491-ec6e-46ef-93b9-c5b12cc4b37e",
   "metadata": {},
   "outputs": [],
   "source": [
    "import requests\n",
    "\n",
    "def get_response(url, headers, data):\n",
    "    response = requests.request(\"POST\", url, headers=headers, data=data)\n",
    "    return json.loads(response.text)"
   ]
  },
  {
   "cell_type": "code",
   "execution_count": 6,
   "id": "c30e92e8-ead9-4442-baf4-0af40927ad96",
   "metadata": {},
   "outputs": [],
   "source": [
    "from calendar import monthrange\n",
    "\n",
    "def update_payload(current_month):\n",
    "    # global payload_dict\n",
    "    payload_dict= {\n",
    "        'payload_aggregate': {\n",
    "            'filters': {\n",
    "                'startDate': '2024-07-01',\n",
    "                'endDate': '2024-08-31',\n",
    "                'aggregateField': 'CATEGORY',\n",
    "                'products': ['JUPITER', 'ADA']\n",
    "            }\n",
    "        }\n",
    "    }\n",
    "    from datetime import datetime\n",
    "    current_month_date = datetime.strptime(current_month, \"%Y-%m\")\n",
    "    \n",
    "    start_date = current_month_date.replace(day=1).strftime(\"%Y-%m-%d\")\n",
    "    last_day = monthrange(current_month_date.year, current_month_date.month)[1]\n",
    "    end_date = current_month_date.replace(day=last_day).strftime(\"%Y-%m-%d\")\n",
    "    \n",
    "    payload_dict['payload_aggregate']['filters']['startDate'] = start_date\n",
    "    payload_dict['payload_aggregate']['filters']['endDate'] = end_date\n",
    "    return payload_dict"
   ]
  },
  {
   "cell_type": "code",
   "execution_count": 7,
   "id": "f77b366f-91e9-4981-8aa6-24595ed5211b",
   "metadata": {},
   "outputs": [],
   "source": [
    "def extract_data(data):\n",
    "    categories = []\n",
    "    amount = []\n",
    "    cat_percentage = []\n",
    "    credit_debit_indicators = []\n",
    "\n",
    "    this_month_data = data['aggregateData']\n",
    "    for entry in this_month_data:\n",
    "        credit_debit = entry['creditDebitIndicator']\n",
    "        for field in entry['aggregateFields']:\n",
    "            categories.append(field['name'])\n",
    "            amount.append(field['amount'])\n",
    "            cat_percentage.append(field['percentage'])\n",
    "            credit_debit_indicators.append(credit_debit)\n",
    "    \n",
    "    df = pd.DataFrame({\n",
    "        'category': categories,\n",
    "        'creditDebitIndicator': credit_debit_indicators,\n",
    "        'amount': amount,\n",
    "        'category%': cat_percentage\n",
    "    })\n",
    "    return df"
   ]
  },
  {
   "cell_type": "code",
   "execution_count": 8,
   "id": "882be4b2-2130-4f94-863e-88481f991300",
   "metadata": {},
   "outputs": [],
   "source": [
    "import json\n",
    "import pandas as pd\n",
    "\n",
    "def get_spend_insights_for_user(user_id, current_month,past_month):\n",
    "    #1. get all data needed\n",
    "    \n",
    "    #1a: get or set API query params and call API\n",
    "    url_aggregate=\"http://localhost:9003/wealth/v1/insights/aggregate\"\n",
    "    payload_dict = update_payload(current_month)\n",
    "    payload_aggregate = json.dumps(payload_dict[\"payload_aggregate\"])\n",
    "    headers_aggregate = {\n",
    "        'Content-Type': 'application/json',\n",
    "        'X-App-Version': '2.4.5',\n",
    "        'x-user-id': user_id\n",
    "        }\n",
    "    current_aggregate= get_response(url_aggregate , headers_aggregate, payload_aggregate)\n",
    "    #print(current_aggregate)\n",
    "    payload_dict = update_payload(past_month)\n",
    "    payload_aggregate = json.dumps(payload_dict[\"payload_aggregate\"])\n",
    "    headers_aggregate = {\n",
    "        'Content-Type': 'application/json',\n",
    "        'X-App-Version': '2.4.5',\n",
    "        'x-user-id': user_id\n",
    "        }\n",
    "    past_aggregate= get_response(url_aggregate , headers_aggregate, payload_aggregate)\n",
    "    #print(past_aggregate)\n",
    "    #1b: <extract_data_method> to get final DF\n",
    "    data_current = extract_data(current_aggregate)\n",
    "    data_past = extract_data(past_aggregate)\n",
    "    data = pd.merge(data_current, data_past, on=[\"category\", \"creditDebitIndicator\"], suffixes=('_this_month', '_last_month'), how='outer')\n",
    "    data = data.fillna(0)\n",
    "    #2: pre-process data for calling LLM\n",
    "    data['creditDebitIndicator'] = pd.Categorical(data['creditDebitIndicator'], categories=['CREDIT', 'DEBIT'], ordered=True)\n",
    "    data = data.sort_values('creditDebitIndicator')\n",
    "    data = data[data['creditDebitIndicator'] == 'DEBIT']\n",
    "    data['category'] = data['category'].str.replace(\"credit bills\", \"credit card bills\")\n",
    "    data_markdown = data.to_markdown(index=False)\n",
    "    return data_markdown "
   ]
  },
  {
   "cell_type": "code",
   "execution_count": 9,
   "id": "582c8167-f16e-4391-99fb-04f0eb00469c",
   "metadata": {},
   "outputs": [],
   "source": [
    "import csv\n",
    "import json\n",
    "import requests\n",
    "import pandas as pd\n",
    "\n",
    "token = \"ya29.a0AcM612wJGHQ2Ad2NUug8CaGgqIaUqlpIkqanQKb8TzTCWAIqUbn1-1BQzDCQWHKqSpQ080uSbUsmgzuuBbKrxI4bPHM-HEM3C2eqv1rYTRwt3Oi1KDSxBFEYmQfW4q7q3CC1NAjjri9Q3DFGT-TKM5iZTzixUJgDBnQ_T_plAwaCgYKAbMSARESFQHGX2MiYqNbos_ByrArpqRK0Zqemg0177\"\n",
    "def call_api(user_id, page_number):\n",
    "  url = f\"http://localhost:9004/mm/transactions/{user_id}?pageNumber={page_number}&pageSize=50&shouldFuzzyMatch=false&sortKey=transactionAmount&sortOrder=desc\"\n",
    "  headers = {\n",
    "      \"Content-Type\": \"application/json\", \n",
    "      \"x-app-version\": \"3.0.5\",\n",
    "      \"x-jupiter-forwarded-employee-token\": token,  # Replace with your actual token\n",
    "      \"x-user-id\": user_id\n",
    "  }\n",
    "  data = {\n",
    "      \"product\": \"ADA,JUPITER\",\n",
    "      \"from\": \"2024-07-01\",\n",
    "      \"to\": \"2024-08-31\"\n",
    "  }\n",
    "\n",
    "  response = requests.post(url, headers=headers, json=data)\n",
    "  response.raise_for_status()  # Raise an exception for unsuccessful requests\n",
    "\n",
    "  return response.json()\n",
    "\n",
    "def get_raw_txn_data(user_id):\n",
    "    transactions = []\n",
    "    response = call_api(user_id, 1)\n",
    "    total_pages = response[\"pagination\"][\"totalPages\"]\n",
    "\n",
    "    for page_number in range(1, total_pages + 1):\n",
    "        page_data = call_api(user_id, page_number)\n",
    "        transactions.extend(page_data[\"transactions\"])  # Add transactions from each page\n",
    "\n",
    "\n",
    "    df = pd.DataFrame(transactions)\n",
    "    df = df[df[\"creditDebitIndicator\"] == \"DEBIT\"]\n",
    "    col_intr = ['transactionDateTime','transactionAmount', 'payee', 'category']\n",
    "    df = df[col_intr]\n",
    "    df['category'] = df['category'].str.lower()\n",
    "    df['payee'] = df['payee'].str.lower()\n",
    "    df['category'] = df['category'].str.replace(\"credit bills\", \"credit card bills\")\n",
    "    return df\n"
   ]
  },
  {
   "cell_type": "code",
   "execution_count": 10,
   "id": "46a631d6-5201-46b3-85df-463726752960",
   "metadata": {},
   "outputs": [
    {
     "name": "stdout",
     "output_type": "stream",
     "text": [
      "| category          | creditDebitIndicator   |   amount_this_month |   category%_this_month |   amount_last_month |   category%_last_month |\n",
      "|:------------------|:-----------------------|--------------------:|-----------------------:|--------------------:|-----------------------:|\n",
      "| credit card bills | DEBIT                  |               37614 |             16.952     |                   0 |              0         |\n",
      "| edge card bill    | DEBIT                  |                4893 |              2.20516   |               10883 |              6.55099   |\n",
      "| family & pets     | DEBIT                  |                 340 |              0.15323   |                   0 |              0         |\n",
      "| food & drinks     | DEBIT                  |                2627 |              1.18395   |                 179 |              0.107744  |\n",
      "| fuel              | DEBIT                  |                   0 |              0         |                 200 |              0.120384  |\n",
      "| groceries         | DEBIT                  |                1479 |              0.666551  |                 125 |              0.0752403 |\n",
      "| household         | DEBIT                  |                   0 |              0         |               11219 |              6.75324   |\n",
      "| loans             | DEBIT                  |                   0 |              0         |               29778 |             17.9244    |\n",
      "| personal care     | DEBIT                  |                 270 |              0.121683  |                   0 |              0         |\n",
      "| rent              | DEBIT                  |               86000 |             38.7582    |               86000 |             51.7653    |\n",
      "| travel            | DEBIT                  |                  75 |              0.0338007 |                   0 |              0         |\n",
      "| uncategorised     | DEBIT                  |               88590 |             39.9254    |               27749 |             16.7027    |\n"
     ]
    }
   ],
   "source": [
    "print(get_spend_insights_for_user(\"bcbab105-b7a5-47de-adef-48dfd81298cd\",\"2024-08\",\"2024-07\"))"
   ]
  },
  {
   "cell_type": "code",
   "execution_count": null,
   "id": "cd0640f8-ec92-4386-af95-f20cd5a8c9a5",
   "metadata": {},
   "outputs": [],
   "source": []
  },
  {
   "cell_type": "code",
   "execution_count": null,
   "id": "cb611bbe-9eb2-4a42-9b74-bb16147eb3ff",
   "metadata": {},
   "outputs": [],
   "source": []
  },
  {
   "cell_type": "code",
   "execution_count": null,
   "id": "63f2d189-c805-4023-aad6-18fe7bfb600a",
   "metadata": {},
   "outputs": [],
   "source": []
  },
  {
   "cell_type": "code",
   "execution_count": 11,
   "id": "bb3f72e3-e4c3-4878-924b-9063b8bd2945",
   "metadata": {},
   "outputs": [],
   "source": [
    "from pydantic import BaseModel, Field, validator\n",
    "from typing import List, Literal, Optional, Tuple\n",
    "from langchain.output_parsers import PydanticOutputParser\n",
    "\n",
    "class CategoryReasoning(BaseModel):\n",
    "    Category: str = Field( \n",
    "        description=\"Identify categories where you could save more money.\"\n",
    "    )\n",
    "    savings_explanation: str = Field(\n",
    "        description = \"Explain for category, why do you think there are saving oppertunities\"\n",
    "    )\n",
    "\n",
    "class Reasoning(BaseModel):\n",
    "    reasoning: List[CategoryReasoning] = Field(\n",
    "        description = \"List of categories and and reaoning on why and how there is a saving oppertunities\"\n",
    "    )\n",
    "\n",
    "category_reasoning_parser = PydanticOutputParser(pydantic_object=Reasoning)"
   ]
  },
  {
   "cell_type": "code",
   "execution_count": 12,
   "id": "a7334125-a4dd-40b8-a29b-6c77d36be97e",
   "metadata": {},
   "outputs": [],
   "source": [
    "from langchain_core.output_parsers.openai_tools import PydanticToolsParser\n",
    "from langchain_core.prompts import ChatPromptTemplate, MessagesPlaceholder\n",
    "from datetime import datetime\n",
    "\n",
    "system_prompt = \"\"\"\n",
    "You are expert finncial advisor working for jupiter (1-app for everything money) who has a experties in how to maximize savings by \n",
    "reducing unneccessary spends and by finding cheaper alternative options.\n",
    "\n",
    "Below is the decription about jupiter's product:\n",
    "edge card: It's a Credit Card launched by jupiter in partnership with CSB Bank and RuPay network.\n",
    "\n",
    "Below you have been provided with category-wise aggregated information for current and previous month in the dataframe in markdown format. \n",
    "Traverse through this dataframe, compare the spends and % of each category for this month to the previous month to provide insights into \n",
    "spending trends and category-wise changes.\n",
    "all the mentioned amounts are in Indian National Rupee (INR),\n",
    "look at the data carefully:\n",
    "{markdown}\n",
    "\n",
    "Think in step by step as mentioned below inorder to maximize savings for the user:\n",
    "Step 1: Identify categories where you could save more money.\n",
    "Step 2: explain for every category why do you think there are savings oppertunities\n",
    "\n",
    "keep this information in mind, think step by step on provided information.\n",
    "Write your answer in given format: \\n {format_instructions}\n",
    "\"\"\"\n",
    "\n",
    "categoey_reasoning_prompt_template = ChatPromptTemplate.from_messages(\n",
    "    [\n",
    "        (\"system\",system_prompt)\n",
    "    ]\n",
    ").partial(\n",
    "    format_instructions=category_reasoning_parser.get_format_instructions()\n",
    ")"
   ]
  },
  {
   "cell_type": "code",
   "execution_count": 13,
   "id": "19ee4ace-e694-4133-acfe-42f60619e26c",
   "metadata": {},
   "outputs": [],
   "source": [
    "maximize_savings_chain = categoey_reasoning_prompt_template | chat_model | category_reasoning_parser"
   ]
  },
  {
   "cell_type": "code",
   "execution_count": 14,
   "id": "06a027ce-919b-424a-889f-06a4c4e49cae",
   "metadata": {},
   "outputs": [],
   "source": [
    "user_id = \"df50566f-b08e-43eb-9a96-960ad2923b6d\"\n",
    "user_id = \"08e99fcc-070a-406e-9c21-214b9db362fa\"\n",
    "# user_id = \"e8291bc7-3eaf-434f-9a15-26091d02aae4\"\n",
    "previous_month = \"2024-07\"\n",
    "current_month = \"2024-08\""
   ]
  },
  {
   "cell_type": "code",
   "execution_count": 15,
   "id": "14070464-deaf-48d4-928e-65c6269dda84",
   "metadata": {},
   "outputs": [],
   "source": [
    "def get_savings_strategies(state):\n",
    "    markdown = get_spend_insights_for_user(user_id, current_month, previous_month)\n",
    "    out = maximize_savings_chain.invoke({\"markdown\":markdown})\n",
    "    reasoning = out.dict()['reasoning']\n",
    "    return {\"reasoning\":reasoning, \"current_index\": -1}"
   ]
  },
  {
   "cell_type": "code",
   "execution_count": 16,
   "id": "b3e57d5d-55f7-4de1-b351-ef9fd375639b",
   "metadata": {},
   "outputs": [
    {
     "name": "stdout",
     "output_type": "stream",
     "text": [
      "| category          | creditDebitIndicator   |   amount_this_month |   category%_this_month |   amount_last_month |   category%_last_month |\n",
      "|:------------------|:-----------------------|--------------------:|-----------------------:|--------------------:|-----------------------:|\n",
      "| bills & utilities | DEBIT                  |               36738 |               2.23608  |                   0 |               0        |\n",
      "| commute           | DEBIT                  |              199970 |              12.1713   |                   0 |               0        |\n",
      "| entertainment     | DEBIT                  |                 900 |               0.054779 |                   0 |               0        |\n",
      "| food & drinks     | DEBIT                  |                2047 |               0.12465  |                1704 |               0.190327 |\n",
      "| groceries         | DEBIT                  |              461819 |              28.1089   |              434600 |              48.5422   |\n",
      "| money transfers   | DEBIT                  |              173312 |              10.5487   |              137430 |              15.3501   |\n",
      "| shopping          | DEBIT                  |                7720 |               0.469882 |               72041 |               8.04655  |\n",
      "| uncategorised     | DEBIT                  |              760457 |              46.2856   |              249528 |              27.8708   |\n"
     ]
    }
   ],
   "source": [
    "print(get_spend_insights_for_user(user_id, current_month, previous_month))"
   ]
  },
  {
   "cell_type": "code",
   "execution_count": null,
   "id": "b360c4d7-8a8e-467f-9749-5e0448a8bfe0",
   "metadata": {},
   "outputs": [],
   "source": []
  },
  {
   "cell_type": "code",
   "execution_count": null,
   "id": "4243570f-691a-4f3d-9a52-f3f11279d144",
   "metadata": {},
   "outputs": [],
   "source": []
  },
  {
   "cell_type": "code",
   "execution_count": 17,
   "id": "a8d55d8c-441f-449d-aecc-c7c487323fb4",
   "metadata": {},
   "outputs": [],
   "source": [
    "# aug_all_user_data = pd.read_csv('./aug_user_data.csv')\n",
    "# prv_all_user_data = pd.read_csv('./prv_user_data.csv')\n",
    "# aug_all_user_data.shape, prv_all_user_data.shape"
   ]
  },
  {
   "cell_type": "code",
   "execution_count": 18,
   "id": "88e16dab-fd95-4355-a7fb-9414b5e52307",
   "metadata": {},
   "outputs": [
    {
     "data": {
      "text/plain": [
       "((12410, 11), (2330, 11))"
      ]
     },
     "execution_count": 18,
     "metadata": {},
     "output_type": "execute_result"
    }
   ],
   "source": [
    "aug_all_user_data = pd.read_csv('./aug_user_data_pfm.csv')\n",
    "prv_all_user_data = pd.read_csv('./prv_user_data_pfm.csv')\n",
    "aug_all_user_data.shape, prv_all_user_data.shape"
   ]
  },
  {
   "cell_type": "code",
   "execution_count": 19,
   "id": "cc6e08d4-43d2-4988-8d62-002730825eba",
   "metadata": {},
   "outputs": [],
   "source": [
    "# Food & Drinks : df50566f-b08e-43eb-9a96-960ad2923b6d\n",
    "# shopping : a728b78b-bf1b-4cd1-ae2c-e213fd73e673\n",
    "# commute : e8291bc7-3eaf-434f-9a15-26091d02aae4\n",
    "# groceries: 08e99fcc-070a-406e-9c21-214b9db362fa\n",
    "# entertainment: d1b612f6-1cf7-47bc-b473-6286e679733a"
   ]
  },
  {
   "cell_type": "code",
   "execution_count": 20,
   "id": "39089db2-6eff-4b60-93ab-565e226a3553",
   "metadata": {},
   "outputs": [
    {
     "data": {
      "text/plain": [
       "array(['01c503a7-17bf-42d2-9705-26e6e84c2c9a',\n",
       "       '08134773-3a20-4525-a6bf-182846dcb93b',\n",
       "       '1e3794dd-4fb4-4245-9167-08fd026e17fc',\n",
       "       '1e803c9b-8cd5-442b-952e-705f1a89cd5a',\n",
       "       '2b566c2d-1ea6-472f-aa2d-98f344b03b61',\n",
       "       '34538f57-62b9-4b6d-81cc-337cddf887db',\n",
       "       '507de040-2314-474e-9190-548478bc404f',\n",
       "       '54be1492-a47e-4439-bf1f-6cdf5b6a536f',\n",
       "       '5c67ec31-4f6d-484f-abc6-797d387bcdca',\n",
       "       '5ed1417f-bc66-4aeb-8a60-c7564e4964f9',\n",
       "       '91bdaf9e-a5f4-44c6-9d55-dc674203c440', 'EQd-QIn-4JHA-hcw',\n",
       "       'FXP-Ux3-CO6u-2IW', 'Ops-Vti-0PVW-zl8',\n",
       "       'a72a2a61-88ea-4214-8ffb-dd41d7dfd7dc',\n",
       "       'b0f78db1-b23a-4134-9713-e0c00978b162',\n",
       "       'b86041e7-f0eb-4f23-b0d6-91f65eab3734',\n",
       "       'bcbab105-b7a5-47de-adef-48dfd81298cd',\n",
       "       'c656825b-c7c2-43cf-8cdb-ac979ec7b366',\n",
       "       'd5481508-c988-4e74-8257-0ca7db52e4f6',\n",
       "       'd6312731-4258-4a8c-8302-002533109ad5',\n",
       "       'e43ed008-5213-4736-bc39-f6be87dd74ce',\n",
       "       'fbc75ff8-fb89-47b6-9d65-3601f73ddfa2'], dtype=object)"
      ]
     },
     "execution_count": 20,
     "metadata": {},
     "output_type": "execute_result"
    }
   ],
   "source": [
    "aug_all_user_data['user_id'].unique()"
   ]
  },
  {
   "cell_type": "code",
   "execution_count": 21,
   "id": "c5f8cd5d-58ed-4f10-bbdd-764e6b7b6f5d",
   "metadata": {},
   "outputs": [
    {
     "data": {
      "text/html": [
       "<div>\n",
       "<style scoped>\n",
       "    .dataframe tbody tr th:only-of-type {\n",
       "        vertical-align: middle;\n",
       "    }\n",
       "\n",
       "    .dataframe tbody tr th {\n",
       "        vertical-align: top;\n",
       "    }\n",
       "\n",
       "    .dataframe thead th {\n",
       "        text-align: right;\n",
       "    }\n",
       "</style>\n",
       "<table border=\"1\" class=\"dataframe\">\n",
       "  <thead>\n",
       "    <tr style=\"text-align: right;\">\n",
       "      <th></th>\n",
       "      <th>user_id</th>\n",
       "      <th>transactiondatetime</th>\n",
       "      <th>transactionamount</th>\n",
       "      <th>jupiter_coarsegrain_category</th>\n",
       "      <th>day_of_week</th>\n",
       "      <th>day_type</th>\n",
       "      <th>time_period</th>\n",
       "      <th>salary_day</th>\n",
       "      <th>salary_date</th>\n",
       "      <th>pay_day</th>\n",
       "      <th>is_festival_day</th>\n",
       "    </tr>\n",
       "  </thead>\n",
       "  <tbody>\n",
       "    <tr>\n",
       "      <th>0</th>\n",
       "      <td>01c503a7-17bf-42d2-9705-26e6e84c2c9a</td>\n",
       "      <td>2024-03-01 00:00:00.000000</td>\n",
       "      <td>0.0</td>\n",
       "      <td>uncategorised</td>\n",
       "      <td>friday</td>\n",
       "      <td>working day</td>\n",
       "      <td>late-night</td>\n",
       "      <td>30</td>\n",
       "      <td>2024-03-30</td>\n",
       "      <td>non pay day</td>\n",
       "      <td>pre-festival</td>\n",
       "    </tr>\n",
       "    <tr>\n",
       "      <th>1</th>\n",
       "      <td>01c503a7-17bf-42d2-9705-26e6e84c2c9a</td>\n",
       "      <td>2024-03-01 08:30:16.000000</td>\n",
       "      <td>10000.0</td>\n",
       "      <td>investments</td>\n",
       "      <td>friday</td>\n",
       "      <td>working day</td>\n",
       "      <td>morning</td>\n",
       "      <td>30</td>\n",
       "      <td>2024-03-30</td>\n",
       "      <td>non pay day</td>\n",
       "      <td>pre-festival</td>\n",
       "    </tr>\n",
       "    <tr>\n",
       "      <th>2</th>\n",
       "      <td>01c503a7-17bf-42d2-9705-26e6e84c2c9a</td>\n",
       "      <td>2024-03-01 08:32:11.000000</td>\n",
       "      <td>10000.0</td>\n",
       "      <td>investments</td>\n",
       "      <td>friday</td>\n",
       "      <td>working day</td>\n",
       "      <td>morning</td>\n",
       "      <td>30</td>\n",
       "      <td>2024-03-30</td>\n",
       "      <td>non pay day</td>\n",
       "      <td>pre-festival</td>\n",
       "    </tr>\n",
       "    <tr>\n",
       "      <th>3</th>\n",
       "      <td>01c503a7-17bf-42d2-9705-26e6e84c2c9a</td>\n",
       "      <td>2024-03-01 08:33:20.000000</td>\n",
       "      <td>10000.0</td>\n",
       "      <td>investments</td>\n",
       "      <td>friday</td>\n",
       "      <td>working day</td>\n",
       "      <td>morning</td>\n",
       "      <td>30</td>\n",
       "      <td>2024-03-30</td>\n",
       "      <td>non pay day</td>\n",
       "      <td>pre-festival</td>\n",
       "    </tr>\n",
       "    <tr>\n",
       "      <th>4</th>\n",
       "      <td>01c503a7-17bf-42d2-9705-26e6e84c2c9a</td>\n",
       "      <td>2024-03-01 13:20:19.000000</td>\n",
       "      <td>90.0</td>\n",
       "      <td>food &amp; drinks</td>\n",
       "      <td>friday</td>\n",
       "      <td>working day</td>\n",
       "      <td>lunch-time</td>\n",
       "      <td>30</td>\n",
       "      <td>2024-03-30</td>\n",
       "      <td>non pay day</td>\n",
       "      <td>pre-festival</td>\n",
       "    </tr>\n",
       "  </tbody>\n",
       "</table>\n",
       "</div>"
      ],
      "text/plain": [
       "                                user_id         transactiondatetime  \\\n",
       "0  01c503a7-17bf-42d2-9705-26e6e84c2c9a  2024-03-01 00:00:00.000000   \n",
       "1  01c503a7-17bf-42d2-9705-26e6e84c2c9a  2024-03-01 08:30:16.000000   \n",
       "2  01c503a7-17bf-42d2-9705-26e6e84c2c9a  2024-03-01 08:32:11.000000   \n",
       "3  01c503a7-17bf-42d2-9705-26e6e84c2c9a  2024-03-01 08:33:20.000000   \n",
       "4  01c503a7-17bf-42d2-9705-26e6e84c2c9a  2024-03-01 13:20:19.000000   \n",
       "\n",
       "   transactionamount jupiter_coarsegrain_category day_of_week     day_type  \\\n",
       "0                0.0                uncategorised      friday  working day   \n",
       "1            10000.0                  investments      friday  working day   \n",
       "2            10000.0                  investments      friday  working day   \n",
       "3            10000.0                  investments      friday  working day   \n",
       "4               90.0                food & drinks      friday  working day   \n",
       "\n",
       "  time_period  salary_day salary_date      pay_day is_festival_day  \n",
       "0  late-night          30  2024-03-30  non pay day    pre-festival  \n",
       "1     morning          30  2024-03-30  non pay day    pre-festival  \n",
       "2     morning          30  2024-03-30  non pay day    pre-festival  \n",
       "3     morning          30  2024-03-30  non pay day    pre-festival  \n",
       "4  lunch-time          30  2024-03-30  non pay day    pre-festival  "
      ]
     },
     "execution_count": 21,
     "metadata": {},
     "output_type": "execute_result"
    }
   ],
   "source": [
    "aug_all_user_data.head()"
   ]
  },
  {
   "cell_type": "code",
   "execution_count": 22,
   "id": "7bcc2936-b2d0-41c6-81d9-07f57e627e36",
   "metadata": {},
   "outputs": [
    {
     "data": {
      "text/html": [
       "<div>\n",
       "<style scoped>\n",
       "    .dataframe tbody tr th:only-of-type {\n",
       "        vertical-align: middle;\n",
       "    }\n",
       "\n",
       "    .dataframe tbody tr th {\n",
       "        vertical-align: top;\n",
       "    }\n",
       "\n",
       "    .dataframe thead th {\n",
       "        text-align: right;\n",
       "    }\n",
       "</style>\n",
       "<table border=\"1\" class=\"dataframe\">\n",
       "  <thead>\n",
       "    <tr style=\"text-align: right;\">\n",
       "      <th></th>\n",
       "      <th>user_id</th>\n",
       "      <th>transactiondatetime</th>\n",
       "      <th>transactionamount</th>\n",
       "      <th>jupiter_coarsegrain_category</th>\n",
       "      <th>day_of_week</th>\n",
       "      <th>day_type</th>\n",
       "      <th>time_period</th>\n",
       "      <th>salary_day</th>\n",
       "      <th>salary_date</th>\n",
       "      <th>pay_day</th>\n",
       "      <th>is_festival_day</th>\n",
       "    </tr>\n",
       "  </thead>\n",
       "  <tbody>\n",
       "    <tr>\n",
       "      <th>0</th>\n",
       "      <td>01c503a7-17bf-42d2-9705-26e6e84c2c9a</td>\n",
       "      <td>2024-08-01 00:00:00.000000</td>\n",
       "      <td>0.0</td>\n",
       "      <td>uncategorised</td>\n",
       "      <td>thursday</td>\n",
       "      <td>working day</td>\n",
       "      <td>late-night</td>\n",
       "      <td>30</td>\n",
       "      <td>2024-08-30</td>\n",
       "      <td>non pay day</td>\n",
       "      <td>normal Day</td>\n",
       "    </tr>\n",
       "    <tr>\n",
       "      <th>1</th>\n",
       "      <td>01c503a7-17bf-42d2-9705-26e6e84c2c9a</td>\n",
       "      <td>2024-08-01 08:37:33.000000</td>\n",
       "      <td>10000.0</td>\n",
       "      <td>investments</td>\n",
       "      <td>thursday</td>\n",
       "      <td>working day</td>\n",
       "      <td>morning</td>\n",
       "      <td>30</td>\n",
       "      <td>2024-08-30</td>\n",
       "      <td>non pay day</td>\n",
       "      <td>normal Day</td>\n",
       "    </tr>\n",
       "    <tr>\n",
       "      <th>2</th>\n",
       "      <td>01c503a7-17bf-42d2-9705-26e6e84c2c9a</td>\n",
       "      <td>2024-08-01 08:37:34.000000</td>\n",
       "      <td>10000.0</td>\n",
       "      <td>investments</td>\n",
       "      <td>thursday</td>\n",
       "      <td>working day</td>\n",
       "      <td>morning</td>\n",
       "      <td>30</td>\n",
       "      <td>2024-08-30</td>\n",
       "      <td>non pay day</td>\n",
       "      <td>normal Day</td>\n",
       "    </tr>\n",
       "    <tr>\n",
       "      <th>3</th>\n",
       "      <td>01c503a7-17bf-42d2-9705-26e6e84c2c9a</td>\n",
       "      <td>2024-08-01 08:40:06.000000</td>\n",
       "      <td>10000.0</td>\n",
       "      <td>investments</td>\n",
       "      <td>thursday</td>\n",
       "      <td>working day</td>\n",
       "      <td>morning</td>\n",
       "      <td>30</td>\n",
       "      <td>2024-08-30</td>\n",
       "      <td>non pay day</td>\n",
       "      <td>normal Day</td>\n",
       "    </tr>\n",
       "    <tr>\n",
       "      <th>4</th>\n",
       "      <td>01c503a7-17bf-42d2-9705-26e6e84c2c9a</td>\n",
       "      <td>2024-08-01 13:36:11.000000</td>\n",
       "      <td>84.0</td>\n",
       "      <td>food &amp; drinks</td>\n",
       "      <td>thursday</td>\n",
       "      <td>working day</td>\n",
       "      <td>lunch-time</td>\n",
       "      <td>30</td>\n",
       "      <td>2024-08-30</td>\n",
       "      <td>non pay day</td>\n",
       "      <td>normal Day</td>\n",
       "    </tr>\n",
       "  </tbody>\n",
       "</table>\n",
       "</div>"
      ],
      "text/plain": [
       "                                user_id         transactiondatetime  \\\n",
       "0  01c503a7-17bf-42d2-9705-26e6e84c2c9a  2024-08-01 00:00:00.000000   \n",
       "1  01c503a7-17bf-42d2-9705-26e6e84c2c9a  2024-08-01 08:37:33.000000   \n",
       "2  01c503a7-17bf-42d2-9705-26e6e84c2c9a  2024-08-01 08:37:34.000000   \n",
       "3  01c503a7-17bf-42d2-9705-26e6e84c2c9a  2024-08-01 08:40:06.000000   \n",
       "4  01c503a7-17bf-42d2-9705-26e6e84c2c9a  2024-08-01 13:36:11.000000   \n",
       "\n",
       "   transactionamount jupiter_coarsegrain_category day_of_week     day_type  \\\n",
       "0                0.0                uncategorised    thursday  working day   \n",
       "1            10000.0                  investments    thursday  working day   \n",
       "2            10000.0                  investments    thursday  working day   \n",
       "3            10000.0                  investments    thursday  working day   \n",
       "4               84.0                food & drinks    thursday  working day   \n",
       "\n",
       "  time_period  salary_day salary_date      pay_day is_festival_day  \n",
       "0  late-night          30  2024-08-30  non pay day      normal Day  \n",
       "1     morning          30  2024-08-30  non pay day      normal Day  \n",
       "2     morning          30  2024-08-30  non pay day      normal Day  \n",
       "3     morning          30  2024-08-30  non pay day      normal Day  \n",
       "4  lunch-time          30  2024-08-30  non pay day      normal Day  "
      ]
     },
     "execution_count": 22,
     "metadata": {},
     "output_type": "execute_result"
    }
   ],
   "source": [
    "prv_all_user_data.head()"
   ]
  },
  {
   "cell_type": "code",
   "execution_count": null,
   "id": "80eaa9da-a376-4c5a-a7cc-7a29ffbec127",
   "metadata": {},
   "outputs": [],
   "source": []
  },
  {
   "cell_type": "code",
   "execution_count": 23,
   "id": "35adac00-cf26-47e5-a32d-f785e8b6df0e",
   "metadata": {},
   "outputs": [
    {
     "data": {
      "text/plain": [
       "array([], dtype=object)"
      ]
     },
     "execution_count": 23,
     "metadata": {},
     "output_type": "execute_result"
    }
   ],
   "source": [
    "aug_all_user_data[aug_all_user_data['user_id'] == user_id]['jupiter_coarsegrain_category'].unique()"
   ]
  },
  {
   "cell_type": "code",
   "execution_count": 24,
   "id": "0b043858-2e2d-4c78-97c2-32ce468430d7",
   "metadata": {},
   "outputs": [
    {
     "data": {
      "text/plain": [
       "'08e99fcc-070a-406e-9c21-214b9db362fa'"
      ]
     },
     "execution_count": 24,
     "metadata": {},
     "output_type": "execute_result"
    }
   ],
   "source": [
    "user_id"
   ]
  },
  {
   "cell_type": "code",
   "execution_count": null,
   "id": "417c637a-5b9e-4ca1-91fd-a4d429ec8399",
   "metadata": {},
   "outputs": [],
   "source": []
  },
  {
   "cell_type": "code",
   "execution_count": 25,
   "id": "ecdb9c52-6d30-4875-9ac6-9e6956ecd23f",
   "metadata": {},
   "outputs": [],
   "source": [
    "def filter_data(df, user_id, category):\n",
    "    con1 = df['jupiter_coarsegrain_category'].str.lower() == category.lower()\n",
    "    con2 = df['user_id'] == user_id\n",
    "    return df[con1&con2]\n",
    "\n",
    "def get_data_cuts_for_category(category):\n",
    "    # category = state['current_category']\n",
    "\n",
    "    tags_groupings_sum = [\n",
    "        ['time_period'],\n",
    "        ['day_of_week'],\n",
    "        ['day_of_week', 'time_period']\n",
    "    ]\n",
    "\n",
    "    \n",
    "    tags_groupings_avg = [\n",
    "        ['day_type'],\n",
    "        ['pay_day'],\n",
    "        ['is_festival_day'],\n",
    "        ['day_type', 'time_period'],\n",
    "        ['pay_day', 'time_period'],\n",
    "        ['day_type', 'day_of_week']\n",
    "    ]\n",
    "\n",
    "\n",
    "    aug_user_data = filter_data(aug_all_user_data, user_id, category)\n",
    "    prv_user_data = filter_data(prv_all_user_data, user_id, category)\n",
    "\n",
    "    if aug_user_data.shape[0] == 0:\n",
    "        return \"\"\n",
    "    \n",
    "    highest_spends_data = []\n",
    "    for tags_grouping in tags_groupings_sum:\n",
    "        data_dict = {}\n",
    "        # description = \"below is the spends data for food & drink category in descending order of total spends of current month by grouping \"+str(tags_grouping)\n",
    "        description = f\"Below is the spends data for {category} category in descending order of total spends of the current month by grouping {tags_grouping}\"\n",
    "        data_markdown = aug_user_data.groupby(tags_grouping)['transactionamount'].sum().sort_values(ascending = False).to_markdown()\n",
    "        data_dict[\"description\"] = description\n",
    "        data_dict[\"data\"] = data_markdown\n",
    "        highest_spends_data.append(data_dict)\n",
    "\n",
    "\n",
    "    tags_groupings = tags_groupings_sum + tags_groupings_avg\n",
    "    for tags_grouping in tags_groupings:\n",
    "        data_dict = {}\n",
    "        description = f\"Below is the spends data for {category} category in descending order of average spends of the current month by grouping {tags_grouping}\"\n",
    "        data_markdown = aug_user_data.groupby(tags_grouping)['transactionamount'].mean().sort_values(ascending = False).to_markdown()\n",
    "        data_dict[\"description\"] = description\n",
    "        data_dict[\"data\"] = data_markdown\n",
    "        highest_spends_data.append(data_dict)\n",
    "\n",
    "    average_spends_data = []\n",
    "    for tags_grouping in tags_groupings:\n",
    "        data_dict = {}\n",
    "        prv_df = prv_user_data.groupby(tags_grouping)['transactionamount'].mean().to_frame()\n",
    "        prv_df.columns = ['previous_avg_transaction_amount']\n",
    "    \n",
    "        aug_df = aug_user_data.groupby(tags_grouping)['transactionamount'].mean().to_frame()\n",
    "        aug_df.columns = ['current_avg_transaction_amount']\n",
    "        final_df = pd.merge(aug_df, prv_df, left_index = True, right_index = True)\n",
    "        final_df['percentage_change'] = (final_df.pct_change(axis = 1)['current_avg_transaction_amount'].values)*100\n",
    "        final_df['absolute_difference'] = final_df['current_avg_transaction_amount'] - final_df['previous_avg_transaction_amount']\n",
    "        data_markdown = final_df.to_markdown()\n",
    "    \n",
    "        description = f\"Below is the data on previous month's average and current month's average for {category} category. The data also shows percentage change and absolute difference. Data is grouped by columns {tags_grouping}\"\n",
    "        data_dict[\"description\"] = description\n",
    "        data_dict[\"data\"] = data_markdown\n",
    "        average_spends_data.append(data_dict)\n",
    "\n",
    "    markdown = \"\"\n",
    "    for ele in highest_spends_data:\n",
    "        markdown = markdown+ \"\\n\\n\\n\" + ele['description'] + \"\\n\" + ele['data']\n",
    "    for ele in average_spends_data:\n",
    "        markdown = markdown+ \"\\n\\n\\n\" + ele['description'] + \"\\n\" + ele['data']\n",
    "\n",
    "    return markdown"
   ]
  },
  {
   "cell_type": "code",
   "execution_count": null,
   "id": "22873ceb-fd58-4b4d-8f3f-c8ed2d334c9d",
   "metadata": {},
   "outputs": [],
   "source": []
  },
  {
   "cell_type": "code",
   "execution_count": 26,
   "id": "8b6d3d4e-8232-4f26-8bfb-0b1d98038b8e",
   "metadata": {},
   "outputs": [],
   "source": [
    "# tags_groupings = tags_groupings_sum + tags_groupings_avg"
   ]
  },
  {
   "cell_type": "code",
   "execution_count": null,
   "id": "9670d514-91d3-4e1c-bec9-c0ac6d7a35d6",
   "metadata": {},
   "outputs": [],
   "source": []
  },
  {
   "cell_type": "code",
   "execution_count": null,
   "id": "f1982041-109a-4257-9702-0939438ec6e2",
   "metadata": {},
   "outputs": [],
   "source": []
  },
  {
   "cell_type": "code",
   "execution_count": 27,
   "id": "5ba5c604-4cbd-4152-9e00-4e2e3aeb86df",
   "metadata": {},
   "outputs": [],
   "source": [
    "from langchain.output_parsers import PydanticOutputParser\n",
    "from pydantic import BaseModel , Field\n",
    "\n",
    "class Strategy(BaseModel):\n",
    "    observations: List[str] = Field(description='Critical observation in provided data cuts')\n",
    "    assumptions: List[str] = Field(description='Assumptions taken while making strategy for given category')\n",
    "    strategy: List[str] = Field(description='Detailed step by step strategy personalized to user to maximize saving')\n",
    "    info_needed: List[str] = Field(description='Extra information needed to recommand more personalized strategy')\n",
    "\n",
    "strategy_parser = PydanticOutputParser(pydantic_object=Strategy)"
   ]
  },
  {
   "cell_type": "code",
   "execution_count": 28,
   "id": "e2e05132-72af-4557-89c3-acf011748ac9",
   "metadata": {},
   "outputs": [],
   "source": [
    "field_description = \"\"\"\n",
    "\n",
    "day_of_week: A categorical field containing the names of the days of the week. Possible values are: \"monday\", \"tuesday\", \"wednesday\", \"thursday\", \"friday\", \"saturday\", and \"sunday\". It is derived from the 'transactiondatetime' field, representing the day of the transaction.\n",
    "\n",
    "\n",
    "day_type: A categorical field indicating whether the transaction occurred on a \"working day\" (Monday to Friday) or a \"weekend\" (Saturday and Sunday). It is determined based on the day of the week from the 'transactiondatetime' field.\n",
    "\n",
    "\n",
    "time_period: A categorical field representing the time of day when the transaction took place. Possible values are:\n",
    "\"late-night\" (00:00:00 to 05:00:00 and 23:00:01 to 23:59:59)\n",
    "\"early-morning\" (05:00:01 to 07:30:00)\n",
    "\"morning\" (07:30:01 to 11:30:00)\n",
    "\"lunch-time\" (11:30:01 to 15:30:00)\n",
    "\"evening\" (15:30:01 to 19:00:00)\n",
    "\"dinner-time\" (19:00:01 to 23:00:00)\n",
    "It is calculated by extracting the time component from 'transactiondatetime' and categorizing it into predefined time periods.\n",
    "\n",
    "\n",
    "pay_day: A categorical field that indicates whether a transaction occurred within 7 days after the user's salary date. Possible values are:\n",
    "\"pay day\" for transactions that occurred within the 7-day window after the salary date.\n",
    "\"non pay day\" for transactions that occurred outside this window.\n",
    "The salary date is based on the user’s salary day (either provided or computed based on the last day of the month if needed).\n",
    "\n",
    "is_festival_day: A categorical field indicating whether the transaction occurred around a festival day. It has three possible values:\n",
    "\"pre-festival\" for transactions within 5 days before the festival.\n",
    "\"festival Day\" for transactions on the day of the festival.\n",
    "\"post-festival\" for transactions within 2 days after the festival.\n",
    "If the transaction date does not match any of these conditions, the value will be \"normal Day\". It is determined by checking the transaction date against a predefined list of festival days.\n",
    "\n",
    "\n",
    "salary_date: A datetime field representing the calculated salary payment date for the transaction month. It is derived from the 'salary_day' field and the transaction's year and month. If the 'salary_day' exceeds the number of days in the transaction month, the last day of the month is used.\n",
    "\"\"\""
   ]
  },
  {
   "cell_type": "code",
   "execution_count": 29,
   "id": "e9b821ef-b8db-4802-9a8d-54ebe8193924",
   "metadata": {},
   "outputs": [],
   "source": [
    "from langchain_core.prompts import PromptTemplate\n",
    "import datetime\n",
    "\n",
    "prompt_template = \"\"\"\n",
    "You are expert finncial advisor working for jupiter (1-app for everything money) who has a experties in how to maximize savings by \n",
    "reducing unneccessary spends and by finding cheaper alternative options.\n",
    "\n",
    "\n",
    "Below you have been provided with the data of {category} category in markdown format. Each data is provided with description about how \n",
    "data  was prepared and what it contains.\n",
    "all the mentioned amounts are in Indian National Rupee (INR) and times are in Indian Standard Time (IST).\n",
    "data has different cuts based on different combinations of below fields,\n",
    "{field_description}\n",
    "\n",
    "\n",
    "look at the data provided below carefully:\n",
    "{markdown}\n",
    "\n",
    "\n",
    "Use this information if required, current time: {time}\n",
    "\n",
    "\n",
    "Question: Recommand savings strategies that is personalised to the user to maximize savings on {category} category as best you can.\n",
    "Think step by step on provided information and Write your answer in given format: \\n {format_instructions}\n",
    "\"\"\"\n",
    "\n",
    "strategy_prompt = PromptTemplate(template = prompt_template,input_variables = [\"markdown\",\"category\"]).partial(\n",
    "    time=lambda: datetime.datetime.now().isoformat(),field_description = field_description,\n",
    "    format_instructions = strategy_parser.get_format_instructions()\n",
    ")\n"
   ]
  },
  {
   "cell_type": "code",
   "execution_count": 30,
   "id": "97091c02-282f-48b4-91b2-96d670903793",
   "metadata": {},
   "outputs": [],
   "source": [
    "strategy_chain = strategy_prompt | chat_model | strategy_parser"
   ]
  },
  {
   "cell_type": "code",
   "execution_count": null,
   "id": "262e0cf7-297b-4c24-9797-773ef49fb743",
   "metadata": {},
   "outputs": [],
   "source": []
  },
  {
   "cell_type": "code",
   "execution_count": null,
   "id": "bbc8adae-29e3-4ab8-ae70-3393a7d6f126",
   "metadata": {},
   "outputs": [],
   "source": []
  },
  {
   "cell_type": "code",
   "execution_count": null,
   "id": "ee724226-d954-4932-a314-d158c60b0c64",
   "metadata": {},
   "outputs": [],
   "source": []
  },
  {
   "cell_type": "code",
   "execution_count": 31,
   "id": "a7e02fa3-e47f-4be7-a4fe-7b175ef13c37",
   "metadata": {},
   "outputs": [],
   "source": [
    "# Food & Drinks : df50566f-b08e-43eb-9a96-960ad2923b6d\n",
    "# shopping : a728b78b-bf1b-4cd1-ae2c-e213fd73e673\n",
    "# commute : e8291bc7-3eaf-434f-9a15-26091d02aae4\n",
    "# groceries: 08e99fcc-070a-406e-9c21-214b9db362fa\n",
    "# entertainment: d1b612f6-1cf7-47bc-b473-6286e679733a"
   ]
  },
  {
   "cell_type": "code",
   "execution_count": 32,
   "id": "e1f5e0b5-d973-4d23-b79b-bf797ee0eea3",
   "metadata": {},
   "outputs": [],
   "source": [
    "def category_selector(state):\n",
    "    # state[\"current_index\"] += 1\n",
    "    current_index = state[\"current_index\"]\n",
    "    current_index += 1\n",
    "    return {\"current_index\":current_index}"
   ]
  },
  {
   "cell_type": "code",
   "execution_count": 33,
   "id": "a9679e80-cd12-46b6-a92f-2655da65ae44",
   "metadata": {},
   "outputs": [],
   "source": [
    "def category_router(state):\n",
    "    current_index = state[\"current_index\"]\n",
    "    generated_category_list = state[\"reasoning\"]\n",
    "\n",
    "    # Continue processing if there are values left in the list\n",
    "    if current_index < len(generated_category_list):\n",
    "        return \"CategoryProcessor\"\n",
    "    else:\n",
    "        return END"
   ]
  },
  {
   "cell_type": "code",
   "execution_count": 34,
   "id": "7eb091df-d020-4fae-8745-b4e4dbd04de1",
   "metadata": {},
   "outputs": [],
   "source": [
    "def process_category(state):\n",
    "    category_reasoning = state['reasoning'][state['current_index']]\n",
    "    current_category = category_reasoning['Category'].lower()\n",
    "    category_of_interest = [\"food & drinks\",\"shopping\",\"commute\",\"groceries\",\"entertainment\"]\n",
    "    if current_category not in category_of_interest:\n",
    "        return state\n",
    "    # state[\"current_category\"] = current_category\n",
    "    print(current_category)\n",
    "    markdown = get_data_cuts_for_category(current_category)\n",
    "    if markdown == \"\":\n",
    "        return state\n",
    "    #print(markdown)\n",
    "    response = strategy_chain.invoke({\"markdown\":markdown, \"category\":current_category })\n",
    "    #print(response.dict())\n",
    "    #print()\n",
    "    response_dict = response.dict()\n",
    "    response_dict['category'] = current_category\n",
    "    return {\"strategy\":[response_dict]}"
   ]
  },
  {
   "cell_type": "code",
   "execution_count": 35,
   "id": "2957a67f-677c-485b-9e86-5b918177a0e7",
   "metadata": {},
   "outputs": [],
   "source": [
    "def process_category(state):\n",
    "    category_reasoning = state['reasoning'][state['current_index']]\n",
    "    current_category = category_reasoning['Category'].lower()\n",
    "    category_of_interest = [\"food & drinks\",\"shopping\",\"commute\",\"groceries\",\"entertainment\"]\n",
    "    if current_category not in category_of_interest:\n",
    "        return {\"strategy\":[]}\n",
    "    # state[\"current_category\"] = current_category\n",
    "    #print(current_category)\n",
    "    markdown = get_data_cuts_for_category(current_category)\n",
    "    if markdown == \"\":\n",
    "        return {\"strategy\":[]}\n",
    "    #print(markdown)\n",
    "    response = strategy_chain.invoke({\"markdown\":markdown, \"category\":current_category })\n",
    "    #print(response.dict())\n",
    "    #print()\n",
    "    response_dict = response.dict()\n",
    "    response_dict['category'] = current_category\n",
    "    return {\"strategy\":[response_dict]}"
   ]
  },
  {
   "cell_type": "code",
   "execution_count": null,
   "id": "3ce6c1e3-60ea-4f36-a91c-fac40bc3f377",
   "metadata": {},
   "outputs": [],
   "source": []
  },
  {
   "cell_type": "code",
   "execution_count": 36,
   "id": "a333fb68-d192-4ee3-86a7-e09930adfe83",
   "metadata": {},
   "outputs": [],
   "source": [
    "from langgraph.graph import END, StateGraph, START\n",
    "from langgraph.graph.message import add_messages\n",
    "from langchain_core.messages import BaseMessage, AIMessage\n",
    "import operator\n",
    "from typing import Annotated\n",
    "from typing_extensions import TypedDict\n",
    "import pandas as pd\n",
    "from typing import TypedDict, List, Dict\n",
    "\n",
    "\n",
    "\n",
    "class AgentState(TypedDict):\n",
    "    reasoning: List[CategoryReasoning]\n",
    "    current_index: int\n",
    "    strategy : Annotated[list, operator.add]"
   ]
  },
  {
   "cell_type": "code",
   "execution_count": 37,
   "id": "120adb81-e616-4819-94f1-2bc79d5e6da6",
   "metadata": {},
   "outputs": [],
   "source": [
    "workflow = StateGraph(AgentState)\n",
    "\n",
    "workflow.add_node(\"Reasoning\", get_savings_strategies)\n",
    "workflow.add_node(\"CategorySelector\", category_selector)\n",
    "workflow.add_node(\"CategoryProcessor\", process_category)\n",
    "\n",
    "# workflow.add_node(\"filter_generator\", txn_data_fetcher.respond)\n",
    "# workflow.add_node(\"fetch_data\", invoke_get_txn_data_tool)\n",
    "\n",
    "\n",
    "workflow.set_entry_point(\"Reasoning\")\n",
    "workflow.add_edge(\"Reasoning\", \"CategorySelector\")\n",
    "workflow.add_conditional_edges(\"CategorySelector\", category_router)\n",
    "workflow.add_edge(\"CategoryProcessor\", \"CategorySelector\")\n",
    "\n",
    "graph = workflow.compile()"
   ]
  },
  {
   "cell_type": "code",
   "execution_count": 38,
   "id": "0e4f2dda-3215-417c-879d-db44336f1173",
   "metadata": {},
   "outputs": [
    {
     "data": {
      "image/jpeg": "[encoded data removed]",
      "text/plain": [
       "<IPython.core.display.Image object>"
      ]
     },
     "metadata": {},
     "output_type": "display_data"
    }
   ],
   "source": [
    "from IPython.display import Image, display\n",
    "display(Image(graph.get_graph(xray=True).draw_mermaid_png()))"
   ]
  },
  {
   "cell_type": "code",
   "execution_count": null,
   "id": "8f33106a-3093-48a5-aece-a8fdbb85bf13",
   "metadata": {},
   "outputs": [],
   "source": []
  },
  {
   "cell_type": "code",
   "execution_count": null,
   "id": "79555b19-2ee1-408e-8ecb-97de321e1b5e",
   "metadata": {},
   "outputs": [],
   "source": []
  },
  {
   "cell_type": "code",
   "execution_count": 39,
   "id": "5ffe40b0-6d04-4e99-8ae0-f7bd43288b39",
   "metadata": {},
   "outputs": [],
   "source": [
    "# user_id = \"df50566f-b08e-43eb-9a96-960ad2923b6d\"\n",
    "# user_id = \"08e99fcc-070a-406e-9c21-214b9db362fa\"\n",
    "# user_id = \"e8291bc7-3eaf-434f-9a15-26091d02aae4\"\n",
    "# out = graph.invoke({\"strategy\":[]})"
   ]
  },
  {
   "cell_type": "code",
   "execution_count": 40,
   "id": "7f67b492-d606-4b42-8603-ed618b08574d",
   "metadata": {},
   "outputs": [],
   "source": [
    "# out['strategy']"
   ]
  },
  {
   "cell_type": "code",
   "execution_count": 41,
   "id": "1e957ab7-5837-4516-a5af-375cf89d4374",
   "metadata": {},
   "outputs": [],
   "source": [
    "# user_ids = aug_all_user_data['user_id'].unique().tolist()"
   ]
  },
  {
   "cell_type": "code",
   "execution_count": 42,
   "id": "4b4dca11-7853-485e-8f7c-654386858ae3",
   "metadata": {},
   "outputs": [
    {
     "name": "stdout",
     "output_type": "stream",
     "text": [
      "Getting startegy for user_id: 5ad22554-c92b-4aa9-bdbf-ba41ba39237a\n",
      "{'reasoning': [{'Category': 'bills & utilities', 'savings_explanation': 'The spending has significantly decreased from last month (INR 3999 to INR 1440). This indicates that there might be opportunities to further reduce utility expenses, possibly by reviewing service providers or eliminating unnecessary subscriptions.'}, {'Category': 'travel', 'savings_explanation': \"There are new travel expenses this month (INR 4132) compared to last month (INR 0). It's essential to evaluate if these trips were necessary or if cheaper alternatives (like public transport or less expensive accommodations) could have been utilized.\"}, {'Category': 'shopping', 'savings_explanation': 'Spending on shopping increased from INR 541 to INR 6033. This spike suggests that there may have been impulsive buys. Implementing a strict budget or shopping list could help in controlling unnecessary spending.'}, {'Category': 'money transfers', 'savings_explanation': 'The money transfers have drastically decreased from INR 72285 to INR 14611. This presents an opportunity to analyze why such high transfers were made last month and if those funds could have been utilized more efficiently.'}, {'Category': 'food & drinks', 'savings_explanation': 'Expenditure in this category reduced from INR 11033 to INR 5924. While this is a positive trend, further savings could be achieved by meal planning and cooking at home instead of dining out.'}, {'Category': 'commute', 'savings_explanation': 'There was a significant decrease in commute expenses from INR 1601 to INR 90. This presents a chance to evaluate if there are additional savings opportunities, such as carpooling or using public transport more often.'}, {'Category': 'uncategorised', 'savings_explanation': 'The uncategorized spending surged from INR 6609 to INR 233204. This suggests a lack of clarity in where money is being spent. Categorizing these expenses can help identify areas of potential savings and track spending behavior more efficiently.'}], 'current_index': 7, 'strategy': []}\n"
     ]
    }
   ],
   "source": [
    "user_ids = [\"df50566f-b08e-43eb-9a96-960ad2923b6d\", \"08e99fcc-070a-406e-9c21-214b9db362fa\", \"e8291bc7-3eaf-434f-9a15-26091d02aae4\"]\n",
    "user_ids = aug_all_user_data['user_id'].unique().tolist()\n",
    "user_ids = [\"5ad22554-c92b-4aa9-bdbf-ba41ba39237a\"]\n",
    "\n",
    "all_user_data = []\n",
    "for local_user_id in user_ids:\n",
    "    print(\"Getting startegy for user_id:\", local_user_id)\n",
    "    global user_id\n",
    "    user_id = local_user_id\n",
    "    try:\n",
    "        out = graph.invoke({\"strategy\":[]})\n",
    "        print(out)\n",
    "        strategy_dict = {}\n",
    "        for ele in out['strategy']:\n",
    "            strategy_dict['user_id'] = user_id\n",
    "            strategy_dict[ele[\"category\"]] = {\n",
    "                \"observations\" : ele[\"observations\"],\n",
    "                \"assumptions\" : ele[\"assumptions\"],\n",
    "                \"strategy\" : ele[\"strategy\"],\n",
    "                \"info_needed\" :  ele[\"info_needed\"]\n",
    "            }\n",
    "        all_user_data.append(strategy_dict)\n",
    "    except:\n",
    "        continue"
   ]
  },
  {
   "cell_type": "code",
   "execution_count": 43,
   "id": "44c37a86-7aff-4edf-835d-b5e671fdd5c7",
   "metadata": {},
   "outputs": [
    {
     "data": {
      "text/plain": [
       "[{}]"
      ]
     },
     "execution_count": 43,
     "metadata": {},
     "output_type": "execute_result"
    }
   ],
   "source": [
    "all_user_data"
   ]
  },
  {
   "cell_type": "code",
   "execution_count": 44,
   "id": "eddb9aea-d0a4-47fd-bb01-18e0b6220fab",
   "metadata": {},
   "outputs": [],
   "source": [
    "pd.json_normalize(all_user_data).to_csv(\"./pfm_user_data_3.csv\", index = False)"
   ]
  },
  {
   "cell_type": "code",
   "execution_count": null,
   "id": "12a47e50-014c-4cea-af11-f8bb482b18d6",
   "metadata": {},
   "outputs": [],
   "source": []
  },
  {
   "cell_type": "code",
   "execution_count": null,
   "id": "d9871590-5c4b-40b5-b2ab-3fa826f727e5",
   "metadata": {},
   "outputs": [],
   "source": []
  },
  {
   "cell_type": "code",
   "execution_count": null,
   "id": "17df28e5-7026-4b2e-92a4-43496927bc63",
   "metadata": {},
   "outputs": [],
   "source": []
  },
  {
   "cell_type": "code",
   "execution_count": null,
   "id": "1733d058-4741-4f42-83f8-69c30ed01aac",
   "metadata": {},
   "outputs": [],
   "source": []
  },
  {
   "cell_type": "code",
   "execution_count": null,
   "id": "9c22a6da-f453-47f2-8212-3a736d9c7fe0",
   "metadata": {},
   "outputs": [],
   "source": []
  },
  {
   "cell_type": "code",
   "execution_count": null,
   "id": "e34cf034-d1fc-49b0-b89b-29afe92649df",
   "metadata": {},
   "outputs": [],
   "source": []
  },
  {
   "cell_type": "code",
   "execution_count": null,
   "id": "2239c512-ed27-4118-9fc8-263c3f920900",
   "metadata": {},
   "outputs": [],
   "source": []
  },
  {
   "cell_type": "code",
   "execution_count": 70,
   "id": "59f9f306-1a8c-464a-a236-e056e0f10fc2",
   "metadata": {},
   "outputs": [],
   "source": [
    "# strategy_dict = {}\n",
    "# for ele in out['strategy']:\n",
    "#     strategy_dict['user_id'] = user_id\n",
    "#     strategy_dict[ele[\"category\"]] = {\n",
    "#         \"observations\" : ele[\"category\"],\n",
    "#         \"assumptions\" : ele[\"assumptions\"],\n",
    "#         \"strategy\" : ele[\"strategy\"],\n",
    "#         \"info_needed\" : : ele[\"strategy\"]\n",
    "#     }"
   ]
  },
  {
   "cell_type": "code",
   "execution_count": 246,
   "id": "d16ecec3-699f-49d6-932b-6787582d0404",
   "metadata": {},
   "outputs": [
    {
     "data": {
      "text/plain": [
       "4"
      ]
     },
     "execution_count": 246,
     "metadata": {},
     "output_type": "execute_result"
    }
   ],
   "source": [
    "len(out['strategy'])"
   ]
  },
  {
   "cell_type": "code",
   "execution_count": null,
   "id": "a5b49f99-e083-4dc7-8ff8-5a2ed0fe7a4f",
   "metadata": {},
   "outputs": [],
   "source": []
  },
  {
   "cell_type": "code",
   "execution_count": 45,
   "id": "04eac18f-f9ad-4812-b979-02cc597a1f3a",
   "metadata": {},
   "outputs": [
    {
     "name": "stdout",
     "output_type": "stream",
     "text": [
      "\n"
     ]
    }
   ],
   "source": [
    "user_id = \"5ad22554-c92b-4aa9-bdbf-ba41ba39237a\"\n",
    "print(get_data_cuts_for_category(\"food & drinks\"))"
   ]
  },
  {
   "cell_type": "code",
   "execution_count": null,
   "id": "66a64faa-8c9e-403c-8eb8-1e3655dffab0",
   "metadata": {},
   "outputs": [],
   "source": []
  },
  {
   "cell_type": "code",
   "execution_count": null,
   "id": "fbd98775-82a0-4b87-b4e4-fc7b4e810301",
   "metadata": {},
   "outputs": [],
   "source": []
  },
  {
   "cell_type": "code",
   "execution_count": 226,
   "id": "c58c12c9-bbec-4c10-bf8f-5ad3707fbab6",
   "metadata": {},
   "outputs": [
    {
     "name": "stdout",
     "output_type": "stream",
     "text": [
      "Step 0\n",
      "Step 1\n",
      "Step 2\n",
      "food & drinks\n",
      "Step 3\n",
      "Step 4\n",
      "groceries\n",
      "Step 5\n",
      "Step 6\n",
      "rent\n",
      "Step 7\n",
      "Step 8\n",
      "uncategorised\n",
      "Step 9\n",
      "Step 10\n"
     ]
    }
   ],
   "source": [
    "from langchain_core.messages import HumanMessage\n",
    "# question = \"can you look at my transaction and tell me how can I reduce my monthly expenses?\"\n",
    "events = graph.stream({\"reasoning\":[]},\n",
    "    stream_mode=\"values\"\n",
    ")\n",
    "\n",
    "\n",
    "for i, step in enumerate(events):\n",
    "    print(f\"Step {i}\")\n",
    "    #if i > 0:\n",
    "        #print(step)\n",
    "        #mod_step[-1].pretty_print()"
   ]
  },
  {
   "cell_type": "code",
   "execution_count": 68,
   "id": "db4c8760-ac5c-4676-b59e-fdb7c61a68c4",
   "metadata": {},
   "outputs": [
    {
     "name": "stdout",
     "output_type": "stream",
     "text": [
      "Step 0\n",
      "content='' additional_kwargs={'tool_calls': [{'id': 'call_9T73sZfTrSzdzLyJgcqA93w5', 'function': {'arguments': '{\"reasoning\": [{\"Category\": \"edge card bill\", \"savings_explanation\": \"This category shows a significant decrease in spending (from 10883 to 4893). This suggests an opportunity to further reduce reliance on this credit option or explore better alternatives for any ongoing payments that could be paid off in full to avoid future interest.\"}, {\"Category\": \"food & drinks\", \"savings_explanation\": \"Spending has increased from 179 to 2627. This is a substantial rise, indicating a potential area to monitor closely, as it may reflect more frequent dining out or excessive takeout. Encouraging meal prep or dining at home can help reduce costs.\"}, {\"Category\": \"groceries\", \"savings_explanation\": \"Groceries have seen a rise in spending from 125 to 1479. This indicates increased purchasing, which could be streamlined by planning meals, using shopping lists, or taking advantage of discounts and bulk buying.\"}, {\"Category\": \"household\", \"savings_explanation\": \"There was a complete drop to 0 from 11219 last month. This may indicate a lack of necessary purchases or a delay in spending. It would be wise to evaluate what household items are essential to ensure future needs are met without overspending.\"}, {\"Category\": \"loans\", \"savings_explanation\": \"The loans category has seen a complete drop to 0 from 29778. This could indicate that previous debts have been settled, which is good, but it\\'s essential to ensure that no new loans are taken on unless absolutely necessary.\"}, {\"Category\": \"travel\", \"savings_explanation\": \"Although spending is minimal at 75 this month, it has increased from 0 last month. It\\'s important to reassess travel plans and expenses to ensure they fit within a budget and to consider cheaper alternatives or postponing trips.\"}, {\"Category\": \"uncategorised\", \"savings_explanation\": \"This category saw a significant rise in spending from 27749 to 88590. This indicates a lack of budgeting or tracking in specific areas. It’s essential to categorize these expenses to identify where cuts can be made.\"}]}', 'name': 'Reasoning'}, 'type': 'function'}]} response_metadata={'token_usage': {'completion_tokens': 440, 'prompt_tokens': 760, 'total_tokens': 1200, 'completion_tokens_details': {'reasoning_tokens': 0}}, 'model_name': 'gpt-4o-mini-2024-07-18', 'system_fingerprint': 'fp_e9627b5346', 'finish_reason': 'tool_calls', 'logprobs': None} id='run-c6e51a80-d525-4eeb-adff-eea197ea7d4a-0' tool_calls=[{'name': 'Reasoning', 'args': {'reasoning': [{'Category': 'edge card bill', 'savings_explanation': 'This category shows a significant decrease in spending (from 10883 to 4893). This suggests an opportunity to further reduce reliance on this credit option or explore better alternatives for any ongoing payments that could be paid off in full to avoid future interest.'}, {'Category': 'food & drinks', 'savings_explanation': 'Spending has increased from 179 to 2627. This is a substantial rise, indicating a potential area to monitor closely, as it may reflect more frequent dining out or excessive takeout. Encouraging meal prep or dining at home can help reduce costs.'}, {'Category': 'groceries', 'savings_explanation': 'Groceries have seen a rise in spending from 125 to 1479. This indicates increased purchasing, which could be streamlined by planning meals, using shopping lists, or taking advantage of discounts and bulk buying.'}, {'Category': 'household', 'savings_explanation': 'There was a complete drop to 0 from 11219 last month. This may indicate a lack of necessary purchases or a delay in spending. It would be wise to evaluate what household items are essential to ensure future needs are met without overspending.'}, {'Category': 'loans', 'savings_explanation': \"The loans category has seen a complete drop to 0 from 29778. This could indicate that previous debts have been settled, which is good, but it's essential to ensure that no new loans are taken on unless absolutely necessary.\"}, {'Category': 'travel', 'savings_explanation': \"Although spending is minimal at 75 this month, it has increased from 0 last month. It's important to reassess travel plans and expenses to ensure they fit within a budget and to consider cheaper alternatives or postponing trips.\"}, {'Category': 'uncategorised', 'savings_explanation': 'This category saw a significant rise in spending from 27749 to 88590. This indicates a lack of budgeting or tracking in specific areas. It’s essential to categorize these expenses to identify where cuts can be made.'}]}, 'id': 'call_9T73sZfTrSzdzLyJgcqA93w5', 'type': 'tool_call'}] usage_metadata={'input_tokens': 760, 'output_tokens': 440, 'total_tokens': 1200}\n",
      "Step 1\n",
      "{'insights': [AIMessage(content='', additional_kwargs={'tool_calls': [{'id': 'call_9T73sZfTrSzdzLyJgcqA93w5', 'function': {'arguments': '{\"reasoning\": [{\"Category\": \"edge card bill\", \"savings_explanation\": \"This category shows a significant decrease in spending (from 10883 to 4893). This suggests an opportunity to further reduce reliance on this credit option or explore better alternatives for any ongoing payments that could be paid off in full to avoid future interest.\"}, {\"Category\": \"food & drinks\", \"savings_explanation\": \"Spending has increased from 179 to 2627. This is a substantial rise, indicating a potential area to monitor closely, as it may reflect more frequent dining out or excessive takeout. Encouraging meal prep or dining at home can help reduce costs.\"}, {\"Category\": \"groceries\", \"savings_explanation\": \"Groceries have seen a rise in spending from 125 to 1479. This indicates increased purchasing, which could be streamlined by planning meals, using shopping lists, or taking advantage of discounts and bulk buying.\"}, {\"Category\": \"household\", \"savings_explanation\": \"There was a complete drop to 0 from 11219 last month. This may indicate a lack of necessary purchases or a delay in spending. It would be wise to evaluate what household items are essential to ensure future needs are met without overspending.\"}, {\"Category\": \"loans\", \"savings_explanation\": \"The loans category has seen a complete drop to 0 from 29778. This could indicate that previous debts have been settled, which is good, but it\\'s essential to ensure that no new loans are taken on unless absolutely necessary.\"}, {\"Category\": \"travel\", \"savings_explanation\": \"Although spending is minimal at 75 this month, it has increased from 0 last month. It\\'s important to reassess travel plans and expenses to ensure they fit within a budget and to consider cheaper alternatives or postponing trips.\"}, {\"Category\": \"uncategorised\", \"savings_explanation\": \"This category saw a significant rise in spending from 27749 to 88590. This indicates a lack of budgeting or tracking in specific areas. It’s essential to categorize these expenses to identify where cuts can be made.\"}]}', 'name': 'Reasoning'}, 'type': 'function'}]}, response_metadata={'token_usage': {'completion_tokens': 440, 'prompt_tokens': 760, 'total_tokens': 1200, 'completion_tokens_details': {'reasoning_tokens': 0}}, 'model_name': 'gpt-4o-mini-2024-07-18', 'system_fingerprint': 'fp_e9627b5346', 'finish_reason': 'tool_calls', 'logprobs': None}, id='run-c6e51a80-d525-4eeb-adff-eea197ea7d4a-0', tool_calls=[{'name': 'Reasoning', 'args': {'reasoning': [{'Category': 'edge card bill', 'savings_explanation': 'This category shows a significant decrease in spending (from 10883 to 4893). This suggests an opportunity to further reduce reliance on this credit option or explore better alternatives for any ongoing payments that could be paid off in full to avoid future interest.'}, {'Category': 'food & drinks', 'savings_explanation': 'Spending has increased from 179 to 2627. This is a substantial rise, indicating a potential area to monitor closely, as it may reflect more frequent dining out or excessive takeout. Encouraging meal prep or dining at home can help reduce costs.'}, {'Category': 'groceries', 'savings_explanation': 'Groceries have seen a rise in spending from 125 to 1479. This indicates increased purchasing, which could be streamlined by planning meals, using shopping lists, or taking advantage of discounts and bulk buying.'}, {'Category': 'household', 'savings_explanation': 'There was a complete drop to 0 from 11219 last month. This may indicate a lack of necessary purchases or a delay in spending. It would be wise to evaluate what household items are essential to ensure future needs are met without overspending.'}, {'Category': 'loans', 'savings_explanation': \"The loans category has seen a complete drop to 0 from 29778. This could indicate that previous debts have been settled, which is good, but it's essential to ensure that no new loans are taken on unless absolutely necessary.\"}, {'Category': 'travel', 'savings_explanation': \"Although spending is minimal at 75 this month, it has increased from 0 last month. It's important to reassess travel plans and expenses to ensure they fit within a budget and to consider cheaper alternatives or postponing trips.\"}, {'Category': 'uncategorised', 'savings_explanation': 'This category saw a significant rise in spending from 27749 to 88590. This indicates a lack of budgeting or tracking in specific areas. It’s essential to categorize these expenses to identify where cuts can be made.'}]}, 'id': 'call_9T73sZfTrSzdzLyJgcqA93w5', 'type': 'tool_call'}], usage_metadata={'input_tokens': 760, 'output_tokens': 440, 'total_tokens': 1200})], 'intermediate_steps': [], 'error': [], 'temp': ''}\n"
     ]
    },
    {
     "ename": "IndexError",
     "evalue": "list index out of range",
     "output_type": "error",
     "traceback": [
      "\u001b[0;31m---------------------------------------------------------------------------\u001b[0m",
      "\u001b[0;31mIndexError\u001b[0m                                Traceback (most recent call last)",
      "Cell \u001b[0;32mIn[68], line 13\u001b[0m\n\u001b[1;32m     11\u001b[0m \u001b[38;5;28mprint\u001b[39m(step)\n\u001b[1;32m     12\u001b[0m mod_step \u001b[38;5;241m=\u001b[39m step[\u001b[38;5;124m'\u001b[39m\u001b[38;5;124mintermediate_steps\u001b[39m\u001b[38;5;124m'\u001b[39m]\n\u001b[0;32m---> 13\u001b[0m \u001b[43mmod_step\u001b[49m\u001b[43m[\u001b[49m\u001b[38;5;241;43m-\u001b[39;49m\u001b[38;5;241;43m1\u001b[39;49m\u001b[43m]\u001b[49m\u001b[38;5;241m.\u001b[39mpretty_print()\n",
      "\u001b[0;31mIndexError\u001b[0m: list index out of range"
     ]
    }
   ],
   "source": [
    "from langchain_core.messages import HumanMessage\n",
    "# question = \"can you look at my transaction and tell me how can I reduce my monthly expenses?\"\n",
    "events = graph.stream({\"temp\":\"\", \"error\":[]},\n",
    "    stream_mode=\"values\"\n",
    ")\n",
    "\n",
    "\n",
    "for i, step in enumerate(events):\n",
    "    print(f\"Step {i}\")\n",
    "    if i > 0:\n",
    "        print(step)\n",
    "        mod_step = step['intermediate_steps']\n",
    "        mod_step[-1].pretty_print()"
   ]
  },
  {
   "cell_type": "code",
   "execution_count": 63,
   "id": "1bc845ff-c650-456d-a9bc-c3170296ac24",
   "metadata": {},
   "outputs": [],
   "source": [
    "# col_intr = ['transactionDateTime','transactionAmount', 'payer', 'category']\n",
    "# df[col_intr]"
   ]
  },
  {
   "cell_type": "code",
   "execution_count": 53,
   "id": "55b013f5-c37d-4612-9f47-fa0115c59451",
   "metadata": {},
   "outputs": [
    {
     "data": {
      "text/plain": [
       "Index(['mmUUID', 'customerID', 'accountID', 'jupiterTransactionID',\n",
       "       'bankTransactionReference', 'creditDebitIndicator',\n",
       "       'transactionDateTime', 'transactionStatus', 'reconStatus',\n",
       "       'transactionAmount', 'transactionChannel', 'transactionType',\n",
       "       'transactionExpiry', 'payer', 'payerParticulars', 'payee',\n",
       "       'payeeParticulars', 'merchant', 'merchantLogo', 'category',\n",
       "       'categoryLogo', 'subCategory', 'bankName', 'product', 'location',\n",
       "       'tags', 'note', 'remarks', 'receipts', 'fraudDeclineCode',\n",
       "       'fraudParticulars', 'adaParticulars', 'suggestedTags', 'mandateID',\n",
       "       'mandateParticulars', 'attachedService', 'lineOfTransaction',\n",
       "       'clearanceStatus', 'responseCode', 'declineCode',\n",
       "       'categorisationMetadata', 'initiationMode', 'modelCategory',\n",
       "       'parentTransactionID', 'isUserUpdatedCategory', 'transactionLocation',\n",
       "       'internationalTransactionMetaData', 'acquirerReferenceNumber',\n",
       "       'applicationProvider', 'mccCode', 'payerPayeeRelation'],\n",
       "      dtype='object')"
      ]
     },
     "execution_count": 53,
     "metadata": {},
     "output_type": "execute_result"
    }
   ],
   "source": [
    "df.columns"
   ]
  },
  {
   "cell_type": "code",
   "execution_count": 71,
   "id": "8fb20b05-518b-4531-ac42-709a439fb386",
   "metadata": {},
   "outputs": [
    {
     "data": {
      "text/html": [
       "<div>\n",
       "<style scoped>\n",
       "    .dataframe tbody tr th:only-of-type {\n",
       "        vertical-align: middle;\n",
       "    }\n",
       "\n",
       "    .dataframe tbody tr th {\n",
       "        vertical-align: top;\n",
       "    }\n",
       "\n",
       "    .dataframe thead th {\n",
       "        text-align: right;\n",
       "    }\n",
       "</style>\n",
       "<table border=\"1\" class=\"dataframe\">\n",
       "  <thead>\n",
       "    <tr style=\"text-align: right;\">\n",
       "      <th></th>\n",
       "      <th>transactionDateTime</th>\n",
       "      <th>transactionAmount</th>\n",
       "      <th>payee</th>\n",
       "      <th>category</th>\n",
       "    </tr>\n",
       "  </thead>\n",
       "  <tbody>\n",
       "    <tr>\n",
       "      <th>135</th>\n",
       "      <td>2024-08-10T12:49:16.812774Z</td>\n",
       "      <td>75.0</td>\n",
       "      <td>kasthuri m</td>\n",
       "      <td>travel</td>\n",
       "    </tr>\n",
       "    <tr>\n",
       "      <th>15</th>\n",
       "      <td>2024-08-20T00:00:00Z</td>\n",
       "      <td>43000.0</td>\n",
       "      <td>mangukia a</td>\n",
       "      <td>rent</td>\n",
       "    </tr>\n",
       "    <tr>\n",
       "      <th>147</th>\n",
       "      <td>2024-07-06T00:00:00Z</td>\n",
       "      <td>30.0</td>\n",
       "      <td>cssailokesh200-</td>\n",
       "      <td>uncategorised</td>\n",
       "    </tr>\n",
       "    <tr>\n",
       "      <th>97</th>\n",
       "      <td>2024-07-03T14:23:17.348580Z</td>\n",
       "      <td>203.0</td>\n",
       "      <td>geddit convenience private limited</td>\n",
       "      <td>groceries</td>\n",
       "    </tr>\n",
       "    <tr>\n",
       "      <th>47</th>\n",
       "      <td>2024-07-03T04:03:26.113541Z</td>\n",
       "      <td>5000.0</td>\n",
       "      <td>nippon india mutual fund - sip</td>\n",
       "      <td>investments</td>\n",
       "    </tr>\n",
       "    <tr>\n",
       "      <th>54</th>\n",
       "      <td>2024-08-27T17:36:46.416083Z</td>\n",
       "      <td>5000.0</td>\n",
       "      <td>dhameliya vatsalkumar nareshbhai</td>\n",
       "      <td>self transfers</td>\n",
       "    </tr>\n",
       "    <tr>\n",
       "      <th>100</th>\n",
       "      <td>2024-08-25T17:43:44.855862Z</td>\n",
       "      <td>180.0</td>\n",
       "      <td>mahesha d s</td>\n",
       "      <td>groceries</td>\n",
       "    </tr>\n",
       "    <tr>\n",
       "      <th>133</th>\n",
       "      <td>2024-08-20T16:05:56.165897Z</td>\n",
       "      <td>80.0</td>\n",
       "      <td>mahesha d s</td>\n",
       "      <td>groceries</td>\n",
       "    </tr>\n",
       "    <tr>\n",
       "      <th>70</th>\n",
       "      <td>2024-08-19T18:30:24.520653Z</td>\n",
       "      <td>3601.0</td>\n",
       "      <td>henil bharatbhai patel</td>\n",
       "      <td>uncategorised</td>\n",
       "    </tr>\n",
       "    <tr>\n",
       "      <th>57</th>\n",
       "      <td>2024-07-03T01:01:15Z</td>\n",
       "      <td>5000.0</td>\n",
       "      <td>motilal oswal mutual fund - sip</td>\n",
       "      <td>investments</td>\n",
       "    </tr>\n",
       "  </tbody>\n",
       "</table>\n",
       "</div>"
      ],
      "text/plain": [
       "             transactionDateTime  transactionAmount  \\\n",
       "135  2024-08-10T12:49:16.812774Z               75.0   \n",
       "15          2024-08-20T00:00:00Z            43000.0   \n",
       "147         2024-07-06T00:00:00Z               30.0   \n",
       "97   2024-07-03T14:23:17.348580Z              203.0   \n",
       "47   2024-07-03T04:03:26.113541Z             5000.0   \n",
       "54   2024-08-27T17:36:46.416083Z             5000.0   \n",
       "100  2024-08-25T17:43:44.855862Z              180.0   \n",
       "133  2024-08-20T16:05:56.165897Z               80.0   \n",
       "70   2024-08-19T18:30:24.520653Z             3601.0   \n",
       "57          2024-07-03T01:01:15Z             5000.0   \n",
       "\n",
       "                                  payee        category  \n",
       "135                          kasthuri m          travel  \n",
       "15                           mangukia a            rent  \n",
       "147                     cssailokesh200-   uncategorised  \n",
       "97   geddit convenience private limited       groceries  \n",
       "47       nippon india mutual fund - sip     investments  \n",
       "54     dhameliya vatsalkumar nareshbhai  self transfers  \n",
       "100                         mahesha d s       groceries  \n",
       "133                         mahesha d s       groceries  \n",
       "70               henil bharatbhai patel   uncategorised  \n",
       "57      motilal oswal mutual fund - sip     investments  "
      ]
     },
     "execution_count": 71,
     "metadata": {},
     "output_type": "execute_result"
    }
   ],
   "source": [
    "df.sample(10)"
   ]
  },
  {
   "cell_type": "code",
   "execution_count": null,
   "id": "3596c81e-5515-4b77-b609-ea90d26bfa03",
   "metadata": {},
   "outputs": [],
   "source": []
  }
 ],
 "metadata": {
  "kernelspec": {
   "display_name": "Python 3 (ipykernel)",
   "language": "python",
   "name": "python3"
  },
  "language_info": {
   "codemirror_mode": {
    "name": "ipython",
    "version": 3
   },
   "file_extension": ".py",
   "mimetype": "text/x-python",
   "name": "python",
   "nbconvert_exporter": "python",
   "pygments_lexer": "ipython3",
   "version": "3.11.5"
  }
 },
 "nbformat": 4,
 "nbformat_minor": 5
}
